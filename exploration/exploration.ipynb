{
 "cells": [
  {
   "cell_type": "code",
   "execution_count": 10,
   "metadata": {},
   "outputs": [],
   "source": [
    "import numpy as np\n",
    "import plotly.express as px \n",
    "import plotly.graph_objects as go\n",
    "import pandas as pd \n"
   ]
  },
  {
   "cell_type": "code",
   "execution_count": 11,
   "metadata": {},
   "outputs": [],
   "source": [
    "X=np.load('../data/X.npy')\n",
    "y=np.load('../data/y.npy')"
   ]
  },
  {
   "cell_type": "code",
   "execution_count": 12,
   "metadata": {},
   "outputs": [],
   "source": [
    "labels={0:\"Normal\",\n",
    "        1:'R-on-T PVC',\n",
    "        2:'PVC',\n",
    "        3:'SP or EB',\n",
    "        4:'UB'}"
   ]
  },
  {
   "cell_type": "code",
   "execution_count": 13,
   "metadata": {},
   "outputs": [
    {
     "data": {
      "application/vnd.plotly.v1+json": {
       "config": {
        "plotlyServerURL": "https://plot.ly"
       },
       "data": [
        {
         "alignmentgroup": "True",
         "bingroup": "x",
         "hovertemplate": "x=%{x}<br>count=%{y}<extra></extra>",
         "legendgroup": "",
         "marker": {
          "color": "#636efa",
          "pattern": {
           "shape": ""
          }
         },
         "name": "",
         "nbinsx": 10,
         "offsetgroup": "",
         "orientation": "v",
         "showlegend": false,
         "type": "histogram",
         "x": [
          "Normal",
          "Normal",
          "Normal",
          "Normal",
          "Normal",
          "Normal",
          "Normal",
          "Normal",
          "Normal",
          "Normal",
          "Normal",
          "Normal",
          "Normal",
          "Normal",
          "Normal",
          "Normal",
          "Normal",
          "Normal",
          "Normal",
          "Normal",
          "Normal",
          "Normal",
          "Normal",
          "Normal",
          "Normal",
          "Normal",
          "Normal",
          "Normal",
          "Normal",
          "Normal",
          "Normal",
          "Normal",
          "Normal",
          "Normal",
          "Normal",
          "Normal",
          "Normal",
          "Normal",
          "Normal",
          "Normal",
          "Normal",
          "Normal",
          "Normal",
          "Normal",
          "Normal",
          "Normal",
          "Normal",
          "Normal",
          "Normal",
          "Normal",
          "Normal",
          "Normal",
          "Normal",
          "Normal",
          "Normal",
          "Normal",
          "Normal",
          "Normal",
          "Normal",
          "Normal",
          "Normal",
          "Normal",
          "Normal",
          "Normal",
          "Normal",
          "Normal",
          "Normal",
          "Normal",
          "Normal",
          "Normal",
          "Normal",
          "Normal",
          "Normal",
          "Normal",
          "Normal",
          "Normal",
          "Normal",
          "Normal",
          "Normal",
          "Normal",
          "Normal",
          "Normal",
          "Normal",
          "Normal",
          "Normal",
          "Normal",
          "Normal",
          "Normal",
          "Normal",
          "Normal",
          "Normal",
          "Normal",
          "Normal",
          "Normal",
          "Normal",
          "Normal",
          "Normal",
          "Normal",
          "Normal",
          "Normal",
          "Normal",
          "Normal",
          "Normal",
          "Normal",
          "Normal",
          "Normal",
          "Normal",
          "Normal",
          "Normal",
          "Normal",
          "Normal",
          "Normal",
          "Normal",
          "Normal",
          "Normal",
          "Normal",
          "Normal",
          "Normal",
          "Normal",
          "Normal",
          "Normal",
          "Normal",
          "Normal",
          "Normal",
          "Normal",
          "Normal",
          "Normal",
          "Normal",
          "Normal",
          "Normal",
          "Normal",
          "Normal",
          "Normal",
          "Normal",
          "Normal",
          "Normal",
          "Normal",
          "Normal",
          "Normal",
          "Normal",
          "Normal",
          "Normal",
          "Normal",
          "Normal",
          "Normal",
          "Normal",
          "Normal",
          "Normal",
          "Normal",
          "Normal",
          "Normal",
          "Normal",
          "Normal",
          "Normal",
          "Normal",
          "Normal",
          "Normal",
          "Normal",
          "Normal",
          "Normal",
          "Normal",
          "Normal",
          "Normal",
          "Normal",
          "Normal",
          "Normal",
          "Normal",
          "Normal",
          "Normal",
          "Normal",
          "Normal",
          "Normal",
          "Normal",
          "Normal",
          "Normal",
          "Normal",
          "Normal",
          "Normal",
          "Normal",
          "Normal",
          "Normal",
          "Normal",
          "Normal",
          "Normal",
          "Normal",
          "Normal",
          "Normal",
          "Normal",
          "Normal",
          "Normal",
          "Normal",
          "Normal",
          "Normal",
          "Normal",
          "Normal",
          "Normal",
          "Normal",
          "Normal",
          "Normal",
          "Normal",
          "Normal",
          "Normal",
          "Normal",
          "Normal",
          "Normal",
          "Normal",
          "Normal",
          "Normal",
          "Normal",
          "Normal",
          "Normal",
          "Normal",
          "Normal",
          "Normal",
          "Normal",
          "Normal",
          "Normal",
          "Normal",
          "Normal",
          "Normal",
          "Normal",
          "Normal",
          "Normal",
          "Normal",
          "Normal",
          "Normal",
          "Normal",
          "Normal",
          "Normal",
          "Normal",
          "Normal",
          "Normal",
          "Normal",
          "Normal",
          "Normal",
          "Normal",
          "Normal",
          "Normal",
          "Normal",
          "Normal",
          "Normal",
          "Normal",
          "Normal",
          "Normal",
          "Normal",
          "Normal",
          "Normal",
          "Normal",
          "Normal",
          "Normal",
          "Normal",
          "Normal",
          "Normal",
          "Normal",
          "Normal",
          "Normal",
          "Normal",
          "Normal",
          "Normal",
          "Normal",
          "Normal",
          "Normal",
          "Normal",
          "Normal",
          "Normal",
          "Normal",
          "Normal",
          "Normal",
          "Normal",
          "Normal",
          "Normal",
          "Normal",
          "Normal",
          "Normal",
          "Normal",
          "Normal",
          "Normal",
          "Normal",
          "Normal",
          "Normal",
          "Normal",
          "Normal",
          "Normal",
          "Normal",
          "Normal",
          "Normal",
          "Normal",
          "Normal",
          "Normal",
          "Normal",
          "Normal",
          "Normal",
          "R-on-T PVC",
          "R-on-T PVC",
          "R-on-T PVC",
          "R-on-T PVC",
          "R-on-T PVC",
          "R-on-T PVC",
          "R-on-T PVC",
          "R-on-T PVC",
          "R-on-T PVC",
          "R-on-T PVC",
          "R-on-T PVC",
          "R-on-T PVC",
          "R-on-T PVC",
          "R-on-T PVC",
          "R-on-T PVC",
          "R-on-T PVC",
          "R-on-T PVC",
          "R-on-T PVC",
          "R-on-T PVC",
          "R-on-T PVC",
          "R-on-T PVC",
          "R-on-T PVC",
          "R-on-T PVC",
          "R-on-T PVC",
          "R-on-T PVC",
          "R-on-T PVC",
          "R-on-T PVC",
          "R-on-T PVC",
          "R-on-T PVC",
          "R-on-T PVC",
          "R-on-T PVC",
          "R-on-T PVC",
          "R-on-T PVC",
          "R-on-T PVC",
          "R-on-T PVC",
          "R-on-T PVC",
          "R-on-T PVC",
          "R-on-T PVC",
          "R-on-T PVC",
          "R-on-T PVC",
          "R-on-T PVC",
          "R-on-T PVC",
          "R-on-T PVC",
          "R-on-T PVC",
          "R-on-T PVC",
          "R-on-T PVC",
          "R-on-T PVC",
          "R-on-T PVC",
          "R-on-T PVC",
          "R-on-T PVC",
          "R-on-T PVC",
          "R-on-T PVC",
          "R-on-T PVC",
          "R-on-T PVC",
          "R-on-T PVC",
          "R-on-T PVC",
          "R-on-T PVC",
          "R-on-T PVC",
          "R-on-T PVC",
          "R-on-T PVC",
          "R-on-T PVC",
          "R-on-T PVC",
          "R-on-T PVC",
          "R-on-T PVC",
          "R-on-T PVC",
          "R-on-T PVC",
          "R-on-T PVC",
          "R-on-T PVC",
          "R-on-T PVC",
          "R-on-T PVC",
          "R-on-T PVC",
          "R-on-T PVC",
          "R-on-T PVC",
          "R-on-T PVC",
          "R-on-T PVC",
          "R-on-T PVC",
          "R-on-T PVC",
          "R-on-T PVC",
          "R-on-T PVC",
          "R-on-T PVC",
          "R-on-T PVC",
          "R-on-T PVC",
          "R-on-T PVC",
          "R-on-T PVC",
          "R-on-T PVC",
          "R-on-T PVC",
          "R-on-T PVC",
          "R-on-T PVC",
          "R-on-T PVC",
          "R-on-T PVC",
          "R-on-T PVC",
          "R-on-T PVC",
          "R-on-T PVC",
          "R-on-T PVC",
          "R-on-T PVC",
          "R-on-T PVC",
          "R-on-T PVC",
          "R-on-T PVC",
          "R-on-T PVC",
          "R-on-T PVC",
          "R-on-T PVC",
          "R-on-T PVC",
          "R-on-T PVC",
          "R-on-T PVC",
          "R-on-T PVC",
          "R-on-T PVC",
          "R-on-T PVC",
          "R-on-T PVC",
          "R-on-T PVC",
          "R-on-T PVC",
          "R-on-T PVC",
          "R-on-T PVC",
          "R-on-T PVC",
          "R-on-T PVC",
          "R-on-T PVC",
          "R-on-T PVC",
          "R-on-T PVC",
          "R-on-T PVC",
          "R-on-T PVC",
          "R-on-T PVC",
          "R-on-T PVC",
          "R-on-T PVC",
          "R-on-T PVC",
          "R-on-T PVC",
          "R-on-T PVC",
          "R-on-T PVC",
          "R-on-T PVC",
          "R-on-T PVC",
          "R-on-T PVC",
          "R-on-T PVC",
          "R-on-T PVC",
          "R-on-T PVC",
          "R-on-T PVC",
          "R-on-T PVC",
          "R-on-T PVC",
          "R-on-T PVC",
          "R-on-T PVC",
          "R-on-T PVC",
          "R-on-T PVC",
          "R-on-T PVC",
          "R-on-T PVC",
          "R-on-T PVC",
          "R-on-T PVC",
          "R-on-T PVC",
          "R-on-T PVC",
          "R-on-T PVC",
          "R-on-T PVC",
          "R-on-T PVC",
          "R-on-T PVC",
          "R-on-T PVC",
          "R-on-T PVC",
          "R-on-T PVC",
          "R-on-T PVC",
          "R-on-T PVC",
          "R-on-T PVC",
          "R-on-T PVC",
          "R-on-T PVC",
          "R-on-T PVC",
          "R-on-T PVC",
          "R-on-T PVC",
          "R-on-T PVC",
          "R-on-T PVC",
          "R-on-T PVC",
          "R-on-T PVC",
          "R-on-T PVC",
          "R-on-T PVC",
          "R-on-T PVC",
          "R-on-T PVC",
          "R-on-T PVC",
          "R-on-T PVC",
          "R-on-T PVC",
          "R-on-T PVC",
          "R-on-T PVC",
          "R-on-T PVC",
          "R-on-T PVC",
          "R-on-T PVC",
          "R-on-T PVC",
          "PVC",
          "PVC",
          "PVC",
          "PVC",
          "PVC",
          "PVC",
          "PVC",
          "PVC",
          "PVC",
          "PVC",
          "SP or EB",
          "SP or EB",
          "SP or EB",
          "SP or EB",
          "SP or EB",
          "SP or EB",
          "SP or EB",
          "SP or EB",
          "SP or EB",
          "SP or EB",
          "SP or EB",
          "SP or EB",
          "SP or EB",
          "SP or EB",
          "SP or EB",
          "SP or EB",
          "SP or EB",
          "SP or EB",
          "SP or EB",
          "UB",
          "UB",
          "Normal",
          "Normal",
          "Normal",
          "Normal",
          "Normal",
          "Normal",
          "Normal",
          "Normal",
          "Normal",
          "Normal",
          "Normal",
          "Normal",
          "Normal",
          "Normal",
          "Normal",
          "Normal",
          "Normal",
          "Normal",
          "Normal",
          "Normal",
          "Normal",
          "Normal",
          "Normal",
          "Normal",
          "Normal",
          "Normal",
          "Normal",
          "Normal",
          "Normal",
          "Normal",
          "Normal",
          "Normal",
          "Normal",
          "Normal",
          "Normal",
          "Normal",
          "Normal",
          "Normal",
          "Normal",
          "Normal",
          "Normal",
          "Normal",
          "Normal",
          "Normal",
          "Normal",
          "Normal",
          "Normal",
          "Normal",
          "Normal",
          "Normal",
          "Normal",
          "Normal",
          "Normal",
          "Normal",
          "Normal",
          "Normal",
          "Normal",
          "Normal",
          "Normal",
          "Normal",
          "Normal",
          "Normal",
          "Normal",
          "Normal",
          "Normal",
          "Normal",
          "Normal",
          "Normal",
          "Normal",
          "Normal",
          "Normal",
          "Normal",
          "Normal",
          "Normal",
          "Normal",
          "Normal",
          "Normal",
          "Normal",
          "Normal",
          "Normal",
          "Normal",
          "Normal",
          "Normal",
          "Normal",
          "Normal",
          "Normal",
          "Normal",
          "Normal",
          "Normal",
          "Normal",
          "Normal",
          "Normal",
          "Normal",
          "Normal",
          "Normal",
          "Normal",
          "Normal",
          "Normal",
          "Normal",
          "Normal",
          "Normal",
          "Normal",
          "Normal",
          "Normal",
          "Normal",
          "Normal",
          "Normal",
          "Normal",
          "Normal",
          "Normal",
          "Normal",
          "Normal",
          "Normal",
          "Normal",
          "Normal",
          "Normal",
          "Normal",
          "Normal",
          "Normal",
          "Normal",
          "Normal",
          "Normal",
          "Normal",
          "Normal",
          "Normal",
          "Normal",
          "Normal",
          "Normal",
          "Normal",
          "Normal",
          "Normal",
          "Normal",
          "Normal",
          "Normal",
          "Normal",
          "Normal",
          "Normal",
          "Normal",
          "Normal",
          "Normal",
          "Normal",
          "Normal",
          "Normal",
          "Normal",
          "Normal",
          "Normal",
          "Normal",
          "Normal",
          "Normal",
          "Normal",
          "Normal",
          "Normal",
          "Normal",
          "Normal",
          "Normal",
          "Normal",
          "Normal",
          "Normal",
          "Normal",
          "Normal",
          "Normal",
          "Normal",
          "Normal",
          "Normal",
          "Normal",
          "Normal",
          "Normal",
          "Normal",
          "Normal",
          "Normal",
          "Normal",
          "Normal",
          "Normal",
          "Normal",
          "Normal",
          "Normal",
          "Normal",
          "Normal",
          "Normal",
          "Normal",
          "Normal",
          "Normal",
          "Normal",
          "Normal",
          "Normal",
          "Normal",
          "Normal",
          "Normal",
          "Normal",
          "Normal",
          "Normal",
          "Normal",
          "Normal",
          "Normal",
          "Normal",
          "Normal",
          "Normal",
          "Normal",
          "Normal",
          "Normal",
          "Normal",
          "Normal",
          "Normal",
          "Normal",
          "Normal",
          "Normal",
          "Normal",
          "Normal",
          "Normal",
          "Normal",
          "Normal",
          "Normal",
          "Normal",
          "Normal",
          "Normal",
          "Normal",
          "Normal",
          "Normal",
          "Normal",
          "Normal",
          "Normal",
          "Normal",
          "Normal",
          "Normal",
          "Normal",
          "Normal",
          "Normal",
          "Normal",
          "Normal",
          "Normal",
          "Normal",
          "Normal",
          "Normal",
          "Normal",
          "Normal",
          "Normal",
          "Normal",
          "Normal",
          "Normal",
          "Normal",
          "Normal",
          "Normal",
          "Normal",
          "Normal",
          "Normal",
          "Normal",
          "Normal",
          "Normal",
          "Normal",
          "Normal",
          "Normal",
          "Normal",
          "Normal",
          "Normal",
          "Normal",
          "Normal",
          "Normal",
          "Normal",
          "Normal",
          "Normal",
          "Normal",
          "Normal",
          "Normal",
          "Normal",
          "Normal",
          "Normal",
          "Normal",
          "Normal",
          "Normal",
          "Normal",
          "Normal",
          "Normal",
          "Normal",
          "Normal",
          "Normal",
          "Normal",
          "Normal",
          "Normal",
          "Normal",
          "Normal",
          "Normal",
          "Normal",
          "Normal",
          "Normal",
          "Normal",
          "Normal",
          "Normal",
          "Normal",
          "Normal",
          "Normal",
          "Normal",
          "Normal",
          "Normal",
          "Normal",
          "Normal",
          "Normal",
          "Normal",
          "Normal",
          "Normal",
          "Normal",
          "Normal",
          "Normal",
          "Normal",
          "Normal",
          "Normal",
          "Normal",
          "Normal",
          "Normal",
          "Normal",
          "Normal",
          "Normal",
          "Normal",
          "Normal",
          "Normal",
          "Normal",
          "Normal",
          "Normal",
          "Normal",
          "Normal",
          "Normal",
          "Normal",
          "Normal",
          "Normal",
          "Normal",
          "Normal",
          "Normal",
          "Normal",
          "Normal",
          "Normal",
          "Normal",
          "Normal",
          "Normal",
          "Normal",
          "Normal",
          "Normal",
          "Normal",
          "Normal",
          "Normal",
          "Normal",
          "Normal",
          "Normal",
          "Normal",
          "Normal",
          "Normal",
          "Normal",
          "Normal",
          "Normal",
          "Normal",
          "Normal",
          "Normal",
          "Normal",
          "Normal",
          "Normal",
          "Normal",
          "Normal",
          "Normal",
          "Normal",
          "Normal",
          "Normal",
          "Normal",
          "Normal",
          "Normal",
          "Normal",
          "Normal",
          "Normal",
          "Normal",
          "Normal",
          "Normal",
          "Normal",
          "Normal",
          "Normal",
          "Normal",
          "Normal",
          "Normal",
          "Normal",
          "Normal",
          "Normal",
          "Normal",
          "Normal",
          "Normal",
          "Normal",
          "Normal",
          "Normal",
          "Normal",
          "Normal",
          "Normal",
          "Normal",
          "Normal",
          "Normal",
          "Normal",
          "Normal",
          "Normal",
          "Normal",
          "Normal",
          "Normal",
          "Normal",
          "Normal",
          "Normal",
          "Normal",
          "Normal",
          "Normal",
          "Normal",
          "Normal",
          "Normal",
          "Normal",
          "Normal",
          "Normal",
          "Normal",
          "Normal",
          "Normal",
          "Normal",
          "Normal",
          "Normal",
          "Normal",
          "Normal",
          "Normal",
          "Normal",
          "Normal",
          "Normal",
          "Normal",
          "Normal",
          "Normal",
          "Normal",
          "Normal",
          "Normal",
          "Normal",
          "Normal",
          "Normal",
          "Normal",
          "Normal",
          "Normal",
          "Normal",
          "Normal",
          "Normal",
          "Normal",
          "Normal",
          "Normal",
          "Normal",
          "Normal",
          "Normal",
          "Normal",
          "Normal",
          "Normal",
          "Normal",
          "Normal",
          "Normal",
          "Normal",
          "Normal",
          "Normal",
          "Normal",
          "Normal",
          "Normal",
          "Normal",
          "Normal",
          "Normal",
          "Normal",
          "Normal",
          "Normal",
          "Normal",
          "Normal",
          "Normal",
          "Normal",
          "Normal",
          "Normal",
          "Normal",
          "Normal",
          "Normal",
          "Normal",
          "Normal",
          "Normal",
          "Normal",
          "Normal",
          "Normal",
          "Normal",
          "Normal",
          "Normal",
          "Normal",
          "Normal",
          "Normal",
          "Normal",
          "Normal",
          "Normal",
          "Normal",
          "Normal",
          "Normal",
          "Normal",
          "Normal",
          "Normal",
          "Normal",
          "Normal",
          "Normal",
          "Normal",
          "Normal",
          "Normal",
          "Normal",
          "Normal",
          "Normal",
          "Normal",
          "Normal",
          "Normal",
          "Normal",
          "Normal",
          "Normal",
          "Normal",
          "Normal",
          "Normal",
          "Normal",
          "Normal",
          "Normal",
          "Normal",
          "Normal",
          "Normal",
          "Normal",
          "Normal",
          "Normal",
          "Normal",
          "Normal",
          "Normal",
          "Normal",
          "Normal",
          "Normal",
          "Normal",
          "Normal",
          "Normal",
          "Normal",
          "Normal",
          "Normal",
          "Normal",
          "Normal",
          "Normal",
          "Normal",
          "Normal",
          "Normal",
          "Normal",
          "Normal",
          "Normal",
          "Normal",
          "Normal",
          "Normal",
          "Normal",
          "Normal",
          "Normal",
          "Normal",
          "Normal",
          "Normal",
          "Normal",
          "Normal",
          "Normal",
          "Normal",
          "Normal",
          "Normal",
          "Normal",
          "Normal",
          "Normal",
          "Normal",
          "Normal",
          "Normal",
          "Normal",
          "Normal",
          "Normal",
          "Normal",
          "Normal",
          "Normal",
          "Normal",
          "Normal",
          "Normal",
          "Normal",
          "Normal",
          "Normal",
          "Normal",
          "Normal",
          "Normal",
          "Normal",
          "Normal",
          "Normal",
          "Normal",
          "Normal",
          "Normal",
          "Normal",
          "Normal",
          "Normal",
          "Normal",
          "Normal",
          "Normal",
          "Normal",
          "Normal",
          "Normal",
          "Normal",
          "Normal",
          "Normal",
          "Normal",
          "Normal",
          "Normal",
          "Normal",
          "Normal",
          "Normal",
          "Normal",
          "Normal",
          "Normal",
          "Normal",
          "Normal",
          "Normal",
          "Normal",
          "Normal",
          "Normal",
          "Normal",
          "Normal",
          "Normal",
          "Normal",
          "Normal",
          "Normal",
          "Normal",
          "Normal",
          "Normal",
          "Normal",
          "Normal",
          "Normal",
          "Normal",
          "Normal",
          "Normal",
          "Normal",
          "Normal",
          "Normal",
          "Normal",
          "Normal",
          "Normal",
          "Normal",
          "Normal",
          "Normal",
          "Normal",
          "Normal",
          "Normal",
          "Normal",
          "Normal",
          "Normal",
          "Normal",
          "Normal",
          "Normal",
          "Normal",
          "Normal",
          "Normal",
          "Normal",
          "Normal",
          "Normal",
          "Normal",
          "Normal",
          "Normal",
          "Normal",
          "Normal",
          "Normal",
          "Normal",
          "Normal",
          "Normal",
          "Normal",
          "Normal",
          "Normal",
          "Normal",
          "Normal",
          "Normal",
          "Normal",
          "Normal",
          "Normal",
          "Normal",
          "Normal",
          "Normal",
          "Normal",
          "Normal",
          "Normal",
          "Normal",
          "Normal",
          "Normal",
          "Normal",
          "Normal",
          "Normal",
          "Normal",
          "Normal",
          "Normal",
          "Normal",
          "Normal",
          "Normal",
          "Normal",
          "Normal",
          "Normal",
          "Normal",
          "Normal",
          "Normal",
          "Normal",
          "Normal",
          "Normal",
          "Normal",
          "Normal",
          "Normal",
          "Normal",
          "Normal",
          "Normal",
          "Normal",
          "Normal",
          "Normal",
          "Normal",
          "Normal",
          "Normal",
          "Normal",
          "Normal",
          "Normal",
          "Normal",
          "Normal",
          "Normal",
          "Normal",
          "Normal",
          "Normal",
          "Normal",
          "Normal",
          "Normal",
          "Normal",
          "Normal",
          "Normal",
          "Normal",
          "Normal",
          "Normal",
          "Normal",
          "Normal",
          "Normal",
          "Normal",
          "Normal",
          "Normal",
          "Normal",
          "Normal",
          "Normal",
          "Normal",
          "Normal",
          "Normal",
          "Normal",
          "Normal",
          "Normal",
          "Normal",
          "Normal",
          "Normal",
          "Normal",
          "Normal",
          "Normal",
          "Normal",
          "Normal",
          "Normal",
          "Normal",
          "Normal",
          "Normal",
          "Normal",
          "Normal",
          "Normal",
          "Normal",
          "Normal",
          "Normal",
          "Normal",
          "Normal",
          "Normal",
          "Normal",
          "Normal",
          "Normal",
          "Normal",
          "Normal",
          "Normal",
          "Normal",
          "Normal",
          "Normal",
          "Normal",
          "Normal",
          "Normal",
          "Normal",
          "Normal",
          "Normal",
          "Normal",
          "Normal",
          "Normal",
          "Normal",
          "Normal",
          "Normal",
          "Normal",
          "Normal",
          "Normal",
          "Normal",
          "Normal",
          "Normal",
          "Normal",
          "Normal",
          "Normal",
          "Normal",
          "Normal",
          "Normal",
          "Normal",
          "Normal",
          "Normal",
          "Normal",
          "Normal",
          "Normal",
          "Normal",
          "Normal",
          "Normal",
          "Normal",
          "Normal",
          "Normal",
          "Normal",
          "Normal",
          "Normal",
          "Normal",
          "Normal",
          "Normal",
          "Normal",
          "Normal",
          "Normal",
          "Normal",
          "Normal",
          "Normal",
          "Normal",
          "Normal",
          "Normal",
          "Normal",
          "Normal",
          "Normal",
          "Normal",
          "Normal",
          "Normal",
          "Normal",
          "Normal",
          "Normal",
          "Normal",
          "Normal",
          "Normal",
          "Normal",
          "Normal",
          "Normal",
          "Normal",
          "Normal",
          "Normal",
          "Normal",
          "Normal",
          "Normal",
          "Normal",
          "Normal",
          "Normal",
          "Normal",
          "Normal",
          "Normal",
          "Normal",
          "Normal",
          "Normal",
          "Normal",
          "Normal",
          "Normal",
          "Normal",
          "Normal",
          "Normal",
          "Normal",
          "Normal",
          "Normal",
          "Normal",
          "Normal",
          "Normal",
          "Normal",
          "Normal",
          "Normal",
          "Normal",
          "Normal",
          "Normal",
          "Normal",
          "Normal",
          "Normal",
          "Normal",
          "Normal",
          "Normal",
          "Normal",
          "Normal",
          "Normal",
          "Normal",
          "Normal",
          "Normal",
          "Normal",
          "Normal",
          "Normal",
          "Normal",
          "Normal",
          "Normal",
          "Normal",
          "Normal",
          "Normal",
          "Normal",
          "Normal",
          "Normal",
          "Normal",
          "Normal",
          "Normal",
          "Normal",
          "Normal",
          "Normal",
          "Normal",
          "Normal",
          "Normal",
          "Normal",
          "Normal",
          "Normal",
          "Normal",
          "Normal",
          "Normal",
          "Normal",
          "Normal",
          "Normal",
          "Normal",
          "Normal",
          "Normal",
          "Normal",
          "Normal",
          "Normal",
          "Normal",
          "Normal",
          "Normal",
          "Normal",
          "Normal",
          "Normal",
          "Normal",
          "Normal",
          "Normal",
          "Normal",
          "Normal",
          "Normal",
          "Normal",
          "Normal",
          "Normal",
          "Normal",
          "Normal",
          "Normal",
          "Normal",
          "Normal",
          "Normal",
          "Normal",
          "Normal",
          "Normal",
          "Normal",
          "Normal",
          "Normal",
          "Normal",
          "Normal",
          "Normal",
          "Normal",
          "Normal",
          "Normal",
          "Normal",
          "Normal",
          "Normal",
          "Normal",
          "Normal",
          "Normal",
          "Normal",
          "Normal",
          "Normal",
          "Normal",
          "Normal",
          "Normal",
          "Normal",
          "Normal",
          "Normal",
          "Normal",
          "Normal",
          "Normal",
          "Normal",
          "Normal",
          "Normal",
          "Normal",
          "Normal",
          "Normal",
          "Normal",
          "Normal",
          "Normal",
          "Normal",
          "Normal",
          "Normal",
          "Normal",
          "Normal",
          "Normal",
          "Normal",
          "Normal",
          "Normal",
          "Normal",
          "Normal",
          "Normal",
          "Normal",
          "Normal",
          "Normal",
          "Normal",
          "Normal",
          "Normal",
          "Normal",
          "Normal",
          "Normal",
          "Normal",
          "Normal",
          "Normal",
          "Normal",
          "Normal",
          "Normal",
          "Normal",
          "Normal",
          "Normal",
          "Normal",
          "Normal",
          "Normal",
          "Normal",
          "Normal",
          "Normal",
          "Normal",
          "Normal",
          "Normal",
          "Normal",
          "Normal",
          "Normal",
          "Normal",
          "Normal",
          "Normal",
          "Normal",
          "Normal",
          "Normal",
          "Normal",
          "Normal",
          "Normal",
          "Normal",
          "Normal",
          "Normal",
          "Normal",
          "Normal",
          "Normal",
          "Normal",
          "Normal",
          "Normal",
          "Normal",
          "Normal",
          "Normal",
          "Normal",
          "Normal",
          "Normal",
          "Normal",
          "Normal",
          "Normal",
          "Normal",
          "Normal",
          "Normal",
          "Normal",
          "Normal",
          "Normal",
          "Normal",
          "Normal",
          "Normal",
          "Normal",
          "Normal",
          "Normal",
          "Normal",
          "Normal",
          "Normal",
          "Normal",
          "Normal",
          "Normal",
          "Normal",
          "Normal",
          "Normal",
          "Normal",
          "Normal",
          "Normal",
          "Normal",
          "Normal",
          "Normal",
          "Normal",
          "Normal",
          "Normal",
          "Normal",
          "Normal",
          "Normal",
          "Normal",
          "Normal",
          "Normal",
          "Normal",
          "Normal",
          "Normal",
          "Normal",
          "Normal",
          "Normal",
          "Normal",
          "Normal",
          "Normal",
          "Normal",
          "Normal",
          "Normal",
          "Normal",
          "Normal",
          "Normal",
          "Normal",
          "Normal",
          "Normal",
          "Normal",
          "Normal",
          "Normal",
          "Normal",
          "Normal",
          "Normal",
          "Normal",
          "Normal",
          "Normal",
          "Normal",
          "Normal",
          "Normal",
          "Normal",
          "Normal",
          "Normal",
          "Normal",
          "Normal",
          "Normal",
          "Normal",
          "Normal",
          "Normal",
          "Normal",
          "Normal",
          "Normal",
          "Normal",
          "Normal",
          "Normal",
          "Normal",
          "Normal",
          "Normal",
          "Normal",
          "Normal",
          "Normal",
          "Normal",
          "Normal",
          "Normal",
          "Normal",
          "Normal",
          "Normal",
          "Normal",
          "Normal",
          "Normal",
          "Normal",
          "Normal",
          "Normal",
          "Normal",
          "Normal",
          "Normal",
          "Normal",
          "Normal",
          "Normal",
          "Normal",
          "Normal",
          "Normal",
          "Normal",
          "Normal",
          "Normal",
          "Normal",
          "Normal",
          "Normal",
          "Normal",
          "Normal",
          "Normal",
          "Normal",
          "Normal",
          "Normal",
          "Normal",
          "Normal",
          "Normal",
          "Normal",
          "Normal",
          "Normal",
          "Normal",
          "Normal",
          "Normal",
          "Normal",
          "Normal",
          "Normal",
          "Normal",
          "Normal",
          "Normal",
          "Normal",
          "Normal",
          "Normal",
          "Normal",
          "Normal",
          "Normal",
          "Normal",
          "Normal",
          "Normal",
          "Normal",
          "Normal",
          "Normal",
          "Normal",
          "Normal",
          "Normal",
          "Normal",
          "Normal",
          "Normal",
          "Normal",
          "Normal",
          "Normal",
          "Normal",
          "Normal",
          "Normal",
          "Normal",
          "Normal",
          "Normal",
          "Normal",
          "Normal",
          "Normal",
          "Normal",
          "Normal",
          "Normal",
          "Normal",
          "Normal",
          "Normal",
          "Normal",
          "Normal",
          "Normal",
          "Normal",
          "Normal",
          "Normal",
          "Normal",
          "Normal",
          "Normal",
          "Normal",
          "Normal",
          "Normal",
          "Normal",
          "Normal",
          "Normal",
          "Normal",
          "Normal",
          "Normal",
          "Normal",
          "Normal",
          "Normal",
          "Normal",
          "Normal",
          "Normal",
          "Normal",
          "Normal",
          "Normal",
          "Normal",
          "Normal",
          "Normal",
          "Normal",
          "Normal",
          "Normal",
          "Normal",
          "Normal",
          "Normal",
          "Normal",
          "Normal",
          "Normal",
          "Normal",
          "Normal",
          "Normal",
          "Normal",
          "Normal",
          "Normal",
          "Normal",
          "Normal",
          "Normal",
          "Normal",
          "Normal",
          "Normal",
          "Normal",
          "Normal",
          "Normal",
          "Normal",
          "Normal",
          "Normal",
          "Normal",
          "Normal",
          "Normal",
          "Normal",
          "Normal",
          "Normal",
          "Normal",
          "Normal",
          "Normal",
          "Normal",
          "Normal",
          "Normal",
          "Normal",
          "Normal",
          "Normal",
          "Normal",
          "Normal",
          "Normal",
          "Normal",
          "Normal",
          "Normal",
          "Normal",
          "Normal",
          "Normal",
          "Normal",
          "Normal",
          "Normal",
          "Normal",
          "Normal",
          "Normal",
          "Normal",
          "Normal",
          "Normal",
          "Normal",
          "Normal",
          "Normal",
          "Normal",
          "Normal",
          "Normal",
          "Normal",
          "Normal",
          "Normal",
          "Normal",
          "Normal",
          "Normal",
          "Normal",
          "Normal",
          "Normal",
          "Normal",
          "Normal",
          "Normal",
          "Normal",
          "Normal",
          "Normal",
          "Normal",
          "Normal",
          "Normal",
          "Normal",
          "Normal",
          "Normal",
          "Normal",
          "Normal",
          "Normal",
          "Normal",
          "Normal",
          "Normal",
          "Normal",
          "Normal",
          "Normal",
          "Normal",
          "Normal",
          "Normal",
          "Normal",
          "Normal",
          "Normal",
          "Normal",
          "Normal",
          "Normal",
          "Normal",
          "Normal",
          "Normal",
          "Normal",
          "Normal",
          "Normal",
          "Normal",
          "Normal",
          "Normal",
          "Normal",
          "Normal",
          "Normal",
          "Normal",
          "Normal",
          "Normal",
          "Normal",
          "Normal",
          "Normal",
          "Normal",
          "Normal",
          "Normal",
          "Normal",
          "Normal",
          "Normal",
          "Normal",
          "Normal",
          "Normal",
          "Normal",
          "Normal",
          "Normal",
          "Normal",
          "Normal",
          "Normal",
          "Normal",
          "Normal",
          "Normal",
          "Normal",
          "Normal",
          "Normal",
          "Normal",
          "Normal",
          "Normal",
          "Normal",
          "Normal",
          "Normal",
          "Normal",
          "Normal",
          "Normal",
          "Normal",
          "Normal",
          "Normal",
          "Normal",
          "Normal",
          "Normal",
          "Normal",
          "Normal",
          "Normal",
          "Normal",
          "Normal",
          "Normal",
          "Normal",
          "Normal",
          "Normal",
          "Normal",
          "Normal",
          "Normal",
          "Normal",
          "Normal",
          "Normal",
          "Normal",
          "Normal",
          "Normal",
          "Normal",
          "Normal",
          "Normal",
          "Normal",
          "Normal",
          "Normal",
          "Normal",
          "Normal",
          "Normal",
          "Normal",
          "Normal",
          "Normal",
          "Normal",
          "Normal",
          "Normal",
          "Normal",
          "Normal",
          "Normal",
          "Normal",
          "Normal",
          "Normal",
          "Normal",
          "Normal",
          "Normal",
          "Normal",
          "Normal",
          "Normal",
          "Normal",
          "Normal",
          "Normal",
          "Normal",
          "Normal",
          "Normal",
          "Normal",
          "Normal",
          "Normal",
          "Normal",
          "Normal",
          "Normal",
          "Normal",
          "Normal",
          "Normal",
          "Normal",
          "Normal",
          "Normal",
          "Normal",
          "Normal",
          "Normal",
          "Normal",
          "Normal",
          "Normal",
          "Normal",
          "Normal",
          "Normal",
          "Normal",
          "Normal",
          "Normal",
          "Normal",
          "Normal",
          "Normal",
          "Normal",
          "Normal",
          "Normal",
          "Normal",
          "Normal",
          "Normal",
          "Normal",
          "Normal",
          "Normal",
          "Normal",
          "Normal",
          "Normal",
          "Normal",
          "Normal",
          "Normal",
          "Normal",
          "Normal",
          "Normal",
          "Normal",
          "Normal",
          "Normal",
          "Normal",
          "Normal",
          "Normal",
          "Normal",
          "Normal",
          "Normal",
          "Normal",
          "Normal",
          "Normal",
          "Normal",
          "Normal",
          "Normal",
          "Normal",
          "Normal",
          "Normal",
          "Normal",
          "Normal",
          "Normal",
          "Normal",
          "Normal",
          "Normal",
          "Normal",
          "Normal",
          "Normal",
          "Normal",
          "Normal",
          "Normal",
          "Normal",
          "Normal",
          "Normal",
          "Normal",
          "Normal",
          "Normal",
          "Normal",
          "Normal",
          "Normal",
          "Normal",
          "Normal",
          "Normal",
          "Normal",
          "Normal",
          "Normal",
          "Normal",
          "Normal",
          "Normal",
          "Normal",
          "Normal",
          "Normal",
          "Normal",
          "Normal",
          "Normal",
          "Normal",
          "Normal",
          "Normal",
          "Normal",
          "Normal",
          "Normal",
          "Normal",
          "Normal",
          "Normal",
          "Normal",
          "Normal",
          "Normal",
          "Normal",
          "Normal",
          "Normal",
          "Normal",
          "Normal",
          "Normal",
          "Normal",
          "Normal",
          "Normal",
          "Normal",
          "Normal",
          "Normal",
          "Normal",
          "Normal",
          "Normal",
          "Normal",
          "Normal",
          "Normal",
          "Normal",
          "Normal",
          "Normal",
          "Normal",
          "Normal",
          "Normal",
          "Normal",
          "Normal",
          "Normal",
          "Normal",
          "Normal",
          "Normal",
          "Normal",
          "Normal",
          "Normal",
          "Normal",
          "Normal",
          "Normal",
          "Normal",
          "Normal",
          "Normal",
          "Normal",
          "Normal",
          "Normal",
          "Normal",
          "Normal",
          "Normal",
          "Normal",
          "Normal",
          "Normal",
          "Normal",
          "Normal",
          "Normal",
          "Normal",
          "Normal",
          "Normal",
          "Normal",
          "Normal",
          "Normal",
          "Normal",
          "Normal",
          "Normal",
          "Normal",
          "Normal",
          "Normal",
          "Normal",
          "Normal",
          "Normal",
          "Normal",
          "Normal",
          "Normal",
          "Normal",
          "Normal",
          "Normal",
          "Normal",
          "Normal",
          "Normal",
          "Normal",
          "Normal",
          "Normal",
          "Normal",
          "Normal",
          "Normal",
          "Normal",
          "Normal",
          "Normal",
          "Normal",
          "Normal",
          "Normal",
          "Normal",
          "Normal",
          "Normal",
          "Normal",
          "Normal",
          "Normal",
          "Normal",
          "Normal",
          "Normal",
          "Normal",
          "Normal",
          "Normal",
          "Normal",
          "Normal",
          "Normal",
          "Normal",
          "Normal",
          "Normal",
          "Normal",
          "Normal",
          "Normal",
          "Normal",
          "Normal",
          "Normal",
          "Normal",
          "Normal",
          "Normal",
          "Normal",
          "Normal",
          "Normal",
          "Normal",
          "Normal",
          "Normal",
          "Normal",
          "Normal",
          "Normal",
          "Normal",
          "Normal",
          "Normal",
          "Normal",
          "Normal",
          "Normal",
          "Normal",
          "Normal",
          "Normal",
          "Normal",
          "Normal",
          "Normal",
          "Normal",
          "Normal",
          "Normal",
          "Normal",
          "Normal",
          "Normal",
          "Normal",
          "Normal",
          "Normal",
          "Normal",
          "Normal",
          "Normal",
          "Normal",
          "Normal",
          "Normal",
          "Normal",
          "Normal",
          "Normal",
          "Normal",
          "Normal",
          "Normal",
          "Normal",
          "Normal",
          "Normal",
          "Normal",
          "Normal",
          "Normal",
          "Normal",
          "Normal",
          "Normal",
          "Normal",
          "Normal",
          "Normal",
          "Normal",
          "Normal",
          "Normal",
          "Normal",
          "Normal",
          "Normal",
          "Normal",
          "Normal",
          "Normal",
          "Normal",
          "Normal",
          "Normal",
          "Normal",
          "Normal",
          "Normal",
          "Normal",
          "Normal",
          "Normal",
          "Normal",
          "Normal",
          "Normal",
          "Normal",
          "Normal",
          "Normal",
          "Normal",
          "Normal",
          "Normal",
          "Normal",
          "Normal",
          "Normal",
          "Normal",
          "Normal",
          "Normal",
          "Normal",
          "Normal",
          "Normal",
          "Normal",
          "Normal",
          "Normal",
          "Normal",
          "Normal",
          "Normal",
          "Normal",
          "Normal",
          "Normal",
          "Normal",
          "Normal",
          "Normal",
          "Normal",
          "Normal",
          "Normal",
          "Normal",
          "Normal",
          "Normal",
          "Normal",
          "Normal",
          "Normal",
          "Normal",
          "Normal",
          "Normal",
          "Normal",
          "Normal",
          "Normal",
          "Normal",
          "Normal",
          "Normal",
          "Normal",
          "Normal",
          "Normal",
          "Normal",
          "Normal",
          "Normal",
          "Normal",
          "Normal",
          "Normal",
          "Normal",
          "Normal",
          "Normal",
          "Normal",
          "Normal",
          "Normal",
          "Normal",
          "Normal",
          "Normal",
          "Normal",
          "Normal",
          "Normal",
          "Normal",
          "Normal",
          "Normal",
          "Normal",
          "Normal",
          "Normal",
          "Normal",
          "Normal",
          "Normal",
          "Normal",
          "Normal",
          "Normal",
          "Normal",
          "Normal",
          "Normal",
          "Normal",
          "Normal",
          "Normal",
          "Normal",
          "Normal",
          "Normal",
          "Normal",
          "Normal",
          "Normal",
          "Normal",
          "Normal",
          "Normal",
          "Normal",
          "Normal",
          "Normal",
          "Normal",
          "Normal",
          "Normal",
          "Normal",
          "Normal",
          "Normal",
          "Normal",
          "Normal",
          "Normal",
          "Normal",
          "Normal",
          "Normal",
          "Normal",
          "Normal",
          "Normal",
          "Normal",
          "Normal",
          "Normal",
          "Normal",
          "Normal",
          "Normal",
          "Normal",
          "Normal",
          "Normal",
          "Normal",
          "Normal",
          "Normal",
          "Normal",
          "Normal",
          "Normal",
          "Normal",
          "Normal",
          "Normal",
          "Normal",
          "Normal",
          "Normal",
          "Normal",
          "Normal",
          "Normal",
          "Normal",
          "Normal",
          "Normal",
          "Normal",
          "Normal",
          "Normal",
          "Normal",
          "Normal",
          "Normal",
          "Normal",
          "Normal",
          "Normal",
          "Normal",
          "Normal",
          "Normal",
          "Normal",
          "Normal",
          "Normal",
          "Normal",
          "Normal",
          "Normal",
          "Normal",
          "Normal",
          "Normal",
          "Normal",
          "Normal",
          "Normal",
          "Normal",
          "Normal",
          "Normal",
          "Normal",
          "Normal",
          "Normal",
          "Normal",
          "Normal",
          "Normal",
          "Normal",
          "Normal",
          "Normal",
          "Normal",
          "Normal",
          "Normal",
          "Normal",
          "Normal",
          "Normal",
          "Normal",
          "Normal",
          "Normal",
          "Normal",
          "Normal",
          "Normal",
          "Normal",
          "Normal",
          "Normal",
          "Normal",
          "Normal",
          "Normal",
          "Normal",
          "Normal",
          "Normal",
          "Normal",
          "Normal",
          "Normal",
          "Normal",
          "Normal",
          "Normal",
          "Normal",
          "Normal",
          "Normal",
          "Normal",
          "Normal",
          "Normal",
          "Normal",
          "Normal",
          "Normal",
          "Normal",
          "Normal",
          "Normal",
          "Normal",
          "Normal",
          "Normal",
          "Normal",
          "Normal",
          "Normal",
          "Normal",
          "Normal",
          "Normal",
          "Normal",
          "Normal",
          "Normal",
          "Normal",
          "Normal",
          "Normal",
          "Normal",
          "Normal",
          "Normal",
          "Normal",
          "Normal",
          "Normal",
          "Normal",
          "Normal",
          "Normal",
          "Normal",
          "Normal",
          "Normal",
          "Normal",
          "Normal",
          "Normal",
          "Normal",
          "Normal",
          "Normal",
          "Normal",
          "Normal",
          "Normal",
          "Normal",
          "Normal",
          "Normal",
          "Normal",
          "Normal",
          "Normal",
          "Normal",
          "Normal",
          "Normal",
          "Normal",
          "Normal",
          "Normal",
          "Normal",
          "Normal",
          "Normal",
          "Normal",
          "Normal",
          "Normal",
          "Normal",
          "Normal",
          "Normal",
          "Normal",
          "Normal",
          "Normal",
          "Normal",
          "Normal",
          "Normal",
          "Normal",
          "Normal",
          "Normal",
          "Normal",
          "Normal",
          "Normal",
          "Normal",
          "Normal",
          "Normal",
          "Normal",
          "Normal",
          "Normal",
          "Normal",
          "Normal",
          "Normal",
          "Normal",
          "Normal",
          "Normal",
          "Normal",
          "Normal",
          "Normal",
          "Normal",
          "Normal",
          "Normal",
          "Normal",
          "Normal",
          "Normal",
          "Normal",
          "Normal",
          "Normal",
          "Normal",
          "Normal",
          "Normal",
          "Normal",
          "Normal",
          "Normal",
          "Normal",
          "Normal",
          "Normal",
          "Normal",
          "Normal",
          "Normal",
          "Normal",
          "Normal",
          "Normal",
          "Normal",
          "Normal",
          "Normal",
          "Normal",
          "Normal",
          "Normal",
          "Normal",
          "Normal",
          "Normal",
          "Normal",
          "Normal",
          "Normal",
          "Normal",
          "Normal",
          "Normal",
          "Normal",
          "Normal",
          "Normal",
          "Normal",
          "Normal",
          "Normal",
          "Normal",
          "Normal",
          "Normal",
          "Normal",
          "Normal",
          "Normal",
          "Normal",
          "Normal",
          "Normal",
          "Normal",
          "Normal",
          "Normal",
          "Normal",
          "Normal",
          "Normal",
          "Normal",
          "Normal",
          "Normal",
          "Normal",
          "Normal",
          "Normal",
          "Normal",
          "Normal",
          "Normal",
          "Normal",
          "Normal",
          "Normal",
          "Normal",
          "Normal",
          "Normal",
          "Normal",
          "Normal",
          "Normal",
          "Normal",
          "Normal",
          "Normal",
          "Normal",
          "Normal",
          "Normal",
          "Normal",
          "Normal",
          "Normal",
          "Normal",
          "Normal",
          "Normal",
          "Normal",
          "Normal",
          "Normal",
          "Normal",
          "Normal",
          "Normal",
          "Normal",
          "Normal",
          "Normal",
          "Normal",
          "Normal",
          "Normal",
          "Normal",
          "Normal",
          "Normal",
          "Normal",
          "Normal",
          "Normal",
          "Normal",
          "Normal",
          "Normal",
          "Normal",
          "Normal",
          "Normal",
          "Normal",
          "Normal",
          "Normal",
          "Normal",
          "Normal",
          "Normal",
          "Normal",
          "Normal",
          "Normal",
          "Normal",
          "Normal",
          "Normal",
          "Normal",
          "Normal",
          "Normal",
          "Normal",
          "Normal",
          "Normal",
          "Normal",
          "Normal",
          "Normal",
          "Normal",
          "Normal",
          "Normal",
          "Normal",
          "Normal",
          "Normal",
          "Normal",
          "Normal",
          "Normal",
          "Normal",
          "Normal",
          "Normal",
          "Normal",
          "Normal",
          "Normal",
          "Normal",
          "Normal",
          "Normal",
          "Normal",
          "Normal",
          "Normal",
          "Normal",
          "Normal",
          "Normal",
          "Normal",
          "Normal",
          "Normal",
          "Normal",
          "Normal",
          "Normal",
          "Normal",
          "Normal",
          "Normal",
          "Normal",
          "Normal",
          "Normal",
          "Normal",
          "Normal",
          "Normal",
          "Normal",
          "Normal",
          "Normal",
          "Normal",
          "Normal",
          "Normal",
          "Normal",
          "Normal",
          "Normal",
          "Normal",
          "Normal",
          "Normal",
          "Normal",
          "Normal",
          "Normal",
          "Normal",
          "Normal",
          "Normal",
          "Normal",
          "Normal",
          "Normal",
          "Normal",
          "Normal",
          "Normal",
          "Normal",
          "Normal",
          "Normal",
          "Normal",
          "Normal",
          "Normal",
          "Normal",
          "Normal",
          "Normal",
          "Normal",
          "Normal",
          "Normal",
          "Normal",
          "Normal",
          "Normal",
          "Normal",
          "Normal",
          "Normal",
          "Normal",
          "Normal",
          "Normal",
          "Normal",
          "Normal",
          "Normal",
          "Normal",
          "Normal",
          "Normal",
          "Normal",
          "Normal",
          "Normal",
          "Normal",
          "Normal",
          "Normal",
          "Normal",
          "Normal",
          "Normal",
          "Normal",
          "Normal",
          "Normal",
          "Normal",
          "Normal",
          "Normal",
          "Normal",
          "Normal",
          "Normal",
          "Normal",
          "Normal",
          "Normal",
          "Normal",
          "Normal",
          "Normal",
          "Normal",
          "Normal",
          "Normal",
          "Normal",
          "Normal",
          "Normal",
          "Normal",
          "Normal",
          "Normal",
          "Normal",
          "Normal",
          "Normal",
          "Normal",
          "Normal",
          "Normal",
          "Normal",
          "Normal",
          "Normal",
          "Normal",
          "Normal",
          "Normal",
          "Normal",
          "Normal",
          "Normal",
          "Normal",
          "Normal",
          "Normal",
          "Normal",
          "Normal",
          "Normal",
          "Normal",
          "Normal",
          "Normal",
          "Normal",
          "Normal",
          "Normal",
          "Normal",
          "Normal",
          "Normal",
          "Normal",
          "Normal",
          "Normal",
          "Normal",
          "Normal",
          "Normal",
          "Normal",
          "Normal",
          "Normal",
          "Normal",
          "Normal",
          "Normal",
          "Normal",
          "Normal",
          "Normal",
          "Normal",
          "Normal",
          "Normal",
          "Normal",
          "Normal",
          "Normal",
          "Normal",
          "Normal",
          "Normal",
          "Normal",
          "Normal",
          "Normal",
          "Normal",
          "Normal",
          "Normal",
          "Normal",
          "Normal",
          "Normal",
          "Normal",
          "Normal",
          "Normal",
          "Normal",
          "Normal",
          "Normal",
          "Normal",
          "Normal",
          "Normal",
          "Normal",
          "Normal",
          "Normal",
          "Normal",
          "Normal",
          "Normal",
          "Normal",
          "Normal",
          "Normal",
          "Normal",
          "Normal",
          "Normal",
          "Normal",
          "Normal",
          "Normal",
          "Normal",
          "Normal",
          "Normal",
          "Normal",
          "Normal",
          "Normal",
          "Normal",
          "Normal",
          "Normal",
          "Normal",
          "Normal",
          "Normal",
          "Normal",
          "Normal",
          "Normal",
          "Normal",
          "Normal",
          "Normal",
          "Normal",
          "Normal",
          "Normal",
          "Normal",
          "Normal",
          "Normal",
          "Normal",
          "Normal",
          "Normal",
          "Normal",
          "Normal",
          "Normal",
          "Normal",
          "Normal",
          "Normal",
          "Normal",
          "Normal",
          "Normal",
          "Normal",
          "Normal",
          "Normal",
          "Normal",
          "Normal",
          "Normal",
          "Normal",
          "Normal",
          "Normal",
          "Normal",
          "Normal",
          "Normal",
          "Normal",
          "Normal",
          "Normal",
          "Normal",
          "Normal",
          "Normal",
          "Normal",
          "Normal",
          "Normal",
          "Normal",
          "Normal",
          "Normal",
          "Normal",
          "Normal",
          "Normal",
          "Normal",
          "Normal",
          "Normal",
          "Normal",
          "Normal",
          "Normal",
          "Normal",
          "Normal",
          "Normal",
          "Normal",
          "Normal",
          "Normal",
          "Normal",
          "Normal",
          "Normal",
          "Normal",
          "Normal",
          "Normal",
          "Normal",
          "Normal",
          "Normal",
          "Normal",
          "Normal",
          "Normal",
          "Normal",
          "Normal",
          "Normal",
          "Normal",
          "Normal",
          "Normal",
          "Normal",
          "Normal",
          "Normal",
          "Normal",
          "Normal",
          "Normal",
          "Normal",
          "Normal",
          "Normal",
          "Normal",
          "Normal",
          "Normal",
          "Normal",
          "Normal",
          "Normal",
          "Normal",
          "Normal",
          "Normal",
          "Normal",
          "Normal",
          "Normal",
          "Normal",
          "Normal",
          "Normal",
          "Normal",
          "Normal",
          "Normal",
          "Normal",
          "Normal",
          "Normal",
          "Normal",
          "Normal",
          "Normal",
          "Normal",
          "Normal",
          "Normal",
          "Normal",
          "Normal",
          "Normal",
          "Normal",
          "Normal",
          "Normal",
          "Normal",
          "Normal",
          "Normal",
          "Normal",
          "Normal",
          "Normal",
          "Normal",
          "Normal",
          "Normal",
          "Normal",
          "Normal",
          "Normal",
          "Normal",
          "Normal",
          "Normal",
          "Normal",
          "Normal",
          "Normal",
          "Normal",
          "Normal",
          "Normal",
          "Normal",
          "Normal",
          "Normal",
          "Normal",
          "Normal",
          "Normal",
          "Normal",
          "Normal",
          "Normal",
          "Normal",
          "Normal",
          "Normal",
          "Normal",
          "Normal",
          "Normal",
          "Normal",
          "Normal",
          "Normal",
          "Normal",
          "Normal",
          "Normal",
          "Normal",
          "Normal",
          "Normal",
          "Normal",
          "Normal",
          "Normal",
          "Normal",
          "Normal",
          "Normal",
          "Normal",
          "Normal",
          "Normal",
          "Normal",
          "Normal",
          "Normal",
          "Normal",
          "Normal",
          "Normal",
          "Normal",
          "Normal",
          "Normal",
          "Normal",
          "Normal",
          "Normal",
          "Normal",
          "Normal",
          "Normal",
          "Normal",
          "Normal",
          "Normal",
          "Normal",
          "Normal",
          "Normal",
          "Normal",
          "Normal",
          "Normal",
          "Normal",
          "Normal",
          "Normal",
          "Normal",
          "Normal",
          "Normal",
          "Normal",
          "Normal",
          "Normal",
          "Normal",
          "Normal",
          "Normal",
          "Normal",
          "Normal",
          "Normal",
          "Normal",
          "Normal",
          "Normal",
          "Normal",
          "Normal",
          "Normal",
          "R-on-T PVC",
          "R-on-T PVC",
          "R-on-T PVC",
          "R-on-T PVC",
          "R-on-T PVC",
          "R-on-T PVC",
          "R-on-T PVC",
          "R-on-T PVC",
          "R-on-T PVC",
          "R-on-T PVC",
          "R-on-T PVC",
          "PVC",
          "R-on-T PVC",
          "R-on-T PVC",
          "R-on-T PVC",
          "R-on-T PVC",
          "R-on-T PVC",
          "R-on-T PVC",
          "R-on-T PVC",
          "R-on-T PVC",
          "R-on-T PVC",
          "R-on-T PVC",
          "R-on-T PVC",
          "R-on-T PVC",
          "R-on-T PVC",
          "PVC",
          "R-on-T PVC",
          "R-on-T PVC",
          "R-on-T PVC",
          "R-on-T PVC",
          "R-on-T PVC",
          "R-on-T PVC",
          "R-on-T PVC",
          "R-on-T PVC",
          "SP or EB",
          "R-on-T PVC",
          "PVC",
          "R-on-T PVC",
          "SP or EB",
          "R-on-T PVC",
          "R-on-T PVC",
          "R-on-T PVC",
          "R-on-T PVC",
          "R-on-T PVC",
          "R-on-T PVC",
          "R-on-T PVC",
          "R-on-T PVC",
          "R-on-T PVC",
          "R-on-T PVC",
          "R-on-T PVC",
          "R-on-T PVC",
          "R-on-T PVC",
          "R-on-T PVC",
          "R-on-T PVC",
          "R-on-T PVC",
          "R-on-T PVC",
          "R-on-T PVC",
          "SP or EB",
          "R-on-T PVC",
          "R-on-T PVC",
          "R-on-T PVC",
          "R-on-T PVC",
          "R-on-T PVC",
          "R-on-T PVC",
          "R-on-T PVC",
          "R-on-T PVC",
          "R-on-T PVC",
          "R-on-T PVC",
          "R-on-T PVC",
          "R-on-T PVC",
          "R-on-T PVC",
          "R-on-T PVC",
          "R-on-T PVC",
          "R-on-T PVC",
          "R-on-T PVC",
          "R-on-T PVC",
          "R-on-T PVC",
          "R-on-T PVC",
          "R-on-T PVC",
          "R-on-T PVC",
          "R-on-T PVC",
          "R-on-T PVC",
          "R-on-T PVC",
          "PVC",
          "PVC",
          "PVC",
          "R-on-T PVC",
          "R-on-T PVC",
          "SP or EB",
          "SP or EB",
          "R-on-T PVC",
          "R-on-T PVC",
          "R-on-T PVC",
          "R-on-T PVC",
          "R-on-T PVC",
          "R-on-T PVC",
          "R-on-T PVC",
          "R-on-T PVC",
          "R-on-T PVC",
          "R-on-T PVC",
          "R-on-T PVC",
          "R-on-T PVC",
          "R-on-T PVC",
          "R-on-T PVC",
          "UB",
          "PVC",
          "R-on-T PVC",
          "R-on-T PVC",
          "R-on-T PVC",
          "R-on-T PVC",
          "R-on-T PVC",
          "R-on-T PVC",
          "R-on-T PVC",
          "R-on-T PVC",
          "R-on-T PVC",
          "R-on-T PVC",
          "R-on-T PVC",
          "R-on-T PVC",
          "R-on-T PVC",
          "R-on-T PVC",
          "R-on-T PVC",
          "R-on-T PVC",
          "R-on-T PVC",
          "R-on-T PVC",
          "R-on-T PVC",
          "R-on-T PVC",
          "R-on-T PVC",
          "R-on-T PVC",
          "R-on-T PVC",
          "R-on-T PVC",
          "R-on-T PVC",
          "R-on-T PVC",
          "R-on-T PVC",
          "R-on-T PVC",
          "R-on-T PVC",
          "R-on-T PVC",
          "R-on-T PVC",
          "R-on-T PVC",
          "R-on-T PVC",
          "R-on-T PVC",
          "R-on-T PVC",
          "R-on-T PVC",
          "R-on-T PVC",
          "R-on-T PVC",
          "R-on-T PVC",
          "R-on-T PVC",
          "R-on-T PVC",
          "R-on-T PVC",
          "R-on-T PVC",
          "SP or EB",
          "R-on-T PVC",
          "R-on-T PVC",
          "R-on-T PVC",
          "R-on-T PVC",
          "R-on-T PVC",
          "R-on-T PVC",
          "R-on-T PVC",
          "PVC",
          "R-on-T PVC",
          "R-on-T PVC",
          "R-on-T PVC",
          "R-on-T PVC",
          "R-on-T PVC",
          "R-on-T PVC",
          "R-on-T PVC",
          "R-on-T PVC",
          "R-on-T PVC",
          "PVC",
          "R-on-T PVC",
          "R-on-T PVC",
          "SP or EB",
          "R-on-T PVC",
          "R-on-T PVC",
          "R-on-T PVC",
          "R-on-T PVC",
          "R-on-T PVC",
          "R-on-T PVC",
          "UB",
          "R-on-T PVC",
          "SP or EB",
          "SP or EB",
          "R-on-T PVC",
          "R-on-T PVC",
          "R-on-T PVC",
          "R-on-T PVC",
          "R-on-T PVC",
          "UB",
          "R-on-T PVC",
          "UB",
          "R-on-T PVC",
          "R-on-T PVC",
          "R-on-T PVC",
          "R-on-T PVC",
          "R-on-T PVC",
          "R-on-T PVC",
          "SP or EB",
          "R-on-T PVC",
          "R-on-T PVC",
          "R-on-T PVC",
          "R-on-T PVC",
          "R-on-T PVC",
          "R-on-T PVC",
          "R-on-T PVC",
          "R-on-T PVC",
          "R-on-T PVC",
          "R-on-T PVC",
          "SP or EB",
          "R-on-T PVC",
          "R-on-T PVC",
          "SP or EB",
          "R-on-T PVC",
          "R-on-T PVC",
          "R-on-T PVC",
          "R-on-T PVC",
          "R-on-T PVC",
          "R-on-T PVC",
          "R-on-T PVC",
          "R-on-T PVC",
          "R-on-T PVC",
          "R-on-T PVC",
          "R-on-T PVC",
          "R-on-T PVC",
          "R-on-T PVC",
          "R-on-T PVC",
          "R-on-T PVC",
          "R-on-T PVC",
          "R-on-T PVC",
          "R-on-T PVC",
          "SP or EB",
          "SP or EB",
          "R-on-T PVC",
          "R-on-T PVC",
          "R-on-T PVC",
          "R-on-T PVC",
          "R-on-T PVC",
          "R-on-T PVC",
          "R-on-T PVC",
          "R-on-T PVC",
          "R-on-T PVC",
          "R-on-T PVC",
          "R-on-T PVC",
          "R-on-T PVC",
          "R-on-T PVC",
          "R-on-T PVC",
          "R-on-T PVC",
          "SP or EB",
          "R-on-T PVC",
          "R-on-T PVC",
          "SP or EB",
          "R-on-T PVC",
          "R-on-T PVC",
          "R-on-T PVC",
          "R-on-T PVC",
          "R-on-T PVC",
          "R-on-T PVC",
          "R-on-T PVC",
          "R-on-T PVC",
          "R-on-T PVC",
          "R-on-T PVC",
          "R-on-T PVC",
          "R-on-T PVC",
          "R-on-T PVC",
          "R-on-T PVC",
          "UB",
          "R-on-T PVC",
          "R-on-T PVC",
          "R-on-T PVC",
          "R-on-T PVC",
          "R-on-T PVC",
          "R-on-T PVC",
          "R-on-T PVC",
          "R-on-T PVC",
          "R-on-T PVC",
          "R-on-T PVC",
          "R-on-T PVC",
          "R-on-T PVC",
          "R-on-T PVC",
          "R-on-T PVC",
          "R-on-T PVC",
          "R-on-T PVC",
          "R-on-T PVC",
          "R-on-T PVC",
          "R-on-T PVC",
          "R-on-T PVC",
          "R-on-T PVC",
          "SP or EB",
          "R-on-T PVC",
          "R-on-T PVC",
          "R-on-T PVC",
          "R-on-T PVC",
          "R-on-T PVC",
          "R-on-T PVC",
          "R-on-T PVC",
          "R-on-T PVC",
          "R-on-T PVC",
          "R-on-T PVC",
          "R-on-T PVC",
          "R-on-T PVC",
          "R-on-T PVC",
          "UB",
          "R-on-T PVC",
          "PVC",
          "UB",
          "SP or EB",
          "R-on-T PVC",
          "PVC",
          "R-on-T PVC",
          "R-on-T PVC",
          "PVC",
          "PVC",
          "R-on-T PVC",
          "R-on-T PVC",
          "R-on-T PVC",
          "PVC",
          "R-on-T PVC",
          "R-on-T PVC",
          "R-on-T PVC",
          "R-on-T PVC",
          "R-on-T PVC",
          "R-on-T PVC",
          "R-on-T PVC",
          "R-on-T PVC",
          "R-on-T PVC",
          "SP or EB",
          "SP or EB",
          "R-on-T PVC",
          "SP or EB",
          "R-on-T PVC",
          "R-on-T PVC",
          "R-on-T PVC",
          "SP or EB",
          "R-on-T PVC",
          "R-on-T PVC",
          "R-on-T PVC",
          "R-on-T PVC",
          "R-on-T PVC",
          "R-on-T PVC",
          "R-on-T PVC",
          "R-on-T PVC",
          "R-on-T PVC",
          "R-on-T PVC",
          "R-on-T PVC",
          "SP or EB",
          "R-on-T PVC",
          "SP or EB",
          "R-on-T PVC",
          "R-on-T PVC",
          "R-on-T PVC",
          "R-on-T PVC",
          "R-on-T PVC",
          "SP or EB",
          "R-on-T PVC",
          "SP or EB",
          "R-on-T PVC",
          "R-on-T PVC",
          "R-on-T PVC",
          "R-on-T PVC",
          "PVC",
          "R-on-T PVC",
          "R-on-T PVC",
          "R-on-T PVC",
          "R-on-T PVC",
          "R-on-T PVC",
          "R-on-T PVC",
          "R-on-T PVC",
          "R-on-T PVC",
          "SP or EB",
          "R-on-T PVC",
          "R-on-T PVC",
          "R-on-T PVC",
          "R-on-T PVC",
          "PVC",
          "SP or EB",
          "R-on-T PVC",
          "R-on-T PVC",
          "R-on-T PVC",
          "SP or EB",
          "R-on-T PVC",
          "R-on-T PVC",
          "R-on-T PVC",
          "R-on-T PVC",
          "R-on-T PVC",
          "R-on-T PVC",
          "R-on-T PVC",
          "R-on-T PVC",
          "R-on-T PVC",
          "R-on-T PVC",
          "R-on-T PVC",
          "R-on-T PVC",
          "R-on-T PVC",
          "R-on-T PVC",
          "R-on-T PVC",
          "R-on-T PVC",
          "R-on-T PVC",
          "R-on-T PVC",
          "R-on-T PVC",
          "R-on-T PVC",
          "R-on-T PVC",
          "R-on-T PVC",
          "R-on-T PVC",
          "R-on-T PVC",
          "R-on-T PVC",
          "R-on-T PVC",
          "R-on-T PVC",
          "R-on-T PVC",
          "R-on-T PVC",
          "PVC",
          "R-on-T PVC",
          "R-on-T PVC",
          "R-on-T PVC",
          "R-on-T PVC",
          "R-on-T PVC",
          "PVC",
          "R-on-T PVC",
          "R-on-T PVC",
          "R-on-T PVC",
          "PVC",
          "R-on-T PVC",
          "R-on-T PVC",
          "R-on-T PVC",
          "R-on-T PVC",
          "R-on-T PVC",
          "UB",
          "R-on-T PVC",
          "R-on-T PVC",
          "R-on-T PVC",
          "R-on-T PVC",
          "R-on-T PVC",
          "R-on-T PVC",
          "SP or EB",
          "R-on-T PVC",
          "R-on-T PVC",
          "R-on-T PVC",
          "R-on-T PVC",
          "PVC",
          "PVC",
          "R-on-T PVC",
          "R-on-T PVC",
          "R-on-T PVC",
          "R-on-T PVC",
          "R-on-T PVC",
          "R-on-T PVC",
          "R-on-T PVC",
          "R-on-T PVC",
          "R-on-T PVC",
          "PVC",
          "R-on-T PVC",
          "R-on-T PVC",
          "R-on-T PVC",
          "R-on-T PVC",
          "R-on-T PVC",
          "R-on-T PVC",
          "R-on-T PVC",
          "R-on-T PVC",
          "R-on-T PVC",
          "R-on-T PVC",
          "R-on-T PVC",
          "PVC",
          "R-on-T PVC",
          "R-on-T PVC",
          "R-on-T PVC",
          "R-on-T PVC",
          "R-on-T PVC",
          "R-on-T PVC",
          "SP or EB",
          "R-on-T PVC",
          "R-on-T PVC",
          "SP or EB",
          "R-on-T PVC",
          "R-on-T PVC",
          "R-on-T PVC",
          "R-on-T PVC",
          "R-on-T PVC",
          "R-on-T PVC",
          "R-on-T PVC",
          "R-on-T PVC",
          "R-on-T PVC",
          "R-on-T PVC",
          "R-on-T PVC",
          "R-on-T PVC",
          "R-on-T PVC",
          "R-on-T PVC",
          "R-on-T PVC",
          "R-on-T PVC",
          "R-on-T PVC",
          "R-on-T PVC",
          "R-on-T PVC",
          "R-on-T PVC",
          "R-on-T PVC",
          "R-on-T PVC",
          "R-on-T PVC",
          "R-on-T PVC",
          "R-on-T PVC",
          "R-on-T PVC",
          "R-on-T PVC",
          "R-on-T PVC",
          "R-on-T PVC",
          "R-on-T PVC",
          "SP or EB",
          "R-on-T PVC",
          "R-on-T PVC",
          "R-on-T PVC",
          "SP or EB",
          "R-on-T PVC",
          "R-on-T PVC",
          "R-on-T PVC",
          "R-on-T PVC",
          "SP or EB",
          "R-on-T PVC",
          "R-on-T PVC",
          "R-on-T PVC",
          "R-on-T PVC",
          "R-on-T PVC",
          "SP or EB",
          "R-on-T PVC",
          "R-on-T PVC",
          "R-on-T PVC",
          "R-on-T PVC",
          "R-on-T PVC",
          "R-on-T PVC",
          "R-on-T PVC",
          "R-on-T PVC",
          "R-on-T PVC",
          "R-on-T PVC",
          "R-on-T PVC",
          "R-on-T PVC",
          "R-on-T PVC",
          "R-on-T PVC",
          "R-on-T PVC",
          "R-on-T PVC",
          "R-on-T PVC",
          "R-on-T PVC",
          "R-on-T PVC",
          "R-on-T PVC",
          "R-on-T PVC",
          "R-on-T PVC",
          "R-on-T PVC",
          "R-on-T PVC",
          "R-on-T PVC",
          "R-on-T PVC",
          "R-on-T PVC",
          "R-on-T PVC",
          "R-on-T PVC",
          "R-on-T PVC",
          "R-on-T PVC",
          "R-on-T PVC",
          "R-on-T PVC",
          "R-on-T PVC",
          "R-on-T PVC",
          "SP or EB",
          "R-on-T PVC",
          "R-on-T PVC",
          "R-on-T PVC",
          "R-on-T PVC",
          "SP or EB",
          "R-on-T PVC",
          "R-on-T PVC",
          "R-on-T PVC",
          "R-on-T PVC",
          "R-on-T PVC",
          "R-on-T PVC",
          "R-on-T PVC",
          "R-on-T PVC",
          "R-on-T PVC",
          "R-on-T PVC",
          "R-on-T PVC",
          "R-on-T PVC",
          "R-on-T PVC",
          "R-on-T PVC",
          "R-on-T PVC",
          "R-on-T PVC",
          "R-on-T PVC",
          "R-on-T PVC",
          "R-on-T PVC",
          "R-on-T PVC",
          "R-on-T PVC",
          "R-on-T PVC",
          "R-on-T PVC",
          "R-on-T PVC",
          "R-on-T PVC",
          "R-on-T PVC",
          "R-on-T PVC",
          "R-on-T PVC",
          "R-on-T PVC",
          "R-on-T PVC",
          "R-on-T PVC",
          "R-on-T PVC",
          "R-on-T PVC",
          "R-on-T PVC",
          "R-on-T PVC",
          "R-on-T PVC",
          "R-on-T PVC",
          "R-on-T PVC",
          "R-on-T PVC",
          "R-on-T PVC",
          "R-on-T PVC",
          "R-on-T PVC",
          "R-on-T PVC",
          "R-on-T PVC",
          "R-on-T PVC",
          "R-on-T PVC",
          "R-on-T PVC",
          "R-on-T PVC",
          "R-on-T PVC",
          "R-on-T PVC",
          "R-on-T PVC",
          "R-on-T PVC",
          "R-on-T PVC",
          "R-on-T PVC",
          "R-on-T PVC",
          "R-on-T PVC",
          "R-on-T PVC",
          "R-on-T PVC",
          "R-on-T PVC",
          "R-on-T PVC",
          "R-on-T PVC",
          "R-on-T PVC",
          "R-on-T PVC",
          "R-on-T PVC",
          "R-on-T PVC",
          "R-on-T PVC",
          "R-on-T PVC",
          "R-on-T PVC",
          "UB",
          "SP or EB",
          "R-on-T PVC",
          "R-on-T PVC",
          "R-on-T PVC",
          "R-on-T PVC",
          "R-on-T PVC",
          "R-on-T PVC",
          "R-on-T PVC",
          "R-on-T PVC",
          "R-on-T PVC",
          "R-on-T PVC",
          "R-on-T PVC",
          "R-on-T PVC",
          "R-on-T PVC",
          "R-on-T PVC",
          "R-on-T PVC",
          "R-on-T PVC",
          "R-on-T PVC",
          "R-on-T PVC",
          "R-on-T PVC",
          "R-on-T PVC",
          "R-on-T PVC",
          "R-on-T PVC",
          "R-on-T PVC",
          "R-on-T PVC",
          "R-on-T PVC",
          "R-on-T PVC",
          "R-on-T PVC",
          "R-on-T PVC",
          "R-on-T PVC",
          "R-on-T PVC",
          "R-on-T PVC",
          "R-on-T PVC",
          "R-on-T PVC",
          "R-on-T PVC",
          "R-on-T PVC",
          "R-on-T PVC",
          "R-on-T PVC",
          "R-on-T PVC",
          "R-on-T PVC",
          "SP or EB",
          "R-on-T PVC",
          "R-on-T PVC",
          "R-on-T PVC",
          "R-on-T PVC",
          "R-on-T PVC",
          "R-on-T PVC",
          "PVC",
          "R-on-T PVC",
          "R-on-T PVC",
          "R-on-T PVC",
          "R-on-T PVC",
          "R-on-T PVC",
          "R-on-T PVC",
          "R-on-T PVC",
          "R-on-T PVC",
          "R-on-T PVC",
          "R-on-T PVC",
          "R-on-T PVC",
          "R-on-T PVC",
          "R-on-T PVC",
          "R-on-T PVC",
          "R-on-T PVC",
          "R-on-T PVC",
          "R-on-T PVC",
          "R-on-T PVC",
          "R-on-T PVC",
          "SP or EB",
          "PVC",
          "PVC",
          "PVC",
          "PVC",
          "PVC",
          "UB",
          "UB",
          "PVC",
          "PVC",
          "R-on-T PVC",
          "R-on-T PVC",
          "SP or EB",
          "R-on-T PVC",
          "R-on-T PVC",
          "R-on-T PVC",
          "R-on-T PVC",
          "R-on-T PVC",
          "R-on-T PVC",
          "R-on-T PVC",
          "R-on-T PVC",
          "R-on-T PVC",
          "SP or EB",
          "SP or EB",
          "SP or EB",
          "SP or EB",
          "R-on-T PVC",
          "R-on-T PVC",
          "R-on-T PVC",
          "PVC",
          "R-on-T PVC",
          "R-on-T PVC",
          "SP or EB",
          "UB",
          "UB",
          "R-on-T PVC",
          "R-on-T PVC",
          "R-on-T PVC",
          "R-on-T PVC",
          "SP or EB",
          "SP or EB",
          "SP or EB",
          "UB",
          "R-on-T PVC",
          "R-on-T PVC",
          "R-on-T PVC",
          "R-on-T PVC",
          "R-on-T PVC",
          "R-on-T PVC",
          "R-on-T PVC",
          "PVC",
          "R-on-T PVC",
          "R-on-T PVC",
          "R-on-T PVC",
          "R-on-T PVC",
          "R-on-T PVC",
          "R-on-T PVC",
          "R-on-T PVC",
          "R-on-T PVC",
          "R-on-T PVC",
          "R-on-T PVC",
          "R-on-T PVC",
          "R-on-T PVC",
          "R-on-T PVC",
          "R-on-T PVC",
          "R-on-T PVC",
          "R-on-T PVC",
          "R-on-T PVC",
          "R-on-T PVC",
          "R-on-T PVC",
          "R-on-T PVC",
          "R-on-T PVC",
          "R-on-T PVC",
          "R-on-T PVC",
          "R-on-T PVC",
          "R-on-T PVC",
          "SP or EB",
          "R-on-T PVC",
          "R-on-T PVC",
          "SP or EB",
          "R-on-T PVC",
          "R-on-T PVC",
          "SP or EB",
          "SP or EB",
          "SP or EB",
          "R-on-T PVC",
          "SP or EB",
          "SP or EB",
          "SP or EB",
          "SP or EB",
          "SP or EB",
          "SP or EB",
          "SP or EB",
          "R-on-T PVC",
          "UB",
          "UB",
          "R-on-T PVC",
          "R-on-T PVC",
          "SP or EB",
          "PVC",
          "PVC",
          "PVC",
          "R-on-T PVC",
          "R-on-T PVC",
          "R-on-T PVC",
          "R-on-T PVC",
          "R-on-T PVC",
          "R-on-T PVC",
          "R-on-T PVC",
          "R-on-T PVC",
          "R-on-T PVC",
          "R-on-T PVC",
          "R-on-T PVC",
          "R-on-T PVC",
          "R-on-T PVC",
          "R-on-T PVC",
          "R-on-T PVC",
          "R-on-T PVC",
          "R-on-T PVC",
          "R-on-T PVC",
          "R-on-T PVC",
          "R-on-T PVC",
          "SP or EB",
          "R-on-T PVC",
          "SP or EB",
          "R-on-T PVC",
          "R-on-T PVC",
          "R-on-T PVC",
          "R-on-T PVC",
          "R-on-T PVC",
          "R-on-T PVC",
          "R-on-T PVC",
          "R-on-T PVC",
          "R-on-T PVC",
          "R-on-T PVC",
          "R-on-T PVC",
          "R-on-T PVC",
          "R-on-T PVC",
          "R-on-T PVC",
          "R-on-T PVC",
          "R-on-T PVC",
          "R-on-T PVC",
          "R-on-T PVC",
          "R-on-T PVC",
          "R-on-T PVC",
          "R-on-T PVC",
          "R-on-T PVC",
          "R-on-T PVC",
          "R-on-T PVC",
          "R-on-T PVC",
          "R-on-T PVC",
          "R-on-T PVC",
          "R-on-T PVC",
          "R-on-T PVC",
          "R-on-T PVC",
          "R-on-T PVC",
          "UB",
          "R-on-T PVC",
          "R-on-T PVC",
          "PVC",
          "R-on-T PVC",
          "R-on-T PVC",
          "R-on-T PVC",
          "R-on-T PVC",
          "R-on-T PVC",
          "R-on-T PVC",
          "R-on-T PVC",
          "R-on-T PVC",
          "R-on-T PVC",
          "R-on-T PVC",
          "R-on-T PVC",
          "R-on-T PVC",
          "R-on-T PVC",
          "R-on-T PVC",
          "R-on-T PVC",
          "R-on-T PVC",
          "R-on-T PVC",
          "R-on-T PVC",
          "R-on-T PVC",
          "R-on-T PVC",
          "R-on-T PVC",
          "R-on-T PVC",
          "R-on-T PVC",
          "R-on-T PVC",
          "R-on-T PVC",
          "R-on-T PVC",
          "R-on-T PVC",
          "R-on-T PVC",
          "R-on-T PVC",
          "UB",
          "R-on-T PVC",
          "R-on-T PVC",
          "SP or EB",
          "R-on-T PVC",
          "R-on-T PVC",
          "R-on-T PVC",
          "R-on-T PVC",
          "R-on-T PVC",
          "R-on-T PVC",
          "R-on-T PVC",
          "R-on-T PVC",
          "R-on-T PVC",
          "R-on-T PVC",
          "R-on-T PVC",
          "R-on-T PVC",
          "R-on-T PVC",
          "R-on-T PVC",
          "R-on-T PVC",
          "R-on-T PVC",
          "R-on-T PVC",
          "R-on-T PVC",
          "R-on-T PVC",
          "R-on-T PVC",
          "R-on-T PVC",
          "R-on-T PVC",
          "R-on-T PVC",
          "R-on-T PVC",
          "R-on-T PVC",
          "R-on-T PVC",
          "PVC",
          "R-on-T PVC",
          "SP or EB",
          "SP or EB",
          "R-on-T PVC",
          "R-on-T PVC",
          "R-on-T PVC",
          "R-on-T PVC",
          "R-on-T PVC",
          "R-on-T PVC",
          "R-on-T PVC",
          "R-on-T PVC",
          "R-on-T PVC",
          "SP or EB",
          "R-on-T PVC",
          "R-on-T PVC",
          "R-on-T PVC",
          "R-on-T PVC",
          "R-on-T PVC",
          "R-on-T PVC",
          "R-on-T PVC",
          "R-on-T PVC",
          "R-on-T PVC",
          "PVC",
          "PVC",
          "PVC",
          "R-on-T PVC",
          "R-on-T PVC",
          "R-on-T PVC",
          "R-on-T PVC",
          "R-on-T PVC",
          "R-on-T PVC",
          "R-on-T PVC",
          "R-on-T PVC",
          "R-on-T PVC",
          "R-on-T PVC",
          "R-on-T PVC",
          "PVC",
          "R-on-T PVC",
          "R-on-T PVC",
          "R-on-T PVC",
          "R-on-T PVC",
          "R-on-T PVC",
          "R-on-T PVC",
          "R-on-T PVC",
          "R-on-T PVC",
          "R-on-T PVC",
          "R-on-T PVC",
          "R-on-T PVC",
          "SP or EB",
          "SP or EB",
          "R-on-T PVC",
          "R-on-T PVC",
          "R-on-T PVC",
          "R-on-T PVC",
          "R-on-T PVC",
          "R-on-T PVC",
          "R-on-T PVC",
          "R-on-T PVC",
          "R-on-T PVC",
          "PVC",
          "PVC",
          "R-on-T PVC",
          "R-on-T PVC",
          "R-on-T PVC",
          "R-on-T PVC",
          "R-on-T PVC",
          "R-on-T PVC",
          "R-on-T PVC",
          "R-on-T PVC",
          "R-on-T PVC",
          "R-on-T PVC",
          "PVC",
          "R-on-T PVC",
          "R-on-T PVC",
          "PVC",
          "SP or EB",
          "SP or EB",
          "R-on-T PVC",
          "R-on-T PVC",
          "R-on-T PVC",
          "R-on-T PVC",
          "R-on-T PVC",
          "R-on-T PVC",
          "R-on-T PVC",
          "R-on-T PVC",
          "R-on-T PVC",
          "R-on-T PVC",
          "PVC",
          "R-on-T PVC",
          "R-on-T PVC",
          "SP or EB",
          "R-on-T PVC",
          "R-on-T PVC",
          "R-on-T PVC",
          "R-on-T PVC",
          "R-on-T PVC",
          "R-on-T PVC",
          "R-on-T PVC",
          "R-on-T PVC",
          "R-on-T PVC",
          "R-on-T PVC",
          "SP or EB",
          "PVC",
          "SP or EB",
          "SP or EB",
          "SP or EB",
          "SP or EB",
          "SP or EB",
          "R-on-T PVC",
          "R-on-T PVC",
          "R-on-T PVC",
          "R-on-T PVC",
          "R-on-T PVC",
          "SP or EB",
          "R-on-T PVC",
          "R-on-T PVC",
          "R-on-T PVC",
          "R-on-T PVC",
          "SP or EB",
          "SP or EB",
          "R-on-T PVC",
          "R-on-T PVC",
          "R-on-T PVC",
          "R-on-T PVC",
          "SP or EB",
          "PVC",
          "SP or EB",
          "SP or EB",
          "SP or EB",
          "SP or EB",
          "SP or EB",
          "SP or EB",
          "SP or EB",
          "SP or EB",
          "R-on-T PVC",
          "SP or EB",
          "SP or EB",
          "SP or EB",
          "R-on-T PVC",
          "SP or EB",
          "SP or EB",
          "SP or EB",
          "SP or EB",
          "SP or EB",
          "SP or EB",
          "R-on-T PVC",
          "R-on-T PVC",
          "R-on-T PVC",
          "R-on-T PVC",
          "PVC",
          "R-on-T PVC",
          "SP or EB",
          "R-on-T PVC",
          "R-on-T PVC",
          "R-on-T PVC",
          "R-on-T PVC",
          "R-on-T PVC",
          "R-on-T PVC",
          "R-on-T PVC",
          "PVC",
          "R-on-T PVC",
          "R-on-T PVC",
          "R-on-T PVC",
          "R-on-T PVC",
          "R-on-T PVC",
          "R-on-T PVC",
          "R-on-T PVC",
          "R-on-T PVC",
          "R-on-T PVC",
          "SP or EB",
          "R-on-T PVC",
          "SP or EB",
          "R-on-T PVC",
          "R-on-T PVC",
          "R-on-T PVC",
          "R-on-T PVC",
          "R-on-T PVC",
          "R-on-T PVC",
          "R-on-T PVC",
          "R-on-T PVC",
          "PVC",
          "R-on-T PVC",
          "R-on-T PVC",
          "R-on-T PVC",
          "R-on-T PVC",
          "R-on-T PVC",
          "R-on-T PVC",
          "R-on-T PVC",
          "R-on-T PVC",
          "R-on-T PVC",
          "R-on-T PVC",
          "R-on-T PVC",
          "R-on-T PVC",
          "R-on-T PVC",
          "R-on-T PVC",
          "R-on-T PVC",
          "R-on-T PVC",
          "SP or EB",
          "R-on-T PVC",
          "R-on-T PVC",
          "R-on-T PVC",
          "R-on-T PVC",
          "R-on-T PVC",
          "R-on-T PVC",
          "R-on-T PVC",
          "R-on-T PVC",
          "R-on-T PVC",
          "R-on-T PVC",
          "R-on-T PVC",
          "R-on-T PVC",
          "R-on-T PVC",
          "R-on-T PVC",
          "R-on-T PVC",
          "PVC",
          "R-on-T PVC",
          "R-on-T PVC",
          "R-on-T PVC",
          "R-on-T PVC",
          "R-on-T PVC",
          "R-on-T PVC",
          "R-on-T PVC",
          "R-on-T PVC",
          "R-on-T PVC",
          "PVC",
          "R-on-T PVC",
          "R-on-T PVC",
          "R-on-T PVC",
          "R-on-T PVC",
          "R-on-T PVC",
          "R-on-T PVC",
          "R-on-T PVC",
          "R-on-T PVC",
          "R-on-T PVC",
          "R-on-T PVC",
          "R-on-T PVC",
          "R-on-T PVC",
          "R-on-T PVC",
          "R-on-T PVC",
          "R-on-T PVC",
          "R-on-T PVC",
          "R-on-T PVC",
          "R-on-T PVC",
          "SP or EB",
          "R-on-T PVC",
          "PVC",
          "R-on-T PVC",
          "R-on-T PVC",
          "R-on-T PVC",
          "R-on-T PVC",
          "R-on-T PVC",
          "R-on-T PVC",
          "R-on-T PVC",
          "R-on-T PVC",
          "R-on-T PVC",
          "R-on-T PVC",
          "R-on-T PVC",
          "PVC",
          "R-on-T PVC",
          "R-on-T PVC",
          "R-on-T PVC",
          "R-on-T PVC",
          "R-on-T PVC",
          "R-on-T PVC",
          "PVC",
          "R-on-T PVC",
          "R-on-T PVC",
          "R-on-T PVC",
          "R-on-T PVC",
          "R-on-T PVC",
          "R-on-T PVC",
          "R-on-T PVC",
          "R-on-T PVC",
          "R-on-T PVC",
          "R-on-T PVC",
          "R-on-T PVC",
          "R-on-T PVC",
          "R-on-T PVC",
          "R-on-T PVC",
          "R-on-T PVC",
          "R-on-T PVC",
          "R-on-T PVC",
          "R-on-T PVC",
          "R-on-T PVC",
          "R-on-T PVC",
          "R-on-T PVC",
          "R-on-T PVC",
          "R-on-T PVC",
          "R-on-T PVC",
          "R-on-T PVC",
          "R-on-T PVC",
          "R-on-T PVC",
          "R-on-T PVC",
          "R-on-T PVC",
          "R-on-T PVC",
          "R-on-T PVC",
          "R-on-T PVC",
          "R-on-T PVC",
          "R-on-T PVC",
          "R-on-T PVC",
          "R-on-T PVC",
          "R-on-T PVC",
          "R-on-T PVC",
          "R-on-T PVC",
          "R-on-T PVC",
          "R-on-T PVC",
          "R-on-T PVC",
          "R-on-T PVC",
          "R-on-T PVC",
          "R-on-T PVC",
          "R-on-T PVC",
          "R-on-T PVC",
          "R-on-T PVC",
          "R-on-T PVC",
          "R-on-T PVC",
          "R-on-T PVC",
          "R-on-T PVC",
          "R-on-T PVC",
          "R-on-T PVC",
          "R-on-T PVC",
          "PVC",
          "R-on-T PVC",
          "R-on-T PVC",
          "R-on-T PVC",
          "R-on-T PVC",
          "R-on-T PVC",
          "R-on-T PVC",
          "R-on-T PVC",
          "R-on-T PVC",
          "R-on-T PVC",
          "R-on-T PVC",
          "R-on-T PVC",
          "R-on-T PVC",
          "R-on-T PVC",
          "R-on-T PVC",
          "R-on-T PVC",
          "R-on-T PVC",
          "R-on-T PVC",
          "R-on-T PVC",
          "SP or EB",
          "R-on-T PVC",
          "R-on-T PVC",
          "R-on-T PVC",
          "R-on-T PVC",
          "R-on-T PVC",
          "R-on-T PVC",
          "R-on-T PVC",
          "R-on-T PVC",
          "R-on-T PVC",
          "R-on-T PVC",
          "R-on-T PVC",
          "R-on-T PVC",
          "R-on-T PVC",
          "R-on-T PVC",
          "R-on-T PVC",
          "R-on-T PVC",
          "R-on-T PVC",
          "R-on-T PVC",
          "R-on-T PVC",
          "R-on-T PVC",
          "R-on-T PVC",
          "R-on-T PVC",
          "R-on-T PVC",
          "R-on-T PVC",
          "R-on-T PVC",
          "R-on-T PVC",
          "R-on-T PVC",
          "R-on-T PVC",
          "R-on-T PVC",
          "R-on-T PVC",
          "R-on-T PVC",
          "R-on-T PVC",
          "R-on-T PVC",
          "R-on-T PVC",
          "R-on-T PVC",
          "R-on-T PVC",
          "R-on-T PVC",
          "R-on-T PVC",
          "R-on-T PVC",
          "R-on-T PVC",
          "R-on-T PVC",
          "R-on-T PVC",
          "R-on-T PVC",
          "R-on-T PVC",
          "SP or EB",
          "R-on-T PVC",
          "R-on-T PVC",
          "R-on-T PVC",
          "R-on-T PVC",
          "R-on-T PVC",
          "SP or EB",
          "PVC",
          "R-on-T PVC",
          "R-on-T PVC",
          "SP or EB",
          "SP or EB",
          "SP or EB",
          "SP or EB",
          "R-on-T PVC",
          "R-on-T PVC",
          "R-on-T PVC",
          "R-on-T PVC",
          "R-on-T PVC",
          "PVC",
          "R-on-T PVC",
          "R-on-T PVC",
          "R-on-T PVC",
          "R-on-T PVC",
          "R-on-T PVC",
          "R-on-T PVC",
          "R-on-T PVC",
          "R-on-T PVC",
          "R-on-T PVC",
          "R-on-T PVC",
          "R-on-T PVC",
          "R-on-T PVC",
          "R-on-T PVC",
          "R-on-T PVC",
          "R-on-T PVC",
          "R-on-T PVC",
          "R-on-T PVC",
          "R-on-T PVC",
          "R-on-T PVC",
          "R-on-T PVC",
          "R-on-T PVC",
          "R-on-T PVC",
          "R-on-T PVC",
          "R-on-T PVC",
          "R-on-T PVC",
          "R-on-T PVC",
          "PVC",
          "R-on-T PVC",
          "R-on-T PVC",
          "R-on-T PVC",
          "R-on-T PVC",
          "R-on-T PVC",
          "R-on-T PVC",
          "R-on-T PVC",
          "R-on-T PVC",
          "R-on-T PVC",
          "R-on-T PVC",
          "R-on-T PVC",
          "R-on-T PVC",
          "R-on-T PVC",
          "R-on-T PVC",
          "R-on-T PVC",
          "R-on-T PVC",
          "R-on-T PVC",
          "R-on-T PVC",
          "R-on-T PVC",
          "R-on-T PVC",
          "R-on-T PVC",
          "R-on-T PVC",
          "R-on-T PVC",
          "R-on-T PVC",
          "SP or EB",
          "PVC",
          "R-on-T PVC",
          "R-on-T PVC",
          "R-on-T PVC",
          "R-on-T PVC",
          "PVC",
          "R-on-T PVC",
          "R-on-T PVC",
          "R-on-T PVC",
          "R-on-T PVC",
          "R-on-T PVC",
          "R-on-T PVC",
          "R-on-T PVC",
          "R-on-T PVC",
          "R-on-T PVC",
          "PVC",
          "R-on-T PVC",
          "R-on-T PVC",
          "R-on-T PVC",
          "R-on-T PVC",
          "R-on-T PVC",
          "R-on-T PVC",
          "R-on-T PVC",
          "R-on-T PVC",
          "R-on-T PVC",
          "R-on-T PVC",
          "R-on-T PVC",
          "R-on-T PVC",
          "R-on-T PVC",
          "R-on-T PVC",
          "R-on-T PVC",
          "R-on-T PVC",
          "R-on-T PVC",
          "R-on-T PVC",
          "PVC",
          "R-on-T PVC",
          "R-on-T PVC",
          "R-on-T PVC",
          "R-on-T PVC",
          "R-on-T PVC",
          "R-on-T PVC",
          "R-on-T PVC",
          "R-on-T PVC",
          "R-on-T PVC",
          "R-on-T PVC",
          "R-on-T PVC",
          "R-on-T PVC",
          "R-on-T PVC",
          "PVC",
          "R-on-T PVC",
          "R-on-T PVC",
          "R-on-T PVC",
          "R-on-T PVC",
          "PVC",
          "R-on-T PVC",
          "R-on-T PVC",
          "R-on-T PVC",
          "PVC",
          "R-on-T PVC",
          "R-on-T PVC",
          "R-on-T PVC",
          "R-on-T PVC",
          "R-on-T PVC",
          "R-on-T PVC",
          "R-on-T PVC",
          "R-on-T PVC",
          "R-on-T PVC",
          "R-on-T PVC",
          "R-on-T PVC",
          "R-on-T PVC",
          "R-on-T PVC",
          "R-on-T PVC",
          "R-on-T PVC",
          "R-on-T PVC",
          "R-on-T PVC",
          "R-on-T PVC",
          "R-on-T PVC",
          "R-on-T PVC",
          "R-on-T PVC",
          "R-on-T PVC",
          "R-on-T PVC",
          "R-on-T PVC",
          "R-on-T PVC",
          "R-on-T PVC",
          "R-on-T PVC",
          "R-on-T PVC",
          "R-on-T PVC",
          "R-on-T PVC",
          "R-on-T PVC",
          "R-on-T PVC",
          "R-on-T PVC",
          "R-on-T PVC",
          "R-on-T PVC",
          "R-on-T PVC",
          "R-on-T PVC",
          "R-on-T PVC",
          "R-on-T PVC",
          "R-on-T PVC",
          "PVC",
          "R-on-T PVC",
          "R-on-T PVC",
          "R-on-T PVC",
          "R-on-T PVC",
          "R-on-T PVC",
          "R-on-T PVC",
          "PVC",
          "R-on-T PVC",
          "R-on-T PVC",
          "R-on-T PVC",
          "R-on-T PVC",
          "R-on-T PVC",
          "R-on-T PVC",
          "R-on-T PVC",
          "R-on-T PVC",
          "R-on-T PVC",
          "SP or EB",
          "R-on-T PVC",
          "R-on-T PVC",
          "R-on-T PVC",
          "R-on-T PVC",
          "PVC",
          "R-on-T PVC",
          "R-on-T PVC",
          "R-on-T PVC",
          "R-on-T PVC",
          "R-on-T PVC",
          "R-on-T PVC",
          "R-on-T PVC",
          "R-on-T PVC",
          "R-on-T PVC",
          "R-on-T PVC",
          "R-on-T PVC",
          "R-on-T PVC",
          "R-on-T PVC",
          "R-on-T PVC",
          "R-on-T PVC",
          "R-on-T PVC",
          "R-on-T PVC",
          "R-on-T PVC",
          "R-on-T PVC",
          "R-on-T PVC",
          "R-on-T PVC",
          "R-on-T PVC",
          "R-on-T PVC",
          "R-on-T PVC",
          "R-on-T PVC",
          "R-on-T PVC",
          "R-on-T PVC",
          "R-on-T PVC",
          "R-on-T PVC",
          "R-on-T PVC",
          "R-on-T PVC",
          "R-on-T PVC",
          "PVC",
          "R-on-T PVC",
          "R-on-T PVC",
          "R-on-T PVC",
          "R-on-T PVC",
          "R-on-T PVC",
          "PVC",
          "R-on-T PVC",
          "R-on-T PVC",
          "R-on-T PVC",
          "R-on-T PVC",
          "R-on-T PVC",
          "R-on-T PVC",
          "R-on-T PVC",
          "R-on-T PVC",
          "R-on-T PVC",
          "R-on-T PVC",
          "R-on-T PVC",
          "R-on-T PVC",
          "R-on-T PVC",
          "R-on-T PVC",
          "R-on-T PVC",
          "R-on-T PVC",
          "PVC",
          "PVC",
          "R-on-T PVC",
          "R-on-T PVC",
          "PVC",
          "R-on-T PVC",
          "R-on-T PVC",
          "R-on-T PVC",
          "R-on-T PVC",
          "R-on-T PVC",
          "R-on-T PVC",
          "R-on-T PVC",
          "R-on-T PVC",
          "R-on-T PVC",
          "R-on-T PVC",
          "R-on-T PVC",
          "R-on-T PVC",
          "R-on-T PVC",
          "R-on-T PVC",
          "R-on-T PVC",
          "R-on-T PVC",
          "R-on-T PVC",
          "R-on-T PVC",
          "R-on-T PVC",
          "SP or EB",
          "R-on-T PVC",
          "R-on-T PVC",
          "SP or EB",
          "R-on-T PVC",
          "R-on-T PVC",
          "R-on-T PVC",
          "R-on-T PVC",
          "R-on-T PVC",
          "R-on-T PVC",
          "R-on-T PVC",
          "R-on-T PVC",
          "R-on-T PVC",
          "R-on-T PVC",
          "R-on-T PVC",
          "R-on-T PVC",
          "SP or EB",
          "R-on-T PVC",
          "R-on-T PVC",
          "R-on-T PVC",
          "R-on-T PVC",
          "R-on-T PVC",
          "R-on-T PVC",
          "R-on-T PVC",
          "PVC",
          "PVC",
          "R-on-T PVC",
          "R-on-T PVC",
          "R-on-T PVC",
          "R-on-T PVC",
          "R-on-T PVC",
          "R-on-T PVC",
          "R-on-T PVC",
          "R-on-T PVC",
          "R-on-T PVC",
          "R-on-T PVC",
          "R-on-T PVC",
          "R-on-T PVC",
          "SP or EB",
          "R-on-T PVC",
          "R-on-T PVC",
          "R-on-T PVC",
          "R-on-T PVC",
          "R-on-T PVC",
          "R-on-T PVC",
          "R-on-T PVC",
          "R-on-T PVC",
          "PVC",
          "R-on-T PVC",
          "R-on-T PVC",
          "SP or EB",
          "R-on-T PVC",
          "R-on-T PVC",
          "R-on-T PVC",
          "R-on-T PVC",
          "R-on-T PVC",
          "R-on-T PVC",
          "R-on-T PVC",
          "SP or EB",
          "R-on-T PVC",
          "R-on-T PVC",
          "R-on-T PVC",
          "R-on-T PVC",
          "R-on-T PVC",
          "R-on-T PVC",
          "R-on-T PVC",
          "R-on-T PVC",
          "R-on-T PVC",
          "SP or EB",
          "R-on-T PVC",
          "R-on-T PVC",
          "R-on-T PVC",
          "R-on-T PVC",
          "R-on-T PVC",
          "R-on-T PVC",
          "R-on-T PVC",
          "PVC",
          "R-on-T PVC",
          "R-on-T PVC",
          "R-on-T PVC",
          "R-on-T PVC",
          "R-on-T PVC",
          "R-on-T PVC",
          "R-on-T PVC",
          "R-on-T PVC",
          "R-on-T PVC",
          "R-on-T PVC",
          "R-on-T PVC",
          "R-on-T PVC",
          "R-on-T PVC",
          "R-on-T PVC",
          "R-on-T PVC",
          "R-on-T PVC",
          "R-on-T PVC",
          "R-on-T PVC",
          "R-on-T PVC",
          "R-on-T PVC",
          "R-on-T PVC",
          "R-on-T PVC",
          "R-on-T PVC",
          "R-on-T PVC",
          "R-on-T PVC",
          "R-on-T PVC",
          "R-on-T PVC",
          "R-on-T PVC",
          "R-on-T PVC",
          "R-on-T PVC",
          "R-on-T PVC",
          "R-on-T PVC",
          "R-on-T PVC",
          "R-on-T PVC",
          "R-on-T PVC",
          "R-on-T PVC",
          "R-on-T PVC",
          "R-on-T PVC",
          "R-on-T PVC",
          "R-on-T PVC",
          "R-on-T PVC",
          "R-on-T PVC",
          "R-on-T PVC",
          "R-on-T PVC",
          "R-on-T PVC",
          "R-on-T PVC",
          "PVC",
          "R-on-T PVC",
          "R-on-T PVC",
          "R-on-T PVC",
          "R-on-T PVC",
          "R-on-T PVC",
          "R-on-T PVC",
          "R-on-T PVC",
          "R-on-T PVC",
          "R-on-T PVC",
          "R-on-T PVC",
          "R-on-T PVC",
          "R-on-T PVC",
          "R-on-T PVC",
          "PVC",
          "R-on-T PVC",
          "R-on-T PVC",
          "R-on-T PVC",
          "UB",
          "R-on-T PVC",
          "R-on-T PVC",
          "UB",
          "R-on-T PVC",
          "UB",
          "PVC",
          "R-on-T PVC",
          "R-on-T PVC",
          "SP or EB",
          "R-on-T PVC",
          "R-on-T PVC",
          "R-on-T PVC",
          "R-on-T PVC",
          "R-on-T PVC",
          "R-on-T PVC",
          "R-on-T PVC",
          "R-on-T PVC",
          "R-on-T PVC",
          "R-on-T PVC",
          "R-on-T PVC",
          "R-on-T PVC",
          "R-on-T PVC",
          "R-on-T PVC",
          "SP or EB",
          "R-on-T PVC",
          "R-on-T PVC",
          "SP or EB",
          "R-on-T PVC",
          "R-on-T PVC",
          "R-on-T PVC",
          "R-on-T PVC",
          "R-on-T PVC",
          "R-on-T PVC",
          "R-on-T PVC",
          "R-on-T PVC",
          "R-on-T PVC",
          "R-on-T PVC",
          "R-on-T PVC",
          "R-on-T PVC",
          "R-on-T PVC",
          "R-on-T PVC",
          "R-on-T PVC",
          "R-on-T PVC",
          "R-on-T PVC",
          "R-on-T PVC",
          "R-on-T PVC",
          "R-on-T PVC",
          "PVC",
          "UB",
          "R-on-T PVC",
          "R-on-T PVC",
          "R-on-T PVC",
          "R-on-T PVC",
          "SP or EB",
          "R-on-T PVC",
          "R-on-T PVC",
          "SP or EB",
          "R-on-T PVC",
          "SP or EB",
          "R-on-T PVC",
          "SP or EB",
          "R-on-T PVC",
          "SP or EB",
          "R-on-T PVC",
          "SP or EB",
          "R-on-T PVC",
          "SP or EB",
          "R-on-T PVC",
          "R-on-T PVC",
          "SP or EB",
          "SP or EB",
          "SP or EB",
          "R-on-T PVC",
          "SP or EB",
          "R-on-T PVC",
          "SP or EB",
          "R-on-T PVC",
          "R-on-T PVC",
          "SP or EB",
          "SP or EB",
          "R-on-T PVC",
          "SP or EB",
          "SP or EB",
          "SP or EB",
          "R-on-T PVC",
          "SP or EB",
          "SP or EB",
          "SP or EB",
          "SP or EB",
          "SP or EB",
          "SP or EB",
          "SP or EB",
          "SP or EB",
          "SP or EB",
          "R-on-T PVC",
          "SP or EB",
          "R-on-T PVC",
          "SP or EB",
          "R-on-T PVC",
          "SP or EB",
          "SP or EB",
          "SP or EB",
          "SP or EB",
          "SP or EB",
          "SP or EB",
          "SP or EB",
          "SP or EB",
          "SP or EB",
          "R-on-T PVC",
          "PVC",
          "PVC",
          "SP or EB",
          "SP or EB",
          "R-on-T PVC",
          "SP or EB",
          "R-on-T PVC",
          "R-on-T PVC",
          "R-on-T PVC",
          "R-on-T PVC",
          "R-on-T PVC",
          "R-on-T PVC",
          "R-on-T PVC",
          "SP or EB",
          "R-on-T PVC",
          "R-on-T PVC",
          "R-on-T PVC",
          "R-on-T PVC",
          "R-on-T PVC",
          "R-on-T PVC",
          "SP or EB",
          "R-on-T PVC",
          "R-on-T PVC",
          "R-on-T PVC",
          "R-on-T PVC",
          "SP or EB",
          "R-on-T PVC",
          "SP or EB",
          "R-on-T PVC",
          "SP or EB",
          "R-on-T PVC",
          "SP or EB",
          "R-on-T PVC",
          "SP or EB",
          "R-on-T PVC",
          "R-on-T PVC",
          "R-on-T PVC",
          "R-on-T PVC",
          "R-on-T PVC",
          "R-on-T PVC",
          "SP or EB",
          "R-on-T PVC",
          "R-on-T PVC",
          "R-on-T PVC",
          "R-on-T PVC",
          "R-on-T PVC",
          "R-on-T PVC",
          "SP or EB",
          "R-on-T PVC",
          "R-on-T PVC",
          "R-on-T PVC",
          "SP or EB",
          "R-on-T PVC",
          "R-on-T PVC",
          "R-on-T PVC",
          "R-on-T PVC"
         ],
         "xaxis": "x",
         "yaxis": "y"
        }
       ],
       "layout": {
        "barmode": "relative",
        "legend": {
         "tracegroupgap": 0
        },
        "margin": {
         "t": 60
        },
        "template": {
         "data": {
          "bar": [
           {
            "error_x": {
             "color": "#2a3f5f"
            },
            "error_y": {
             "color": "#2a3f5f"
            },
            "marker": {
             "line": {
              "color": "#E5ECF6",
              "width": 0.5
             },
             "pattern": {
              "fillmode": "overlay",
              "size": 10,
              "solidity": 0.2
             }
            },
            "type": "bar"
           }
          ],
          "barpolar": [
           {
            "marker": {
             "line": {
              "color": "#E5ECF6",
              "width": 0.5
             },
             "pattern": {
              "fillmode": "overlay",
              "size": 10,
              "solidity": 0.2
             }
            },
            "type": "barpolar"
           }
          ],
          "carpet": [
           {
            "aaxis": {
             "endlinecolor": "#2a3f5f",
             "gridcolor": "white",
             "linecolor": "white",
             "minorgridcolor": "white",
             "startlinecolor": "#2a3f5f"
            },
            "baxis": {
             "endlinecolor": "#2a3f5f",
             "gridcolor": "white",
             "linecolor": "white",
             "minorgridcolor": "white",
             "startlinecolor": "#2a3f5f"
            },
            "type": "carpet"
           }
          ],
          "choropleth": [
           {
            "colorbar": {
             "outlinewidth": 0,
             "ticks": ""
            },
            "type": "choropleth"
           }
          ],
          "contour": [
           {
            "colorbar": {
             "outlinewidth": 0,
             "ticks": ""
            },
            "colorscale": [
             [
              0,
              "#0d0887"
             ],
             [
              0.1111111111111111,
              "#46039f"
             ],
             [
              0.2222222222222222,
              "#7201a8"
             ],
             [
              0.3333333333333333,
              "#9c179e"
             ],
             [
              0.4444444444444444,
              "#bd3786"
             ],
             [
              0.5555555555555556,
              "#d8576b"
             ],
             [
              0.6666666666666666,
              "#ed7953"
             ],
             [
              0.7777777777777778,
              "#fb9f3a"
             ],
             [
              0.8888888888888888,
              "#fdca26"
             ],
             [
              1,
              "#f0f921"
             ]
            ],
            "type": "contour"
           }
          ],
          "contourcarpet": [
           {
            "colorbar": {
             "outlinewidth": 0,
             "ticks": ""
            },
            "type": "contourcarpet"
           }
          ],
          "heatmap": [
           {
            "colorbar": {
             "outlinewidth": 0,
             "ticks": ""
            },
            "colorscale": [
             [
              0,
              "#0d0887"
             ],
             [
              0.1111111111111111,
              "#46039f"
             ],
             [
              0.2222222222222222,
              "#7201a8"
             ],
             [
              0.3333333333333333,
              "#9c179e"
             ],
             [
              0.4444444444444444,
              "#bd3786"
             ],
             [
              0.5555555555555556,
              "#d8576b"
             ],
             [
              0.6666666666666666,
              "#ed7953"
             ],
             [
              0.7777777777777778,
              "#fb9f3a"
             ],
             [
              0.8888888888888888,
              "#fdca26"
             ],
             [
              1,
              "#f0f921"
             ]
            ],
            "type": "heatmap"
           }
          ],
          "heatmapgl": [
           {
            "colorbar": {
             "outlinewidth": 0,
             "ticks": ""
            },
            "colorscale": [
             [
              0,
              "#0d0887"
             ],
             [
              0.1111111111111111,
              "#46039f"
             ],
             [
              0.2222222222222222,
              "#7201a8"
             ],
             [
              0.3333333333333333,
              "#9c179e"
             ],
             [
              0.4444444444444444,
              "#bd3786"
             ],
             [
              0.5555555555555556,
              "#d8576b"
             ],
             [
              0.6666666666666666,
              "#ed7953"
             ],
             [
              0.7777777777777778,
              "#fb9f3a"
             ],
             [
              0.8888888888888888,
              "#fdca26"
             ],
             [
              1,
              "#f0f921"
             ]
            ],
            "type": "heatmapgl"
           }
          ],
          "histogram": [
           {
            "marker": {
             "pattern": {
              "fillmode": "overlay",
              "size": 10,
              "solidity": 0.2
             }
            },
            "type": "histogram"
           }
          ],
          "histogram2d": [
           {
            "colorbar": {
             "outlinewidth": 0,
             "ticks": ""
            },
            "colorscale": [
             [
              0,
              "#0d0887"
             ],
             [
              0.1111111111111111,
              "#46039f"
             ],
             [
              0.2222222222222222,
              "#7201a8"
             ],
             [
              0.3333333333333333,
              "#9c179e"
             ],
             [
              0.4444444444444444,
              "#bd3786"
             ],
             [
              0.5555555555555556,
              "#d8576b"
             ],
             [
              0.6666666666666666,
              "#ed7953"
             ],
             [
              0.7777777777777778,
              "#fb9f3a"
             ],
             [
              0.8888888888888888,
              "#fdca26"
             ],
             [
              1,
              "#f0f921"
             ]
            ],
            "type": "histogram2d"
           }
          ],
          "histogram2dcontour": [
           {
            "colorbar": {
             "outlinewidth": 0,
             "ticks": ""
            },
            "colorscale": [
             [
              0,
              "#0d0887"
             ],
             [
              0.1111111111111111,
              "#46039f"
             ],
             [
              0.2222222222222222,
              "#7201a8"
             ],
             [
              0.3333333333333333,
              "#9c179e"
             ],
             [
              0.4444444444444444,
              "#bd3786"
             ],
             [
              0.5555555555555556,
              "#d8576b"
             ],
             [
              0.6666666666666666,
              "#ed7953"
             ],
             [
              0.7777777777777778,
              "#fb9f3a"
             ],
             [
              0.8888888888888888,
              "#fdca26"
             ],
             [
              1,
              "#f0f921"
             ]
            ],
            "type": "histogram2dcontour"
           }
          ],
          "mesh3d": [
           {
            "colorbar": {
             "outlinewidth": 0,
             "ticks": ""
            },
            "type": "mesh3d"
           }
          ],
          "parcoords": [
           {
            "line": {
             "colorbar": {
              "outlinewidth": 0,
              "ticks": ""
             }
            },
            "type": "parcoords"
           }
          ],
          "pie": [
           {
            "automargin": true,
            "type": "pie"
           }
          ],
          "scatter": [
           {
            "fillpattern": {
             "fillmode": "overlay",
             "size": 10,
             "solidity": 0.2
            },
            "type": "scatter"
           }
          ],
          "scatter3d": [
           {
            "line": {
             "colorbar": {
              "outlinewidth": 0,
              "ticks": ""
             }
            },
            "marker": {
             "colorbar": {
              "outlinewidth": 0,
              "ticks": ""
             }
            },
            "type": "scatter3d"
           }
          ],
          "scattercarpet": [
           {
            "marker": {
             "colorbar": {
              "outlinewidth": 0,
              "ticks": ""
             }
            },
            "type": "scattercarpet"
           }
          ],
          "scattergeo": [
           {
            "marker": {
             "colorbar": {
              "outlinewidth": 0,
              "ticks": ""
             }
            },
            "type": "scattergeo"
           }
          ],
          "scattergl": [
           {
            "marker": {
             "colorbar": {
              "outlinewidth": 0,
              "ticks": ""
             }
            },
            "type": "scattergl"
           }
          ],
          "scattermapbox": [
           {
            "marker": {
             "colorbar": {
              "outlinewidth": 0,
              "ticks": ""
             }
            },
            "type": "scattermapbox"
           }
          ],
          "scatterpolar": [
           {
            "marker": {
             "colorbar": {
              "outlinewidth": 0,
              "ticks": ""
             }
            },
            "type": "scatterpolar"
           }
          ],
          "scatterpolargl": [
           {
            "marker": {
             "colorbar": {
              "outlinewidth": 0,
              "ticks": ""
             }
            },
            "type": "scatterpolargl"
           }
          ],
          "scatterternary": [
           {
            "marker": {
             "colorbar": {
              "outlinewidth": 0,
              "ticks": ""
             }
            },
            "type": "scatterternary"
           }
          ],
          "surface": [
           {
            "colorbar": {
             "outlinewidth": 0,
             "ticks": ""
            },
            "colorscale": [
             [
              0,
              "#0d0887"
             ],
             [
              0.1111111111111111,
              "#46039f"
             ],
             [
              0.2222222222222222,
              "#7201a8"
             ],
             [
              0.3333333333333333,
              "#9c179e"
             ],
             [
              0.4444444444444444,
              "#bd3786"
             ],
             [
              0.5555555555555556,
              "#d8576b"
             ],
             [
              0.6666666666666666,
              "#ed7953"
             ],
             [
              0.7777777777777778,
              "#fb9f3a"
             ],
             [
              0.8888888888888888,
              "#fdca26"
             ],
             [
              1,
              "#f0f921"
             ]
            ],
            "type": "surface"
           }
          ],
          "table": [
           {
            "cells": {
             "fill": {
              "color": "#EBF0F8"
             },
             "line": {
              "color": "white"
             }
            },
            "header": {
             "fill": {
              "color": "#C8D4E3"
             },
             "line": {
              "color": "white"
             }
            },
            "type": "table"
           }
          ]
         },
         "layout": {
          "annotationdefaults": {
           "arrowcolor": "#2a3f5f",
           "arrowhead": 0,
           "arrowwidth": 1
          },
          "autotypenumbers": "strict",
          "coloraxis": {
           "colorbar": {
            "outlinewidth": 0,
            "ticks": ""
           }
          },
          "colorscale": {
           "diverging": [
            [
             0,
             "#8e0152"
            ],
            [
             0.1,
             "#c51b7d"
            ],
            [
             0.2,
             "#de77ae"
            ],
            [
             0.3,
             "#f1b6da"
            ],
            [
             0.4,
             "#fde0ef"
            ],
            [
             0.5,
             "#f7f7f7"
            ],
            [
             0.6,
             "#e6f5d0"
            ],
            [
             0.7,
             "#b8e186"
            ],
            [
             0.8,
             "#7fbc41"
            ],
            [
             0.9,
             "#4d9221"
            ],
            [
             1,
             "#276419"
            ]
           ],
           "sequential": [
            [
             0,
             "#0d0887"
            ],
            [
             0.1111111111111111,
             "#46039f"
            ],
            [
             0.2222222222222222,
             "#7201a8"
            ],
            [
             0.3333333333333333,
             "#9c179e"
            ],
            [
             0.4444444444444444,
             "#bd3786"
            ],
            [
             0.5555555555555556,
             "#d8576b"
            ],
            [
             0.6666666666666666,
             "#ed7953"
            ],
            [
             0.7777777777777778,
             "#fb9f3a"
            ],
            [
             0.8888888888888888,
             "#fdca26"
            ],
            [
             1,
             "#f0f921"
            ]
           ],
           "sequentialminus": [
            [
             0,
             "#0d0887"
            ],
            [
             0.1111111111111111,
             "#46039f"
            ],
            [
             0.2222222222222222,
             "#7201a8"
            ],
            [
             0.3333333333333333,
             "#9c179e"
            ],
            [
             0.4444444444444444,
             "#bd3786"
            ],
            [
             0.5555555555555556,
             "#d8576b"
            ],
            [
             0.6666666666666666,
             "#ed7953"
            ],
            [
             0.7777777777777778,
             "#fb9f3a"
            ],
            [
             0.8888888888888888,
             "#fdca26"
            ],
            [
             1,
             "#f0f921"
            ]
           ]
          },
          "colorway": [
           "#636efa",
           "#EF553B",
           "#00cc96",
           "#ab63fa",
           "#FFA15A",
           "#19d3f3",
           "#FF6692",
           "#B6E880",
           "#FF97FF",
           "#FECB52"
          ],
          "font": {
           "color": "#2a3f5f"
          },
          "geo": {
           "bgcolor": "white",
           "lakecolor": "white",
           "landcolor": "#E5ECF6",
           "showlakes": true,
           "showland": true,
           "subunitcolor": "white"
          },
          "hoverlabel": {
           "align": "left"
          },
          "hovermode": "closest",
          "mapbox": {
           "style": "light"
          },
          "paper_bgcolor": "white",
          "plot_bgcolor": "#E5ECF6",
          "polar": {
           "angularaxis": {
            "gridcolor": "white",
            "linecolor": "white",
            "ticks": ""
           },
           "bgcolor": "#E5ECF6",
           "radialaxis": {
            "gridcolor": "white",
            "linecolor": "white",
            "ticks": ""
           }
          },
          "scene": {
           "xaxis": {
            "backgroundcolor": "#E5ECF6",
            "gridcolor": "white",
            "gridwidth": 2,
            "linecolor": "white",
            "showbackground": true,
            "ticks": "",
            "zerolinecolor": "white"
           },
           "yaxis": {
            "backgroundcolor": "#E5ECF6",
            "gridcolor": "white",
            "gridwidth": 2,
            "linecolor": "white",
            "showbackground": true,
            "ticks": "",
            "zerolinecolor": "white"
           },
           "zaxis": {
            "backgroundcolor": "#E5ECF6",
            "gridcolor": "white",
            "gridwidth": 2,
            "linecolor": "white",
            "showbackground": true,
            "ticks": "",
            "zerolinecolor": "white"
           }
          },
          "shapedefaults": {
           "line": {
            "color": "#2a3f5f"
           }
          },
          "ternary": {
           "aaxis": {
            "gridcolor": "white",
            "linecolor": "white",
            "ticks": ""
           },
           "baxis": {
            "gridcolor": "white",
            "linecolor": "white",
            "ticks": ""
           },
           "bgcolor": "#E5ECF6",
           "caxis": {
            "gridcolor": "white",
            "linecolor": "white",
            "ticks": ""
           }
          },
          "title": {
           "x": 0.05
          },
          "xaxis": {
           "automargin": true,
           "gridcolor": "white",
           "linecolor": "white",
           "ticks": "",
           "title": {
            "standoff": 15
           },
           "zerolinecolor": "white",
           "zerolinewidth": 2
          },
          "yaxis": {
           "automargin": true,
           "gridcolor": "white",
           "linecolor": "white",
           "ticks": "",
           "title": {
            "standoff": 15
           },
           "zerolinecolor": "white",
           "zerolinewidth": 2
          }
         }
        },
        "xaxis": {
         "anchor": "y",
         "domain": [
          0,
          1
         ],
         "title": {
          "text": "x"
         }
        },
        "yaxis": {
         "anchor": "x",
         "domain": [
          0,
          1
         ],
         "title": {
          "text": "count"
         }
        }
       }
      }
     },
     "metadata": {},
     "output_type": "display_data"
    }
   ],
   "source": [
    "px.histogram(x=[labels[i] for i in y ], nbins=10)"
   ]
  },
  {
   "cell_type": "code",
   "execution_count": 14,
   "metadata": {},
   "outputs": [],
   "source": [
    "data=pd.DataFrame(X.squeeze())"
   ]
  },
  {
   "cell_type": "markdown",
   "metadata": {},
   "source": [
    "#### Missing values"
   ]
  },
  {
   "cell_type": "code",
   "execution_count": 5,
   "metadata": {},
   "outputs": [
    {
     "data": {
      "text/plain": [
       "0"
      ]
     },
     "execution_count": 5,
     "metadata": {},
     "output_type": "execute_result"
    }
   ],
   "source": [
    "data.isnull().sum().sum()"
   ]
  },
  {
   "cell_type": "markdown",
   "metadata": {},
   "source": [
    "##### Duplicates"
   ]
  },
  {
   "cell_type": "code",
   "execution_count": 6,
   "metadata": {},
   "outputs": [
    {
     "data": {
      "text/plain": [
       "0"
      ]
     },
     "execution_count": 6,
     "metadata": {},
     "output_type": "execute_result"
    }
   ],
   "source": [
    "data.duplicated().sum()"
   ]
  },
  {
   "cell_type": "markdown",
   "metadata": {},
   "source": [
    "### PLots"
   ]
  },
  {
   "cell_type": "code",
   "execution_count": 15,
   "metadata": {},
   "outputs": [],
   "source": [
    "def plot_label(label):\n",
    "    m=X[y==label].mean(axis=0).squeeze()\n",
    "    std=X[y==label].std(axis=0).squeeze()\n",
    "    fig = go.Figure([\n",
    "        go.Scatter(\n",
    "            name='Measurement',\n",
    "            y=m,\n",
    "            mode='lines',\n",
    "            line=dict(color='rgb(31, 119, 180)'),\n",
    "        ),\n",
    "        go.Scatter(\n",
    "            name='Upper Bound',\n",
    "            y=m+std,\n",
    "            mode='lines',\n",
    "            marker=dict(color=\"#444\"),\n",
    "            line=dict(width=0),\n",
    "            showlegend=False\n",
    "        ),\n",
    "        go.Scatter(\n",
    "            name='Lower Bound',\n",
    "            y=m-std,\n",
    "            marker=dict(color=\"#444\"),\n",
    "            line=dict(width=0),\n",
    "            mode='lines',\n",
    "            fillcolor='rgba(68, 68, 68, 0.3)',\n",
    "            fill='tonexty',\n",
    "            showlegend=False\n",
    "        )\n",
    "    ])\n",
    "    fig.update_layout(\n",
    "        yaxis_title='signal',\n",
    "        title=f'class: {labels[label]}',\n",
    "        hovermode=\"x\"\n",
    "    )\n",
    "    fig.show()"
   ]
  },
  {
   "cell_type": "code",
   "execution_count": 16,
   "metadata": {},
   "outputs": [
    {
     "data": {
      "application/vnd.plotly.v1+json": {
       "config": {
        "plotlyServerURL": "https://plot.ly"
       },
       "data": [
        {
         "line": {
          "color": "rgb(31, 119, 180)"
         },
         "mode": "lines",
         "name": "Measurement",
         "type": "scatter",
         "y": [
          -0.3740976484358549,
          -2.2048828518586183,
          -3.2915974626620303,
          -3.955332824561145,
          -3.85827076109968,
          -3.2490609488783857,
          -2.282234579037007,
          -1.626273703423776,
          -1.188126604198495,
          -0.6403336286758001,
          -0.2858051258997262,
          -0.22515660734052442,
          -0.21778421758770455,
          -0.21170312599722554,
          -0.2047459298526858,
          -0.20376337614070195,
          -0.20563092699395508,
          -0.2121484172431481,
          -0.22964041694147683,
          -0.24518792221378527,
          -0.260125268358924,
          -0.27987319104421043,
          -0.2990259105520794,
          -0.32499257653072994,
          -0.35148354506165175,
          -0.3786045522984921,
          -0.4091824540118947,
          -0.44304582732498415,
          -0.4787747701166158,
          -0.5135908232040939,
          -0.5500637141155353,
          -0.5855960025210702,
          -0.622305446348667,
          -0.6484601205231235,
          -0.6674109627172039,
          -0.6780863838005603,
          -0.6741167400278641,
          -0.6618860769582846,
          -0.6385753514699839,
          -0.6027795440359575,
          -0.5498092923682699,
          -0.48705819128694827,
          -0.4165892692916791,
          -0.34065282208329223,
          -0.2638030152464506,
          -0.1906007399670256,
          -0.12380650515049778,
          -0.07156479203403404,
          -0.029347977695395655,
          0.0022958359899863004,
          0.022772764770104054,
          0.03843650095742198,
          0.05207611779738521,
          0.06374610041679012,
          0.07029114026183356,
          0.0800423532187599,
          0.08778116788136722,
          0.09843144831224404,
          0.11175162056704321,
          0.1254073845669941,
          0.1369181697131278,
          0.15086811976629902,
          0.17022986024336406,
          0.1928261137921295,
          0.21931160656630283,
          0.24939804849399155,
          0.28143880169611835,
          0.318638974105547,
          0.35979615437279866,
          0.39481189606139716,
          0.4281196340372746,
          0.46257579292250833,
          0.4906018002555668,
          0.5132955993199043,
          0.531164276422199,
          0.5430226324849401,
          0.5480697194315519,
          0.5450902192017139,
          0.5429181746295986,
          0.5339373851018858,
          0.5183290015272697,
          0.5057606406479607,
          0.4893538884333325,
          0.470111212612504,
          0.45066900834198687,
          0.43483583975117623,
          0.41964875010423597,
          0.40160221116248757,
          0.38803598463422073,
          0.3761151091009595,
          0.36581347631291533,
          0.36410727464273085,
          0.3691123137821859,
          0.38936652350620066,
          0.4334963631649879,
          0.505425930201692,
          0.6047547562866754,
          0.716059215491266,
          0.8466596062618028,
          0.99795296331593,
          1.1703093599035956,
          1.3454646860455612,
          1.4909112430961295,
          1.5704901173775951,
          1.5881392406216968,
          1.5621292507170261,
          1.4931614050873252,
          1.3717906448428925,
          1.1956913662578286,
          0.9808264346972179,
          0.728448272132631,
          0.4698993901784891,
          0.23473807767330912,
          0.05840163231127228,
          -0.05836561593310244,
          -0.14974847945032832,
          -0.2153238600786033,
          -0.24362522634030398,
          -0.2548459020945703,
          -0.2596524090125626,
          -0.26280898651276885,
          -0.26362526944241504,
          -0.26411889162405605,
          -0.26350463155755005,
          -0.2576451421853031,
          -0.24460932336146263,
          -0.211700825324926,
          -0.1299943783039363,
          0.06823940522937828,
          0.4202994834854226,
          0.7853433054726894,
          0.9573680835572121,
          1.0453865634198365,
          1.0153290759490246,
          0.895451694937513,
          0.6314376544007634,
          0.5124379610429499,
          0.48763412786111426,
          0.5656972942420024,
          -0.5257433675425498
         ]
        },
        {
         "line": {
          "width": 0
         },
         "marker": {
          "color": "#444"
         },
         "mode": "lines",
         "name": "Upper Bound",
         "showlegend": false,
         "type": "scatter",
         "y": [
          0.889195362084213,
          -0.7791878516122892,
          -2.283962064792,
          -3.239903358005278,
          -3.295790195379543,
          -2.5293115636597614,
          -1.5966492834803625,
          -1.1671464254552966,
          -0.6960511183365793,
          -0.1379504932861535,
          0.1300492486926193,
          0.17285161059834123,
          0.17400495371967845,
          0.17427533101900147,
          0.17922620811283008,
          0.18171619282129908,
          0.1820661585381964,
          0.17496968556631626,
          0.14584020142646129,
          0.12577064809253058,
          0.1094694516102242,
          0.09140129631124999,
          0.0730440571150412,
          0.04685041173429261,
          0.01850967739138587,
          -0.006554955137613783,
          -0.03218266583369206,
          -0.0651426406042191,
          -0.10003882637562572,
          -0.13290612836584492,
          -0.16487649029170087,
          -0.19547319329096668,
          -0.2328311317327274,
          -0.25340534777194024,
          -0.2735571691440547,
          -0.28315938455386647,
          -0.28110111244675134,
          -0.2761484052400727,
          -0.2574040157939457,
          -0.23182960167315347,
          -0.18734311792881791,
          -0.13414785690119752,
          -0.07860493139902519,
          -0.018549578448758597,
          0.03972110250856953,
          0.09358836004833726,
          0.14477400785204014,
          0.17519090179411628,
          0.1982761569106569,
          0.217838705961281,
          0.22901851556580158,
          0.23426251321393587,
          0.242869827238392,
          0.24012384562177636,
          0.2393746835089164,
          0.24538053494732143,
          0.251551369891658,
          0.2573494341655741,
          0.26936188183701143,
          0.28341506490658164,
          0.2938837829886971,
          0.30975423460981033,
          0.3381354518243441,
          0.3579693295637501,
          0.39004964814344056,
          0.4232666680205167,
          0.462487622196058,
          0.5035509788863588,
          0.5489352174155293,
          0.5882809017973111,
          0.6290323663269545,
          0.6636590910999663,
          0.6866329921505491,
          0.7113853260152206,
          0.7257622786576583,
          0.7321774309457123,
          0.7356024592806045,
          0.7380256441906109,
          0.7284967989173219,
          0.7136309685878469,
          0.6957561502860572,
          0.684304898554636,
          0.6705807177666679,
          0.6507686291608539,
          0.6320441448622118,
          0.6198546687277711,
          0.6023332839331784,
          0.5806146481019748,
          0.5734784568682224,
          0.5603010767231275,
          0.5541703061430353,
          0.5607500009552026,
          0.5754802825700895,
          0.6206812649209438,
          0.6942719837094176,
          0.8082028146948499,
          0.9573143429998446,
          1.123500925748215,
          1.294865359738742,
          1.49041996705901,
          1.6999313016787463,
          1.8895464060366163,
          2.0259051487168476,
          2.0699827189485025,
          2.049087177974912,
          1.9966818030050792,
          1.9268936476114567,
          1.845826137784071,
          1.714644040174575,
          1.5291021623652776,
          1.3012825794251655,
          1.060041112009764,
          0.8178770865250621,
          0.5991939737744142,
          0.42949801561135603,
          0.2795817016963519,
          0.18626229048733642,
          0.143311413543804,
          0.12464912367524772,
          0.11193560648814366,
          0.10434772316912216,
          0.10406310324130963,
          0.1055469982752738,
          0.11436946986136409,
          0.12571877839913964,
          0.1461522556495019,
          0.1889634858886755,
          0.29546369485355306,
          0.5587581397611795,
          1.0075727345685996,
          1.4004182443520286,
          1.5328482598802842,
          1.6109677201279,
          1.7241537843999533,
          1.7780552249638566,
          1.6273168255222905,
          1.5287717413623114,
          1.5093783883569398,
          1.5926474932738486,
          0.729400869656438
         ]
        },
        {
         "fill": "tonexty",
         "fillcolor": "rgba(68, 68, 68, 0.3)",
         "line": {
          "width": 0
         },
         "marker": {
          "color": "#444"
         },
         "mode": "lines",
         "name": "Lower Bound",
         "showlegend": false,
         "type": "scatter",
         "y": [
          -1.6373906589559228,
          -3.630577852104947,
          -4.299232860532061,
          -4.670762291117012,
          -4.420751326819817,
          -3.96881033409701,
          -2.9678198745936517,
          -2.0854009813922554,
          -1.6802020900604107,
          -1.1427167640654468,
          -0.7016595004920716,
          -0.6231648252793901,
          -0.6095733888950876,
          -0.5976815830134525,
          -0.5887180678182017,
          -0.589242945102703,
          -0.5933280125261066,
          -0.5992665200526124,
          -0.605121035309415,
          -0.6161464925201011,
          -0.6297199883280722,
          -0.6511476783996708,
          -0.6710958782192,
          -0.6968355647957525,
          -0.7214767675146894,
          -0.7506541494593704,
          -0.7861822421900972,
          -0.8209490140457492,
          -0.8575107138576059,
          -0.8942755180423428,
          -0.9352509379393699,
          -0.9757188117511738,
          -1.0117797609646066,
          -1.0435148932743068,
          -1.061264756290353,
          -1.0730133830472541,
          -1.067132367608977,
          -1.0476237486764965,
          -1.0197466871460221,
          -0.9737294863987614,
          -0.912275466807722,
          -0.839968525672699,
          -0.754573607184333,
          -0.6627560657178259,
          -0.5673271330014708,
          -0.47478983998238844,
          -0.3923870181530357,
          -0.31832048586218437,
          -0.25697211230144823,
          -0.21324703398130837,
          -0.18347298602559345,
          -0.1573895112990919,
          -0.13871759164362157,
          -0.11263164478819614,
          -0.0987924029852493,
          -0.08529582850980165,
          -0.07598903412892355,
          -0.060486537541086016,
          -0.045858640702925,
          -0.03260029577259346,
          -0.020047443562441453,
          -0.00801799507721232,
          0.002324268662384027,
          0.027682898020508884,
          0.04857356498916507,
          0.07552942896746642,
          0.10038998119617867,
          0.13372696932473513,
          0.17065709133006804,
          0.20134289032548322,
          0.22720690174759473,
          0.2614924947450503,
          0.2945706083605846,
          0.315205872624588,
          0.3365662741867397,
          0.3538678340241678,
          0.36053697958249936,
          0.3521547942128168,
          0.35733955034187526,
          0.3542438016159247,
          0.3409018527684821,
          0.3272163827412852,
          0.30812705909999705,
          0.2894537960641541,
          0.2692938718217619,
          0.24981701077458146,
          0.23696421627529354,
          0.2225897742230003,
          0.20259351240021906,
          0.1919291414787916,
          0.17745664648279533,
          0.16746454833025917,
          0.1627443449942823,
          0.15805178209145757,
          0.1727207426205582,
          0.20264904570853415,
          0.2521951695735062,
          0.3086175052343173,
          0.39845385278486367,
          0.50548595957285,
          0.6406874181284449,
          0.8013829660545062,
          0.9559173374754117,
          1.070997515806688,
          1.1271913032684815,
          1.127576698428973,
          1.0594291625631937,
          0.8977551519017138,
          0.6767386923410821,
          0.4325507070291582,
          0.15561396484009649,
          -0.1202423316527858,
          -0.34840093117844384,
          -0.48239070915186966,
          -0.5462292474775609,
          -0.5790786605970085,
          -0.616910010644543,
          -0.6305618662244119,
          -0.6343409278643883,
          -0.6312404245132688,
          -0.6299656961946598,
          -0.6313136421261397,
          -0.6337847815233859,
          -0.6413787329764642,
          -0.6410090627697458,
          -0.6353709023724272,
          -0.6123651365385275,
          -0.5554524514614256,
          -0.4222793293024229,
          -0.16697376759775434,
          0.1702683665933502,
          0.3818879072341401,
          0.47980540671177285,
          0.30650436749809573,
          0.012848164911169468,
          -0.36444151672076375,
          -0.5038958192764116,
          -0.5341101326347113,
          -0.4612529047898437,
          -1.7808876047415376
         ]
        }
       ],
       "layout": {
        "hovermode": "x",
        "template": {
         "data": {
          "bar": [
           {
            "error_x": {
             "color": "#2a3f5f"
            },
            "error_y": {
             "color": "#2a3f5f"
            },
            "marker": {
             "line": {
              "color": "#E5ECF6",
              "width": 0.5
             },
             "pattern": {
              "fillmode": "overlay",
              "size": 10,
              "solidity": 0.2
             }
            },
            "type": "bar"
           }
          ],
          "barpolar": [
           {
            "marker": {
             "line": {
              "color": "#E5ECF6",
              "width": 0.5
             },
             "pattern": {
              "fillmode": "overlay",
              "size": 10,
              "solidity": 0.2
             }
            },
            "type": "barpolar"
           }
          ],
          "carpet": [
           {
            "aaxis": {
             "endlinecolor": "#2a3f5f",
             "gridcolor": "white",
             "linecolor": "white",
             "minorgridcolor": "white",
             "startlinecolor": "#2a3f5f"
            },
            "baxis": {
             "endlinecolor": "#2a3f5f",
             "gridcolor": "white",
             "linecolor": "white",
             "minorgridcolor": "white",
             "startlinecolor": "#2a3f5f"
            },
            "type": "carpet"
           }
          ],
          "choropleth": [
           {
            "colorbar": {
             "outlinewidth": 0,
             "ticks": ""
            },
            "type": "choropleth"
           }
          ],
          "contour": [
           {
            "colorbar": {
             "outlinewidth": 0,
             "ticks": ""
            },
            "colorscale": [
             [
              0,
              "#0d0887"
             ],
             [
              0.1111111111111111,
              "#46039f"
             ],
             [
              0.2222222222222222,
              "#7201a8"
             ],
             [
              0.3333333333333333,
              "#9c179e"
             ],
             [
              0.4444444444444444,
              "#bd3786"
             ],
             [
              0.5555555555555556,
              "#d8576b"
             ],
             [
              0.6666666666666666,
              "#ed7953"
             ],
             [
              0.7777777777777778,
              "#fb9f3a"
             ],
             [
              0.8888888888888888,
              "#fdca26"
             ],
             [
              1,
              "#f0f921"
             ]
            ],
            "type": "contour"
           }
          ],
          "contourcarpet": [
           {
            "colorbar": {
             "outlinewidth": 0,
             "ticks": ""
            },
            "type": "contourcarpet"
           }
          ],
          "heatmap": [
           {
            "colorbar": {
             "outlinewidth": 0,
             "ticks": ""
            },
            "colorscale": [
             [
              0,
              "#0d0887"
             ],
             [
              0.1111111111111111,
              "#46039f"
             ],
             [
              0.2222222222222222,
              "#7201a8"
             ],
             [
              0.3333333333333333,
              "#9c179e"
             ],
             [
              0.4444444444444444,
              "#bd3786"
             ],
             [
              0.5555555555555556,
              "#d8576b"
             ],
             [
              0.6666666666666666,
              "#ed7953"
             ],
             [
              0.7777777777777778,
              "#fb9f3a"
             ],
             [
              0.8888888888888888,
              "#fdca26"
             ],
             [
              1,
              "#f0f921"
             ]
            ],
            "type": "heatmap"
           }
          ],
          "heatmapgl": [
           {
            "colorbar": {
             "outlinewidth": 0,
             "ticks": ""
            },
            "colorscale": [
             [
              0,
              "#0d0887"
             ],
             [
              0.1111111111111111,
              "#46039f"
             ],
             [
              0.2222222222222222,
              "#7201a8"
             ],
             [
              0.3333333333333333,
              "#9c179e"
             ],
             [
              0.4444444444444444,
              "#bd3786"
             ],
             [
              0.5555555555555556,
              "#d8576b"
             ],
             [
              0.6666666666666666,
              "#ed7953"
             ],
             [
              0.7777777777777778,
              "#fb9f3a"
             ],
             [
              0.8888888888888888,
              "#fdca26"
             ],
             [
              1,
              "#f0f921"
             ]
            ],
            "type": "heatmapgl"
           }
          ],
          "histogram": [
           {
            "marker": {
             "pattern": {
              "fillmode": "overlay",
              "size": 10,
              "solidity": 0.2
             }
            },
            "type": "histogram"
           }
          ],
          "histogram2d": [
           {
            "colorbar": {
             "outlinewidth": 0,
             "ticks": ""
            },
            "colorscale": [
             [
              0,
              "#0d0887"
             ],
             [
              0.1111111111111111,
              "#46039f"
             ],
             [
              0.2222222222222222,
              "#7201a8"
             ],
             [
              0.3333333333333333,
              "#9c179e"
             ],
             [
              0.4444444444444444,
              "#bd3786"
             ],
             [
              0.5555555555555556,
              "#d8576b"
             ],
             [
              0.6666666666666666,
              "#ed7953"
             ],
             [
              0.7777777777777778,
              "#fb9f3a"
             ],
             [
              0.8888888888888888,
              "#fdca26"
             ],
             [
              1,
              "#f0f921"
             ]
            ],
            "type": "histogram2d"
           }
          ],
          "histogram2dcontour": [
           {
            "colorbar": {
             "outlinewidth": 0,
             "ticks": ""
            },
            "colorscale": [
             [
              0,
              "#0d0887"
             ],
             [
              0.1111111111111111,
              "#46039f"
             ],
             [
              0.2222222222222222,
              "#7201a8"
             ],
             [
              0.3333333333333333,
              "#9c179e"
             ],
             [
              0.4444444444444444,
              "#bd3786"
             ],
             [
              0.5555555555555556,
              "#d8576b"
             ],
             [
              0.6666666666666666,
              "#ed7953"
             ],
             [
              0.7777777777777778,
              "#fb9f3a"
             ],
             [
              0.8888888888888888,
              "#fdca26"
             ],
             [
              1,
              "#f0f921"
             ]
            ],
            "type": "histogram2dcontour"
           }
          ],
          "mesh3d": [
           {
            "colorbar": {
             "outlinewidth": 0,
             "ticks": ""
            },
            "type": "mesh3d"
           }
          ],
          "parcoords": [
           {
            "line": {
             "colorbar": {
              "outlinewidth": 0,
              "ticks": ""
             }
            },
            "type": "parcoords"
           }
          ],
          "pie": [
           {
            "automargin": true,
            "type": "pie"
           }
          ],
          "scatter": [
           {
            "fillpattern": {
             "fillmode": "overlay",
             "size": 10,
             "solidity": 0.2
            },
            "type": "scatter"
           }
          ],
          "scatter3d": [
           {
            "line": {
             "colorbar": {
              "outlinewidth": 0,
              "ticks": ""
             }
            },
            "marker": {
             "colorbar": {
              "outlinewidth": 0,
              "ticks": ""
             }
            },
            "type": "scatter3d"
           }
          ],
          "scattercarpet": [
           {
            "marker": {
             "colorbar": {
              "outlinewidth": 0,
              "ticks": ""
             }
            },
            "type": "scattercarpet"
           }
          ],
          "scattergeo": [
           {
            "marker": {
             "colorbar": {
              "outlinewidth": 0,
              "ticks": ""
             }
            },
            "type": "scattergeo"
           }
          ],
          "scattergl": [
           {
            "marker": {
             "colorbar": {
              "outlinewidth": 0,
              "ticks": ""
             }
            },
            "type": "scattergl"
           }
          ],
          "scattermapbox": [
           {
            "marker": {
             "colorbar": {
              "outlinewidth": 0,
              "ticks": ""
             }
            },
            "type": "scattermapbox"
           }
          ],
          "scatterpolar": [
           {
            "marker": {
             "colorbar": {
              "outlinewidth": 0,
              "ticks": ""
             }
            },
            "type": "scatterpolar"
           }
          ],
          "scatterpolargl": [
           {
            "marker": {
             "colorbar": {
              "outlinewidth": 0,
              "ticks": ""
             }
            },
            "type": "scatterpolargl"
           }
          ],
          "scatterternary": [
           {
            "marker": {
             "colorbar": {
              "outlinewidth": 0,
              "ticks": ""
             }
            },
            "type": "scatterternary"
           }
          ],
          "surface": [
           {
            "colorbar": {
             "outlinewidth": 0,
             "ticks": ""
            },
            "colorscale": [
             [
              0,
              "#0d0887"
             ],
             [
              0.1111111111111111,
              "#46039f"
             ],
             [
              0.2222222222222222,
              "#7201a8"
             ],
             [
              0.3333333333333333,
              "#9c179e"
             ],
             [
              0.4444444444444444,
              "#bd3786"
             ],
             [
              0.5555555555555556,
              "#d8576b"
             ],
             [
              0.6666666666666666,
              "#ed7953"
             ],
             [
              0.7777777777777778,
              "#fb9f3a"
             ],
             [
              0.8888888888888888,
              "#fdca26"
             ],
             [
              1,
              "#f0f921"
             ]
            ],
            "type": "surface"
           }
          ],
          "table": [
           {
            "cells": {
             "fill": {
              "color": "#EBF0F8"
             },
             "line": {
              "color": "white"
             }
            },
            "header": {
             "fill": {
              "color": "#C8D4E3"
             },
             "line": {
              "color": "white"
             }
            },
            "type": "table"
           }
          ]
         },
         "layout": {
          "annotationdefaults": {
           "arrowcolor": "#2a3f5f",
           "arrowhead": 0,
           "arrowwidth": 1
          },
          "autotypenumbers": "strict",
          "coloraxis": {
           "colorbar": {
            "outlinewidth": 0,
            "ticks": ""
           }
          },
          "colorscale": {
           "diverging": [
            [
             0,
             "#8e0152"
            ],
            [
             0.1,
             "#c51b7d"
            ],
            [
             0.2,
             "#de77ae"
            ],
            [
             0.3,
             "#f1b6da"
            ],
            [
             0.4,
             "#fde0ef"
            ],
            [
             0.5,
             "#f7f7f7"
            ],
            [
             0.6,
             "#e6f5d0"
            ],
            [
             0.7,
             "#b8e186"
            ],
            [
             0.8,
             "#7fbc41"
            ],
            [
             0.9,
             "#4d9221"
            ],
            [
             1,
             "#276419"
            ]
           ],
           "sequential": [
            [
             0,
             "#0d0887"
            ],
            [
             0.1111111111111111,
             "#46039f"
            ],
            [
             0.2222222222222222,
             "#7201a8"
            ],
            [
             0.3333333333333333,
             "#9c179e"
            ],
            [
             0.4444444444444444,
             "#bd3786"
            ],
            [
             0.5555555555555556,
             "#d8576b"
            ],
            [
             0.6666666666666666,
             "#ed7953"
            ],
            [
             0.7777777777777778,
             "#fb9f3a"
            ],
            [
             0.8888888888888888,
             "#fdca26"
            ],
            [
             1,
             "#f0f921"
            ]
           ],
           "sequentialminus": [
            [
             0,
             "#0d0887"
            ],
            [
             0.1111111111111111,
             "#46039f"
            ],
            [
             0.2222222222222222,
             "#7201a8"
            ],
            [
             0.3333333333333333,
             "#9c179e"
            ],
            [
             0.4444444444444444,
             "#bd3786"
            ],
            [
             0.5555555555555556,
             "#d8576b"
            ],
            [
             0.6666666666666666,
             "#ed7953"
            ],
            [
             0.7777777777777778,
             "#fb9f3a"
            ],
            [
             0.8888888888888888,
             "#fdca26"
            ],
            [
             1,
             "#f0f921"
            ]
           ]
          },
          "colorway": [
           "#636efa",
           "#EF553B",
           "#00cc96",
           "#ab63fa",
           "#FFA15A",
           "#19d3f3",
           "#FF6692",
           "#B6E880",
           "#FF97FF",
           "#FECB52"
          ],
          "font": {
           "color": "#2a3f5f"
          },
          "geo": {
           "bgcolor": "white",
           "lakecolor": "white",
           "landcolor": "#E5ECF6",
           "showlakes": true,
           "showland": true,
           "subunitcolor": "white"
          },
          "hoverlabel": {
           "align": "left"
          },
          "hovermode": "closest",
          "mapbox": {
           "style": "light"
          },
          "paper_bgcolor": "white",
          "plot_bgcolor": "#E5ECF6",
          "polar": {
           "angularaxis": {
            "gridcolor": "white",
            "linecolor": "white",
            "ticks": ""
           },
           "bgcolor": "#E5ECF6",
           "radialaxis": {
            "gridcolor": "white",
            "linecolor": "white",
            "ticks": ""
           }
          },
          "scene": {
           "xaxis": {
            "backgroundcolor": "#E5ECF6",
            "gridcolor": "white",
            "gridwidth": 2,
            "linecolor": "white",
            "showbackground": true,
            "ticks": "",
            "zerolinecolor": "white"
           },
           "yaxis": {
            "backgroundcolor": "#E5ECF6",
            "gridcolor": "white",
            "gridwidth": 2,
            "linecolor": "white",
            "showbackground": true,
            "ticks": "",
            "zerolinecolor": "white"
           },
           "zaxis": {
            "backgroundcolor": "#E5ECF6",
            "gridcolor": "white",
            "gridwidth": 2,
            "linecolor": "white",
            "showbackground": true,
            "ticks": "",
            "zerolinecolor": "white"
           }
          },
          "shapedefaults": {
           "line": {
            "color": "#2a3f5f"
           }
          },
          "ternary": {
           "aaxis": {
            "gridcolor": "white",
            "linecolor": "white",
            "ticks": ""
           },
           "baxis": {
            "gridcolor": "white",
            "linecolor": "white",
            "ticks": ""
           },
           "bgcolor": "#E5ECF6",
           "caxis": {
            "gridcolor": "white",
            "linecolor": "white",
            "ticks": ""
           }
          },
          "title": {
           "x": 0.05
          },
          "xaxis": {
           "automargin": true,
           "gridcolor": "white",
           "linecolor": "white",
           "ticks": "",
           "title": {
            "standoff": 15
           },
           "zerolinecolor": "white",
           "zerolinewidth": 2
          },
          "yaxis": {
           "automargin": true,
           "gridcolor": "white",
           "linecolor": "white",
           "ticks": "",
           "title": {
            "standoff": 15
           },
           "zerolinecolor": "white",
           "zerolinewidth": 2
          }
         }
        },
        "title": {
         "text": "class: Normal"
        },
        "yaxis": {
         "title": {
          "text": "signal"
         }
        }
       }
      }
     },
     "metadata": {},
     "output_type": "display_data"
    },
    {
     "data": {
      "application/vnd.plotly.v1+json": {
       "config": {
        "plotlyServerURL": "https://plot.ly"
       },
       "data": [
        {
         "line": {
          "color": "rgb(31, 119, 180)"
         },
         "mode": "lines",
         "name": "Measurement",
         "type": "scatter",
         "y": [
          -0.07732029774439723,
          -0.8246017434088282,
          -1.3123228478616003,
          -1.8980169265674574,
          -2.1608260918408577,
          -2.3161615467560845,
          -2.2803796096072437,
          -2.081232683593659,
          -1.7710096630894194,
          -1.3957845498290893,
          -1.0440172132614625,
          -0.7554274769104132,
          -0.5255413930838094,
          -0.33705098614351403,
          -0.15953959625767947,
          0.007626068346751562,
          0.14333274120788356,
          0.23046167634023781,
          0.2719081112047786,
          0.28662216000133,
          0.28960875940962116,
          0.2901337979652345,
          0.29303048811656457,
          0.29540949791963794,
          0.29472619583316356,
          0.29790342738087205,
          0.2993874643717614,
          0.29638143024773905,
          0.294145642756537,
          0.28948445028383735,
          0.284968971195869,
          0.28047228967577786,
          0.27169902434035087,
          0.2631936996258066,
          0.25632041457521226,
          0.24419020176310108,
          0.23394878745970557,
          0.22484555045602733,
          0.21386009729845473,
          0.20048743167729008,
          0.18884101336303932,
          0.17985479972350885,
          0.16824604576442015,
          0.15764757260350304,
          0.15013289090883972,
          0.1365150679991852,
          0.12283303733015838,
          0.11324349375462471,
          0.10330883610584606,
          0.09518927782855319,
          0.08874814658547242,
          0.08374252786004631,
          0.07834807671890766,
          0.07390578353391615,
          0.07020296566410301,
          0.06968239419528578,
          0.07055314615531408,
          0.07125691123248284,
          0.07555399117863328,
          0.08116727154372942,
          0.0907033698114544,
          0.100233247926514,
          0.11149161593288637,
          0.12669234633075105,
          0.13810268936864165,
          0.15163909384022065,
          0.1693150981967856,
          0.18764282259827358,
          0.2062312189404302,
          0.22530202912425548,
          0.24480357719479295,
          0.2660741443550671,
          0.2873758378169494,
          0.30649842012723827,
          0.3250157336996597,
          0.3448422026082631,
          0.361665543021875,
          0.38013131159259206,
          0.40163961883498034,
          0.4190992384718557,
          0.4349668100606899,
          0.4511628138624456,
          0.4636628339740815,
          0.4775387586174583,
          0.49378396974321936,
          0.5071810787239961,
          0.5173288604273344,
          0.5287232325615736,
          0.5388857134117825,
          0.5459737795071973,
          0.5541989497136955,
          0.5630839356074127,
          0.5753293251452343,
          0.583682767149405,
          0.5926095178529425,
          0.6000333084553756,
          0.6085250447422754,
          0.6180769602396141,
          0.6251922481030556,
          0.6325513986306167,
          0.6414655742833039,
          0.6493063736807013,
          0.6564559708437854,
          0.6654959980078652,
          0.6764705424108718,
          0.6872010928007921,
          0.6973305026349409,
          0.7065145141707546,
          0.7183460813327663,
          0.7272143024130174,
          0.7360579473146561,
          0.7385683510742513,
          0.7261867359658185,
          0.707711590838654,
          0.683539659010073,
          0.6591777638731694,
          0.6346333752812093,
          0.6109826940345219,
          0.5848603101523883,
          0.558365407482909,
          0.523284384654782,
          0.47427906923537066,
          0.41449545831314066,
          0.353390360577103,
          0.2972616681133337,
          0.24100183006915712,
          0.16190624510162985,
          0.025327326084991622,
          -0.19608705477099628,
          -0.5074198263830219,
          -0.9074269141249002,
          -1.365037909423257,
          -1.846674675724559,
          -2.355639109611206,
          -2.7647529133044677,
          -2.9979962534419875,
          -2.971252835622523,
          -2.3797500525810973,
          -2.0762819361412923,
          -0.9393911186861925
         ]
        },
        {
         "line": {
          "width": 0
         },
         "marker": {
          "color": "#444"
         },
         "mode": "lines",
         "name": "Upper Bound",
         "showlegend": false,
         "type": "scatter",
         "y": [
          0.8823479043416349,
          0.2399269611829915,
          -0.3056563268756123,
          -0.9208559742983873,
          -1.2656434321976093,
          -1.499829796923395,
          -1.5585631559252366,
          -1.4311070762413955,
          -1.1600740616802587,
          -0.8287625145233948,
          -0.5533666343172803,
          -0.34408788590463124,
          -0.15484609744576316,
          0.028936659176676927,
          0.20030383571042845,
          0.34614978690653037,
          0.4565635333125576,
          0.523251619686977,
          0.559241544638285,
          0.5702395597190891,
          0.5689671130631411,
          0.570280741079463,
          0.5737189566930526,
          0.5763275420497697,
          0.5750978557775881,
          0.5808842473028881,
          0.5774405245076686,
          0.568352433204115,
          0.5677227803563684,
          0.5637845526357159,
          0.5605066636921154,
          0.5551519688719071,
          0.544501977328081,
          0.5354054167644736,
          0.5295693740847079,
          0.523114769308514,
          0.5134701833362978,
          0.502578224384984,
          0.5022584331176025,
          0.5049505175637294,
          0.5072214219892893,
          0.5072202040337733,
          0.49683829208456887,
          0.47963924895088517,
          0.4677067241119245,
          0.4489631684875789,
          0.4292183937201494,
          0.4143093535296101,
          0.4020953820044886,
          0.3928836411154432,
          0.38439776832462064,
          0.3714331135027576,
          0.35756185626197273,
          0.3455112821466225,
          0.33444735042881996,
          0.32706382325296307,
          0.32234446199685785,
          0.320346405164252,
          0.32861595513495745,
          0.3341275189866754,
          0.3412235096727754,
          0.34999587961715195,
          0.3535718749503176,
          0.35987695798163544,
          0.3647701993001721,
          0.3783396749391902,
          0.3928801070581059,
          0.4014318388735467,
          0.41499470660859106,
          0.432845286003509,
          0.45226899969343515,
          0.47355258311524806,
          0.4952197479628676,
          0.517253812878247,
          0.5369900976162537,
          0.5590600826438084,
          0.5791751944472042,
          0.5983822692751066,
          0.6196233388904764,
          0.6358749689749852,
          0.6521450891858952,
          0.6719203615304628,
          0.6837877500104238,
          0.699964347147451,
          0.7191510673402756,
          0.7343720414644372,
          0.7478871109665441,
          0.7631903228929514,
          0.771334849314846,
          0.7775308333546254,
          0.7889223893021511,
          0.804252685098732,
          0.825862900608444,
          0.8426965230308994,
          0.8572636787798562,
          0.8694041360961363,
          0.879113337677534,
          0.8857570431850049,
          0.8898124227621738,
          0.8914573634971836,
          0.8954228172452812,
          0.9018508465033283,
          0.9104258033986026,
          0.9232666338789572,
          0.9336052638704533,
          0.943827516158698,
          0.9534885299091056,
          0.9614646461628572,
          0.9757597945147576,
          0.9853660038533469,
          0.9960356017312961,
          1.0102478076808945,
          1.0151246144992245,
          1.0251112221187824,
          1.0326971428227265,
          1.0359414328788439,
          1.0393432360611166,
          1.0478954113135646,
          1.0512883666158517,
          1.065318314083365,
          1.082773028728651,
          1.0897700013663865,
          1.0878953024467723,
          1.0741919389968517,
          1.0606692230190802,
          1.0428666963592828,
          0.9909298856077957,
          0.8899383708417591,
          0.7291915117066842,
          0.4862083593491445,
          0.15624717958109102,
          -0.24267354349840264,
          -0.6611625600619442,
          -1.1070452032668405,
          -1.5316203992024133,
          -1.7662529022913356,
          -1.6637579385428223,
          -1.0016858007720475,
          -0.5344418790088885,
          0.5086073371577478
         ]
        },
        {
         "fill": "tonexty",
         "fillcolor": "rgba(68, 68, 68, 0.3)",
         "line": {
          "width": 0
         },
         "marker": {
          "color": "#444"
         },
         "mode": "lines",
         "name": "Lower Bound",
         "showlegend": false,
         "type": "scatter",
         "y": [
          -1.0369884998304293,
          -1.8891304480006479,
          -2.318989368847588,
          -2.8751778788365274,
          -3.0560087514841063,
          -3.132493296588774,
          -3.002196063289251,
          -2.7313582909459226,
          -2.3819452644985804,
          -1.9628065851347838,
          -1.5346677922056446,
          -1.1667670679161952,
          -0.8962366887218557,
          -0.7030386314637049,
          -0.5193830282257874,
          -0.33089765021302725,
          -0.16989805089679053,
          -0.062328267006501376,
          -0.015425322228727778,
          0.003004760283570884,
          0.0102504057561012,
          0.009986854851005866,
          0.012342019540076521,
          0.014491453789506226,
          0.014354535888738973,
          0.014922607458855985,
          0.021334404235854143,
          0.024410427291363113,
          0.020568505156705608,
          0.01518434793195872,
          0.009431278699622514,
          0.00579261047964863,
          -0.001103928647379293,
          -0.009018017512860466,
          -0.016928544934283418,
          -0.034734365782311816,
          -0.04557260841688668,
          -0.05288712347292934,
          -0.07453823852069302,
          -0.10397565420914931,
          -0.12953939526321068,
          -0.1475106045867556,
          -0.16034620055572857,
          -0.1643441037438791,
          -0.16744094229424508,
          -0.17593303248920852,
          -0.18355231905983266,
          -0.18782236602036068,
          -0.19547770979279644,
          -0.20250508545833684,
          -0.2069014751536758,
          -0.20394805778266495,
          -0.20086570282415744,
          -0.19769971507879025,
          -0.19404141910061395,
          -0.18769903486239153,
          -0.18123816968622966,
          -0.1778325826992863,
          -0.17750797277769093,
          -0.17179297589921655,
          -0.15981677004986666,
          -0.14952938376412397,
          -0.13058864308454488,
          -0.10649226532013334,
          -0.08856482056288884,
          -0.0750614872587489,
          -0.05424991066453466,
          -0.02614619367699958,
          -0.00253226872773063,
          0.017758772245001914,
          0.03733815469615079,
          0.05859570559488614,
          0.0795319276710312,
          0.0957430273762295,
          0.11304136978306564,
          0.13062432257271786,
          0.1441558915965457,
          0.16188035391007743,
          0.18365589877948435,
          0.20232350796872622,
          0.2177885309354846,
          0.2304052661944285,
          0.24353791793773913,
          0.2551131700874656,
          0.26841687214616317,
          0.27999011598355494,
          0.28677060988812464,
          0.2942561422301958,
          0.30643657750871905,
          0.3144167256597692,
          0.31947551012524006,
          0.32191518611609327,
          0.3247957496820245,
          0.32466901126791065,
          0.32795535692602873,
          0.3306624808146149,
          0.3379367518070168,
          0.3503968772942233,
          0.3605720734439375,
          0.37364543376404985,
          0.38750833132132656,
          0.3967619008580744,
          0.40248613828896823,
          0.4077253621367731,
          0.41933582095129024,
          0.4305746694428863,
          0.44117247536077614,
          0.451564382178652,
          0.46093236815077515,
          0.469062600972688,
          0.4760802928980162,
          0.46688889446760823,
          0.4372488574324126,
          0.3903119595585256,
          0.3343821751974195,
          0.28241409486749497,
          0.229923514501302,
          0.17406997675547914,
          0.1184322536889248,
          0.05141250088245297,
          -0.036204259419087115,
          -0.14121186289564513,
          -0.2589043858204911,
          -0.3674112178426457,
          -0.4661458867924128,
          -0.5608630362209684,
          -0.667117395404536,
          -0.8392837186717758,
          -1.1213656212486767,
          -1.5010480121151883,
          -1.9711010078308915,
          -2.4874022753481113,
          -3.032186791387174,
          -3.6042330159555713,
          -3.997885427406522,
          -4.229739604592639,
          -4.278747732702223,
          -3.757814304390147,
          -3.618121993273696,
          -2.3873895745301326
         ]
        }
       ],
       "layout": {
        "hovermode": "x",
        "template": {
         "data": {
          "bar": [
           {
            "error_x": {
             "color": "#2a3f5f"
            },
            "error_y": {
             "color": "#2a3f5f"
            },
            "marker": {
             "line": {
              "color": "#E5ECF6",
              "width": 0.5
             },
             "pattern": {
              "fillmode": "overlay",
              "size": 10,
              "solidity": 0.2
             }
            },
            "type": "bar"
           }
          ],
          "barpolar": [
           {
            "marker": {
             "line": {
              "color": "#E5ECF6",
              "width": 0.5
             },
             "pattern": {
              "fillmode": "overlay",
              "size": 10,
              "solidity": 0.2
             }
            },
            "type": "barpolar"
           }
          ],
          "carpet": [
           {
            "aaxis": {
             "endlinecolor": "#2a3f5f",
             "gridcolor": "white",
             "linecolor": "white",
             "minorgridcolor": "white",
             "startlinecolor": "#2a3f5f"
            },
            "baxis": {
             "endlinecolor": "#2a3f5f",
             "gridcolor": "white",
             "linecolor": "white",
             "minorgridcolor": "white",
             "startlinecolor": "#2a3f5f"
            },
            "type": "carpet"
           }
          ],
          "choropleth": [
           {
            "colorbar": {
             "outlinewidth": 0,
             "ticks": ""
            },
            "type": "choropleth"
           }
          ],
          "contour": [
           {
            "colorbar": {
             "outlinewidth": 0,
             "ticks": ""
            },
            "colorscale": [
             [
              0,
              "#0d0887"
             ],
             [
              0.1111111111111111,
              "#46039f"
             ],
             [
              0.2222222222222222,
              "#7201a8"
             ],
             [
              0.3333333333333333,
              "#9c179e"
             ],
             [
              0.4444444444444444,
              "#bd3786"
             ],
             [
              0.5555555555555556,
              "#d8576b"
             ],
             [
              0.6666666666666666,
              "#ed7953"
             ],
             [
              0.7777777777777778,
              "#fb9f3a"
             ],
             [
              0.8888888888888888,
              "#fdca26"
             ],
             [
              1,
              "#f0f921"
             ]
            ],
            "type": "contour"
           }
          ],
          "contourcarpet": [
           {
            "colorbar": {
             "outlinewidth": 0,
             "ticks": ""
            },
            "type": "contourcarpet"
           }
          ],
          "heatmap": [
           {
            "colorbar": {
             "outlinewidth": 0,
             "ticks": ""
            },
            "colorscale": [
             [
              0,
              "#0d0887"
             ],
             [
              0.1111111111111111,
              "#46039f"
             ],
             [
              0.2222222222222222,
              "#7201a8"
             ],
             [
              0.3333333333333333,
              "#9c179e"
             ],
             [
              0.4444444444444444,
              "#bd3786"
             ],
             [
              0.5555555555555556,
              "#d8576b"
             ],
             [
              0.6666666666666666,
              "#ed7953"
             ],
             [
              0.7777777777777778,
              "#fb9f3a"
             ],
             [
              0.8888888888888888,
              "#fdca26"
             ],
             [
              1,
              "#f0f921"
             ]
            ],
            "type": "heatmap"
           }
          ],
          "heatmapgl": [
           {
            "colorbar": {
             "outlinewidth": 0,
             "ticks": ""
            },
            "colorscale": [
             [
              0,
              "#0d0887"
             ],
             [
              0.1111111111111111,
              "#46039f"
             ],
             [
              0.2222222222222222,
              "#7201a8"
             ],
             [
              0.3333333333333333,
              "#9c179e"
             ],
             [
              0.4444444444444444,
              "#bd3786"
             ],
             [
              0.5555555555555556,
              "#d8576b"
             ],
             [
              0.6666666666666666,
              "#ed7953"
             ],
             [
              0.7777777777777778,
              "#fb9f3a"
             ],
             [
              0.8888888888888888,
              "#fdca26"
             ],
             [
              1,
              "#f0f921"
             ]
            ],
            "type": "heatmapgl"
           }
          ],
          "histogram": [
           {
            "marker": {
             "pattern": {
              "fillmode": "overlay",
              "size": 10,
              "solidity": 0.2
             }
            },
            "type": "histogram"
           }
          ],
          "histogram2d": [
           {
            "colorbar": {
             "outlinewidth": 0,
             "ticks": ""
            },
            "colorscale": [
             [
              0,
              "#0d0887"
             ],
             [
              0.1111111111111111,
              "#46039f"
             ],
             [
              0.2222222222222222,
              "#7201a8"
             ],
             [
              0.3333333333333333,
              "#9c179e"
             ],
             [
              0.4444444444444444,
              "#bd3786"
             ],
             [
              0.5555555555555556,
              "#d8576b"
             ],
             [
              0.6666666666666666,
              "#ed7953"
             ],
             [
              0.7777777777777778,
              "#fb9f3a"
             ],
             [
              0.8888888888888888,
              "#fdca26"
             ],
             [
              1,
              "#f0f921"
             ]
            ],
            "type": "histogram2d"
           }
          ],
          "histogram2dcontour": [
           {
            "colorbar": {
             "outlinewidth": 0,
             "ticks": ""
            },
            "colorscale": [
             [
              0,
              "#0d0887"
             ],
             [
              0.1111111111111111,
              "#46039f"
             ],
             [
              0.2222222222222222,
              "#7201a8"
             ],
             [
              0.3333333333333333,
              "#9c179e"
             ],
             [
              0.4444444444444444,
              "#bd3786"
             ],
             [
              0.5555555555555556,
              "#d8576b"
             ],
             [
              0.6666666666666666,
              "#ed7953"
             ],
             [
              0.7777777777777778,
              "#fb9f3a"
             ],
             [
              0.8888888888888888,
              "#fdca26"
             ],
             [
              1,
              "#f0f921"
             ]
            ],
            "type": "histogram2dcontour"
           }
          ],
          "mesh3d": [
           {
            "colorbar": {
             "outlinewidth": 0,
             "ticks": ""
            },
            "type": "mesh3d"
           }
          ],
          "parcoords": [
           {
            "line": {
             "colorbar": {
              "outlinewidth": 0,
              "ticks": ""
             }
            },
            "type": "parcoords"
           }
          ],
          "pie": [
           {
            "automargin": true,
            "type": "pie"
           }
          ],
          "scatter": [
           {
            "fillpattern": {
             "fillmode": "overlay",
             "size": 10,
             "solidity": 0.2
            },
            "type": "scatter"
           }
          ],
          "scatter3d": [
           {
            "line": {
             "colorbar": {
              "outlinewidth": 0,
              "ticks": ""
             }
            },
            "marker": {
             "colorbar": {
              "outlinewidth": 0,
              "ticks": ""
             }
            },
            "type": "scatter3d"
           }
          ],
          "scattercarpet": [
           {
            "marker": {
             "colorbar": {
              "outlinewidth": 0,
              "ticks": ""
             }
            },
            "type": "scattercarpet"
           }
          ],
          "scattergeo": [
           {
            "marker": {
             "colorbar": {
              "outlinewidth": 0,
              "ticks": ""
             }
            },
            "type": "scattergeo"
           }
          ],
          "scattergl": [
           {
            "marker": {
             "colorbar": {
              "outlinewidth": 0,
              "ticks": ""
             }
            },
            "type": "scattergl"
           }
          ],
          "scattermapbox": [
           {
            "marker": {
             "colorbar": {
              "outlinewidth": 0,
              "ticks": ""
             }
            },
            "type": "scattermapbox"
           }
          ],
          "scatterpolar": [
           {
            "marker": {
             "colorbar": {
              "outlinewidth": 0,
              "ticks": ""
             }
            },
            "type": "scatterpolar"
           }
          ],
          "scatterpolargl": [
           {
            "marker": {
             "colorbar": {
              "outlinewidth": 0,
              "ticks": ""
             }
            },
            "type": "scatterpolargl"
           }
          ],
          "scatterternary": [
           {
            "marker": {
             "colorbar": {
              "outlinewidth": 0,
              "ticks": ""
             }
            },
            "type": "scatterternary"
           }
          ],
          "surface": [
           {
            "colorbar": {
             "outlinewidth": 0,
             "ticks": ""
            },
            "colorscale": [
             [
              0,
              "#0d0887"
             ],
             [
              0.1111111111111111,
              "#46039f"
             ],
             [
              0.2222222222222222,
              "#7201a8"
             ],
             [
              0.3333333333333333,
              "#9c179e"
             ],
             [
              0.4444444444444444,
              "#bd3786"
             ],
             [
              0.5555555555555556,
              "#d8576b"
             ],
             [
              0.6666666666666666,
              "#ed7953"
             ],
             [
              0.7777777777777778,
              "#fb9f3a"
             ],
             [
              0.8888888888888888,
              "#fdca26"
             ],
             [
              1,
              "#f0f921"
             ]
            ],
            "type": "surface"
           }
          ],
          "table": [
           {
            "cells": {
             "fill": {
              "color": "#EBF0F8"
             },
             "line": {
              "color": "white"
             }
            },
            "header": {
             "fill": {
              "color": "#C8D4E3"
             },
             "line": {
              "color": "white"
             }
            },
            "type": "table"
           }
          ]
         },
         "layout": {
          "annotationdefaults": {
           "arrowcolor": "#2a3f5f",
           "arrowhead": 0,
           "arrowwidth": 1
          },
          "autotypenumbers": "strict",
          "coloraxis": {
           "colorbar": {
            "outlinewidth": 0,
            "ticks": ""
           }
          },
          "colorscale": {
           "diverging": [
            [
             0,
             "#8e0152"
            ],
            [
             0.1,
             "#c51b7d"
            ],
            [
             0.2,
             "#de77ae"
            ],
            [
             0.3,
             "#f1b6da"
            ],
            [
             0.4,
             "#fde0ef"
            ],
            [
             0.5,
             "#f7f7f7"
            ],
            [
             0.6,
             "#e6f5d0"
            ],
            [
             0.7,
             "#b8e186"
            ],
            [
             0.8,
             "#7fbc41"
            ],
            [
             0.9,
             "#4d9221"
            ],
            [
             1,
             "#276419"
            ]
           ],
           "sequential": [
            [
             0,
             "#0d0887"
            ],
            [
             0.1111111111111111,
             "#46039f"
            ],
            [
             0.2222222222222222,
             "#7201a8"
            ],
            [
             0.3333333333333333,
             "#9c179e"
            ],
            [
             0.4444444444444444,
             "#bd3786"
            ],
            [
             0.5555555555555556,
             "#d8576b"
            ],
            [
             0.6666666666666666,
             "#ed7953"
            ],
            [
             0.7777777777777778,
             "#fb9f3a"
            ],
            [
             0.8888888888888888,
             "#fdca26"
            ],
            [
             1,
             "#f0f921"
            ]
           ],
           "sequentialminus": [
            [
             0,
             "#0d0887"
            ],
            [
             0.1111111111111111,
             "#46039f"
            ],
            [
             0.2222222222222222,
             "#7201a8"
            ],
            [
             0.3333333333333333,
             "#9c179e"
            ],
            [
             0.4444444444444444,
             "#bd3786"
            ],
            [
             0.5555555555555556,
             "#d8576b"
            ],
            [
             0.6666666666666666,
             "#ed7953"
            ],
            [
             0.7777777777777778,
             "#fb9f3a"
            ],
            [
             0.8888888888888888,
             "#fdca26"
            ],
            [
             1,
             "#f0f921"
            ]
           ]
          },
          "colorway": [
           "#636efa",
           "#EF553B",
           "#00cc96",
           "#ab63fa",
           "#FFA15A",
           "#19d3f3",
           "#FF6692",
           "#B6E880",
           "#FF97FF",
           "#FECB52"
          ],
          "font": {
           "color": "#2a3f5f"
          },
          "geo": {
           "bgcolor": "white",
           "lakecolor": "white",
           "landcolor": "#E5ECF6",
           "showlakes": true,
           "showland": true,
           "subunitcolor": "white"
          },
          "hoverlabel": {
           "align": "left"
          },
          "hovermode": "closest",
          "mapbox": {
           "style": "light"
          },
          "paper_bgcolor": "white",
          "plot_bgcolor": "#E5ECF6",
          "polar": {
           "angularaxis": {
            "gridcolor": "white",
            "linecolor": "white",
            "ticks": ""
           },
           "bgcolor": "#E5ECF6",
           "radialaxis": {
            "gridcolor": "white",
            "linecolor": "white",
            "ticks": ""
           }
          },
          "scene": {
           "xaxis": {
            "backgroundcolor": "#E5ECF6",
            "gridcolor": "white",
            "gridwidth": 2,
            "linecolor": "white",
            "showbackground": true,
            "ticks": "",
            "zerolinecolor": "white"
           },
           "yaxis": {
            "backgroundcolor": "#E5ECF6",
            "gridcolor": "white",
            "gridwidth": 2,
            "linecolor": "white",
            "showbackground": true,
            "ticks": "",
            "zerolinecolor": "white"
           },
           "zaxis": {
            "backgroundcolor": "#E5ECF6",
            "gridcolor": "white",
            "gridwidth": 2,
            "linecolor": "white",
            "showbackground": true,
            "ticks": "",
            "zerolinecolor": "white"
           }
          },
          "shapedefaults": {
           "line": {
            "color": "#2a3f5f"
           }
          },
          "ternary": {
           "aaxis": {
            "gridcolor": "white",
            "linecolor": "white",
            "ticks": ""
           },
           "baxis": {
            "gridcolor": "white",
            "linecolor": "white",
            "ticks": ""
           },
           "bgcolor": "#E5ECF6",
           "caxis": {
            "gridcolor": "white",
            "linecolor": "white",
            "ticks": ""
           }
          },
          "title": {
           "x": 0.05
          },
          "xaxis": {
           "automargin": true,
           "gridcolor": "white",
           "linecolor": "white",
           "ticks": "",
           "title": {
            "standoff": 15
           },
           "zerolinecolor": "white",
           "zerolinewidth": 2
          },
          "yaxis": {
           "automargin": true,
           "gridcolor": "white",
           "linecolor": "white",
           "ticks": "",
           "title": {
            "standoff": 15
           },
           "zerolinecolor": "white",
           "zerolinewidth": 2
          }
         }
        },
        "title": {
         "text": "class: R-on-T PVC"
        },
        "yaxis": {
         "title": {
          "text": "signal"
         }
        }
       }
      }
     },
     "metadata": {},
     "output_type": "display_data"
    },
    {
     "data": {
      "application/vnd.plotly.v1+json": {
       "config": {
        "plotlyServerURL": "https://plot.ly"
       },
       "data": [
        {
         "line": {
          "color": "rgb(31, 119, 180)"
         },
         "mode": "lines",
         "name": "Measurement",
         "type": "scatter",
         "y": [
          -0.16845093193750005,
          -0.9419154322916666,
          -1.3531669723124997,
          -1.6919981585,
          -1.70795703,
          -1.5819659486041664,
          -1.2976338458333327,
          -1.0314064875874995,
          -0.8010331238854165,
          -0.5882199479708335,
          -0.38411289436041657,
          -0.23781697319999995,
          -0.14833208454583333,
          -0.08940525483229161,
          -0.06818102249364584,
          -0.048938815592708344,
          -0.04398912167604166,
          -0.03210571740500001,
          -0.02093373130312499,
          -0.040727717604166665,
          -0.061856147916979166,
          -0.06473331366458336,
          -0.07271398111249995,
          -0.06809099920520831,
          -0.034632504196875025,
          -0.040429497213125,
          -0.06450885877656247,
          -0.08589692591666669,
          -0.10549276978229165,
          -0.1321301910590624,
          -0.15932979834062502,
          -0.1757781079718751,
          -0.18197666775937502,
          -0.2058431332416666,
          -0.22236592635729158,
          -0.21811890459583325,
          -0.22540505170416666,
          -0.22933113996249996,
          -0.20557130617395825,
          -0.17616924159374994,
          -0.1840224234687501,
          -0.16988170029062502,
          -0.14815324467062502,
          -0.14558110634166666,
          -0.11429451323447914,
          -0.07549737605312501,
          -0.07506795275625,
          -0.07071300579468749,
          -0.029831224135416678,
          -0.007859781634375002,
          0.01038520917697916,
          0.042372245600020834,
          0.07186005700520834,
          0.0771256647447917,
          0.09207971976458333,
          0.10929876505104169,
          0.12255921071802088,
          0.1410751652926042,
          0.1700221436875,
          0.1628480791979167,
          0.15272759151458332,
          0.15306531402083334,
          0.146040150446875,
          0.13154581111458338,
          0.14815366235416666,
          0.17929527423125,
          0.19357435005208337,
          0.2076371515833333,
          0.21703516757510413,
          0.2463644558229168,
          0.27300274253124984,
          0.27381068671875014,
          0.27348811478125007,
          0.2985662161321875,
          0.32344686620833335,
          0.3331291495729167,
          0.3529951431770834,
          0.3763957551843749,
          0.3898895552145831,
          0.4116945081989582,
          0.43023585288541666,
          0.4324771297302083,
          0.4457768832291667,
          0.46914464238541664,
          0.4920153227072918,
          0.49123908425104196,
          0.5003617552499999,
          0.5227815716572917,
          0.5237997462375,
          0.5167393592479165,
          0.5233973753645833,
          0.5232033300833332,
          0.54471430309375,
          0.548538685875,
          0.5517415205728124,
          0.5718671951687498,
          0.5748001136249998,
          0.5864709530625,
          0.5994019873958331,
          0.6023454643749998,
          0.6145389782083333,
          0.6040939210833336,
          0.5751761775302086,
          0.5774782151250001,
          0.5775755753020831,
          0.5687480134791667,
          0.5663145381770832,
          0.5410117242885417,
          0.5318549279479168,
          0.5250619524270836,
          0.5264014080677083,
          0.5105419519395834,
          0.5361603405427081,
          0.5500542705583334,
          0.5432668649270832,
          0.5712844140729167,
          0.5986936795104169,
          0.5951981969583334,
          0.5665841743541665,
          0.542768132590625,
          0.524733038890625,
          0.5101753631666667,
          0.4815209020624999,
          0.47096873178125004,
          0.4853619801354169,
          0.5298549352718752,
          0.50518794399375,
          0.3908328089375001,
          0.24124963571874988,
          0.08052667878125004,
          -0.07383136939249998,
          -0.25119959805937503,
          -0.50963251725,
          -0.8782528652895835,
          -1.3432150875208333,
          -1.9188231430416662,
          -2.4471556835416663,
          -2.9266334196041655,
          -2.8619372838541666,
          -2.7355067106041666
         ]
        },
        {
         "line": {
          "width": 0
         },
         "marker": {
          "color": "#444"
         },
         "mode": "lines",
         "name": "Upper Bound",
         "showlegend": false,
         "type": "scatter",
         "y": [
          0.8869306831465067,
          0.2211579806024072,
          -0.278951443793761,
          -0.5803763063672074,
          -0.621258741149431,
          -0.5760210492053668,
          -0.3468093225438841,
          -0.09789310165682052,
          0.06928810654515027,
          0.20300345384388152,
          0.3545092048300931,
          0.44079988471154674,
          0.4185325136903907,
          0.3750138843862794,
          0.37553962495485665,
          0.380328264893122,
          0.3854141507180484,
          0.43787200297156603,
          0.5385293259055339,
          0.5476060408267571,
          0.5458107503327133,
          0.5126275970032903,
          0.45278633164447635,
          0.38407367529226055,
          0.4005817646664764,
          0.3620770586611237,
          0.3133899610807762,
          0.26828927854196644,
          0.26051026537009164,
          0.3354147322037405,
          0.35093225822258156,
          0.3530160959829485,
          0.34305020480910087,
          0.28262812520461067,
          0.24273642151689073,
          0.2525200631748611,
          0.26073936320222624,
          0.23591511884719188,
          0.20807809523916304,
          0.15772554474222775,
          0.11284637673174655,
          0.13579838578854134,
          0.15225449351923104,
          0.15401143363790148,
          0.2005409224533214,
          0.26282573620824906,
          0.22469012462830806,
          0.22620444889774222,
          0.29306430216248813,
          0.322943295912831,
          0.3259980566751089,
          0.366894117562484,
          0.3941663024819926,
          0.39339276634173564,
          0.38801856713709504,
          0.3792272357216395,
          0.3746146340223963,
          0.38358145716312186,
          0.41182285377211036,
          0.43057661886717913,
          0.5082536246708094,
          0.5796631125258475,
          0.6535863103933415,
          0.6900100235446497,
          0.7116935629264065,
          0.6979802065133444,
          0.6626501709060441,
          0.6752430561079512,
          0.6738694540329573,
          0.6680317234420864,
          0.678276443687104,
          0.6799442239316659,
          0.6783845318555273,
          0.6726939638275913,
          0.655741105012701,
          0.6240726586034832,
          0.6083501466733199,
          0.6203505855099286,
          0.6198316563098769,
          0.6172125809696336,
          0.6438457668182598,
          0.6650202950604548,
          0.7141254710554807,
          0.7695597614030045,
          0.7877814489492435,
          0.8098997171040085,
          0.8455670324794154,
          0.8677050483083555,
          0.8756091823545737,
          0.8723999701427833,
          0.9007825684987059,
          0.9349567474906676,
          0.9473869299840902,
          0.968875731312753,
          0.9763064247342097,
          0.9967278567384696,
          1.0141404460849732,
          1.0565017571277486,
          1.0974016049919122,
          1.0950114788332757,
          1.1265864126799543,
          1.1150281807026705,
          1.0813278953570986,
          1.0572692233316867,
          1.0463931108030708,
          1.0268880571370247,
          1.0304767229033136,
          1.0197791285756979,
          1.0169285499904799,
          1.01798064623371,
          1.036076201584689,
          1.0436560733623725,
          1.1190923929672978,
          1.1644606393933636,
          1.1327874067911854,
          1.1574849604408808,
          1.2081471107163557,
          1.2373384796842672,
          1.2951097557017475,
          1.3792808529385852,
          1.405425602225548,
          1.356653699933691,
          1.3189341261786554,
          1.3733233068979989,
          1.4490035792937368,
          1.552986293336923,
          1.6211412219862709,
          1.5467095451891588,
          1.3885470345736124,
          1.2530601434370725,
          1.141586564959743,
          0.9870550334319745,
          0.7154208944592042,
          0.42078520786725926,
          0.12057374323486858,
          -0.25720499929118645,
          -0.5866080962115559,
          -0.8425408461137107,
          -0.6783647331188862,
          -0.41622643920498437
         ]
        },
        {
         "fill": "tonexty",
         "fillcolor": "rgba(68, 68, 68, 0.3)",
         "line": {
          "width": 0
         },
         "marker": {
          "color": "#444"
         },
         "mode": "lines",
         "name": "Lower Bound",
         "showlegend": false,
         "type": "scatter",
         "y": [
          -1.2238325470215068,
          -2.1049888451857406,
          -2.4273825008312384,
          -2.8036200106327924,
          -2.7946553188505687,
          -2.587910848002966,
          -2.2484583691227815,
          -1.9649198735181785,
          -1.6713543543159832,
          -1.3794433497855487,
          -1.1227349935509263,
          -0.9164338311115466,
          -0.7151966827820574,
          -0.5538243940508627,
          -0.5119016699421484,
          -0.4782058960785387,
          -0.4733923940701317,
          -0.502083437781566,
          -0.580396788511784,
          -0.6290614760350905,
          -0.6695230461666716,
          -0.642094224332457,
          -0.5982142938694762,
          -0.5202556737026771,
          -0.46984677306022643,
          -0.4429360530873737,
          -0.4424076786339012,
          -0.44008313037529984,
          -0.47149580493467497,
          -0.5996751143218653,
          -0.6695918549038316,
          -0.7045723119266987,
          -0.707003540327851,
          -0.6943143916879438,
          -0.6874682742314739,
          -0.6887578723665276,
          -0.7115494666105595,
          -0.6945773987721918,
          -0.6192207075870795,
          -0.5100640279297276,
          -0.48089122366924675,
          -0.4755617863697914,
          -0.4485609828604811,
          -0.4451736463212348,
          -0.4291299489222797,
          -0.4138204883144991,
          -0.37482603014080806,
          -0.36763046048711717,
          -0.35272675043332147,
          -0.338662859181581,
          -0.3052276383211506,
          -0.28214962636244234,
          -0.25044618847157596,
          -0.23914143685215222,
          -0.20385912760792835,
          -0.16062970561955614,
          -0.12949621258635452,
          -0.10143112657791345,
          -0.07177856639711042,
          -0.10488046047134572,
          -0.20279844164164268,
          -0.27353248448418077,
          -0.36150600949959144,
          -0.42691840131548286,
          -0.41538623821807324,
          -0.3393896580508443,
          -0.27550147080187726,
          -0.2599687529412847,
          -0.239799118882749,
          -0.17530281179625282,
          -0.13227095862460442,
          -0.1323228504941656,
          -0.1314083022930272,
          -0.07556153156321627,
          -0.008847372596034297,
          0.0421856405423503,
          0.097640139680847,
          0.13244092485882122,
          0.15994745411928918,
          0.20617643542828276,
          0.21662593895257354,
          0.1999339643999618,
          0.1774282954028526,
          0.16872952336782882,
          0.19624919646534011,
          0.17257845139807543,
          0.1551564780205844,
          0.1778580950062278,
          0.17199031012042632,
          0.1610787483530497,
          0.1460121822304608,
          0.1114499126759988,
          0.14204167620340974,
          0.12820164043724697,
          0.1271766164114152,
          0.14700653359903,
          0.13545978116502644,
          0.1164401489972513,
          0.10140236979975398,
          0.10967944991672396,
          0.10249154373671232,
          0.09315966146399668,
          0.0690244597033185,
          0.09768720691831351,
          0.10875803980109533,
          0.11060796982130877,
          0.10215235345085277,
          0.06224432000138547,
          0.04678130590535373,
          0.03214325862045725,
          0.01672661455072777,
          -0.02257216948320584,
          -0.04677171188188156,
          -0.06435209827669663,
          -0.046253676937018984,
          -0.01491613229504718,
          -0.010759751695522013,
          -0.046942085767600505,
          -0.1619414069934143,
          -0.29374458775733514,
          -0.3559595244442981,
          -0.33630297360035755,
          -0.35589232205365556,
          -0.43138584333549873,
          -0.4782796190229029,
          -0.4932764227931724,
          -0.6107653339987708,
          -0.7650439273141585,
          -0.9060477631361126,
          -1.0920067858745726,
          -1.2892493037447428,
          -1.4894542295507247,
          -1.7346859289592043,
          -2.177290938446426,
          -2.807003918276535,
          -3.580441286792146,
          -4.307703270871777,
          -5.010725993094621,
          -5.045509834589447,
          -5.054786982003349
         ]
        }
       ],
       "layout": {
        "hovermode": "x",
        "template": {
         "data": {
          "bar": [
           {
            "error_x": {
             "color": "#2a3f5f"
            },
            "error_y": {
             "color": "#2a3f5f"
            },
            "marker": {
             "line": {
              "color": "#E5ECF6",
              "width": 0.5
             },
             "pattern": {
              "fillmode": "overlay",
              "size": 10,
              "solidity": 0.2
             }
            },
            "type": "bar"
           }
          ],
          "barpolar": [
           {
            "marker": {
             "line": {
              "color": "#E5ECF6",
              "width": 0.5
             },
             "pattern": {
              "fillmode": "overlay",
              "size": 10,
              "solidity": 0.2
             }
            },
            "type": "barpolar"
           }
          ],
          "carpet": [
           {
            "aaxis": {
             "endlinecolor": "#2a3f5f",
             "gridcolor": "white",
             "linecolor": "white",
             "minorgridcolor": "white",
             "startlinecolor": "#2a3f5f"
            },
            "baxis": {
             "endlinecolor": "#2a3f5f",
             "gridcolor": "white",
             "linecolor": "white",
             "minorgridcolor": "white",
             "startlinecolor": "#2a3f5f"
            },
            "type": "carpet"
           }
          ],
          "choropleth": [
           {
            "colorbar": {
             "outlinewidth": 0,
             "ticks": ""
            },
            "type": "choropleth"
           }
          ],
          "contour": [
           {
            "colorbar": {
             "outlinewidth": 0,
             "ticks": ""
            },
            "colorscale": [
             [
              0,
              "#0d0887"
             ],
             [
              0.1111111111111111,
              "#46039f"
             ],
             [
              0.2222222222222222,
              "#7201a8"
             ],
             [
              0.3333333333333333,
              "#9c179e"
             ],
             [
              0.4444444444444444,
              "#bd3786"
             ],
             [
              0.5555555555555556,
              "#d8576b"
             ],
             [
              0.6666666666666666,
              "#ed7953"
             ],
             [
              0.7777777777777778,
              "#fb9f3a"
             ],
             [
              0.8888888888888888,
              "#fdca26"
             ],
             [
              1,
              "#f0f921"
             ]
            ],
            "type": "contour"
           }
          ],
          "contourcarpet": [
           {
            "colorbar": {
             "outlinewidth": 0,
             "ticks": ""
            },
            "type": "contourcarpet"
           }
          ],
          "heatmap": [
           {
            "colorbar": {
             "outlinewidth": 0,
             "ticks": ""
            },
            "colorscale": [
             [
              0,
              "#0d0887"
             ],
             [
              0.1111111111111111,
              "#46039f"
             ],
             [
              0.2222222222222222,
              "#7201a8"
             ],
             [
              0.3333333333333333,
              "#9c179e"
             ],
             [
              0.4444444444444444,
              "#bd3786"
             ],
             [
              0.5555555555555556,
              "#d8576b"
             ],
             [
              0.6666666666666666,
              "#ed7953"
             ],
             [
              0.7777777777777778,
              "#fb9f3a"
             ],
             [
              0.8888888888888888,
              "#fdca26"
             ],
             [
              1,
              "#f0f921"
             ]
            ],
            "type": "heatmap"
           }
          ],
          "heatmapgl": [
           {
            "colorbar": {
             "outlinewidth": 0,
             "ticks": ""
            },
            "colorscale": [
             [
              0,
              "#0d0887"
             ],
             [
              0.1111111111111111,
              "#46039f"
             ],
             [
              0.2222222222222222,
              "#7201a8"
             ],
             [
              0.3333333333333333,
              "#9c179e"
             ],
             [
              0.4444444444444444,
              "#bd3786"
             ],
             [
              0.5555555555555556,
              "#d8576b"
             ],
             [
              0.6666666666666666,
              "#ed7953"
             ],
             [
              0.7777777777777778,
              "#fb9f3a"
             ],
             [
              0.8888888888888888,
              "#fdca26"
             ],
             [
              1,
              "#f0f921"
             ]
            ],
            "type": "heatmapgl"
           }
          ],
          "histogram": [
           {
            "marker": {
             "pattern": {
              "fillmode": "overlay",
              "size": 10,
              "solidity": 0.2
             }
            },
            "type": "histogram"
           }
          ],
          "histogram2d": [
           {
            "colorbar": {
             "outlinewidth": 0,
             "ticks": ""
            },
            "colorscale": [
             [
              0,
              "#0d0887"
             ],
             [
              0.1111111111111111,
              "#46039f"
             ],
             [
              0.2222222222222222,
              "#7201a8"
             ],
             [
              0.3333333333333333,
              "#9c179e"
             ],
             [
              0.4444444444444444,
              "#bd3786"
             ],
             [
              0.5555555555555556,
              "#d8576b"
             ],
             [
              0.6666666666666666,
              "#ed7953"
             ],
             [
              0.7777777777777778,
              "#fb9f3a"
             ],
             [
              0.8888888888888888,
              "#fdca26"
             ],
             [
              1,
              "#f0f921"
             ]
            ],
            "type": "histogram2d"
           }
          ],
          "histogram2dcontour": [
           {
            "colorbar": {
             "outlinewidth": 0,
             "ticks": ""
            },
            "colorscale": [
             [
              0,
              "#0d0887"
             ],
             [
              0.1111111111111111,
              "#46039f"
             ],
             [
              0.2222222222222222,
              "#7201a8"
             ],
             [
              0.3333333333333333,
              "#9c179e"
             ],
             [
              0.4444444444444444,
              "#bd3786"
             ],
             [
              0.5555555555555556,
              "#d8576b"
             ],
             [
              0.6666666666666666,
              "#ed7953"
             ],
             [
              0.7777777777777778,
              "#fb9f3a"
             ],
             [
              0.8888888888888888,
              "#fdca26"
             ],
             [
              1,
              "#f0f921"
             ]
            ],
            "type": "histogram2dcontour"
           }
          ],
          "mesh3d": [
           {
            "colorbar": {
             "outlinewidth": 0,
             "ticks": ""
            },
            "type": "mesh3d"
           }
          ],
          "parcoords": [
           {
            "line": {
             "colorbar": {
              "outlinewidth": 0,
              "ticks": ""
             }
            },
            "type": "parcoords"
           }
          ],
          "pie": [
           {
            "automargin": true,
            "type": "pie"
           }
          ],
          "scatter": [
           {
            "fillpattern": {
             "fillmode": "overlay",
             "size": 10,
             "solidity": 0.2
            },
            "type": "scatter"
           }
          ],
          "scatter3d": [
           {
            "line": {
             "colorbar": {
              "outlinewidth": 0,
              "ticks": ""
             }
            },
            "marker": {
             "colorbar": {
              "outlinewidth": 0,
              "ticks": ""
             }
            },
            "type": "scatter3d"
           }
          ],
          "scattercarpet": [
           {
            "marker": {
             "colorbar": {
              "outlinewidth": 0,
              "ticks": ""
             }
            },
            "type": "scattercarpet"
           }
          ],
          "scattergeo": [
           {
            "marker": {
             "colorbar": {
              "outlinewidth": 0,
              "ticks": ""
             }
            },
            "type": "scattergeo"
           }
          ],
          "scattergl": [
           {
            "marker": {
             "colorbar": {
              "outlinewidth": 0,
              "ticks": ""
             }
            },
            "type": "scattergl"
           }
          ],
          "scattermapbox": [
           {
            "marker": {
             "colorbar": {
              "outlinewidth": 0,
              "ticks": ""
             }
            },
            "type": "scattermapbox"
           }
          ],
          "scatterpolar": [
           {
            "marker": {
             "colorbar": {
              "outlinewidth": 0,
              "ticks": ""
             }
            },
            "type": "scatterpolar"
           }
          ],
          "scatterpolargl": [
           {
            "marker": {
             "colorbar": {
              "outlinewidth": 0,
              "ticks": ""
             }
            },
            "type": "scatterpolargl"
           }
          ],
          "scatterternary": [
           {
            "marker": {
             "colorbar": {
              "outlinewidth": 0,
              "ticks": ""
             }
            },
            "type": "scatterternary"
           }
          ],
          "surface": [
           {
            "colorbar": {
             "outlinewidth": 0,
             "ticks": ""
            },
            "colorscale": [
             [
              0,
              "#0d0887"
             ],
             [
              0.1111111111111111,
              "#46039f"
             ],
             [
              0.2222222222222222,
              "#7201a8"
             ],
             [
              0.3333333333333333,
              "#9c179e"
             ],
             [
              0.4444444444444444,
              "#bd3786"
             ],
             [
              0.5555555555555556,
              "#d8576b"
             ],
             [
              0.6666666666666666,
              "#ed7953"
             ],
             [
              0.7777777777777778,
              "#fb9f3a"
             ],
             [
              0.8888888888888888,
              "#fdca26"
             ],
             [
              1,
              "#f0f921"
             ]
            ],
            "type": "surface"
           }
          ],
          "table": [
           {
            "cells": {
             "fill": {
              "color": "#EBF0F8"
             },
             "line": {
              "color": "white"
             }
            },
            "header": {
             "fill": {
              "color": "#C8D4E3"
             },
             "line": {
              "color": "white"
             }
            },
            "type": "table"
           }
          ]
         },
         "layout": {
          "annotationdefaults": {
           "arrowcolor": "#2a3f5f",
           "arrowhead": 0,
           "arrowwidth": 1
          },
          "autotypenumbers": "strict",
          "coloraxis": {
           "colorbar": {
            "outlinewidth": 0,
            "ticks": ""
           }
          },
          "colorscale": {
           "diverging": [
            [
             0,
             "#8e0152"
            ],
            [
             0.1,
             "#c51b7d"
            ],
            [
             0.2,
             "#de77ae"
            ],
            [
             0.3,
             "#f1b6da"
            ],
            [
             0.4,
             "#fde0ef"
            ],
            [
             0.5,
             "#f7f7f7"
            ],
            [
             0.6,
             "#e6f5d0"
            ],
            [
             0.7,
             "#b8e186"
            ],
            [
             0.8,
             "#7fbc41"
            ],
            [
             0.9,
             "#4d9221"
            ],
            [
             1,
             "#276419"
            ]
           ],
           "sequential": [
            [
             0,
             "#0d0887"
            ],
            [
             0.1111111111111111,
             "#46039f"
            ],
            [
             0.2222222222222222,
             "#7201a8"
            ],
            [
             0.3333333333333333,
             "#9c179e"
            ],
            [
             0.4444444444444444,
             "#bd3786"
            ],
            [
             0.5555555555555556,
             "#d8576b"
            ],
            [
             0.6666666666666666,
             "#ed7953"
            ],
            [
             0.7777777777777778,
             "#fb9f3a"
            ],
            [
             0.8888888888888888,
             "#fdca26"
            ],
            [
             1,
             "#f0f921"
            ]
           ],
           "sequentialminus": [
            [
             0,
             "#0d0887"
            ],
            [
             0.1111111111111111,
             "#46039f"
            ],
            [
             0.2222222222222222,
             "#7201a8"
            ],
            [
             0.3333333333333333,
             "#9c179e"
            ],
            [
             0.4444444444444444,
             "#bd3786"
            ],
            [
             0.5555555555555556,
             "#d8576b"
            ],
            [
             0.6666666666666666,
             "#ed7953"
            ],
            [
             0.7777777777777778,
             "#fb9f3a"
            ],
            [
             0.8888888888888888,
             "#fdca26"
            ],
            [
             1,
             "#f0f921"
            ]
           ]
          },
          "colorway": [
           "#636efa",
           "#EF553B",
           "#00cc96",
           "#ab63fa",
           "#FFA15A",
           "#19d3f3",
           "#FF6692",
           "#B6E880",
           "#FF97FF",
           "#FECB52"
          ],
          "font": {
           "color": "#2a3f5f"
          },
          "geo": {
           "bgcolor": "white",
           "lakecolor": "white",
           "landcolor": "#E5ECF6",
           "showlakes": true,
           "showland": true,
           "subunitcolor": "white"
          },
          "hoverlabel": {
           "align": "left"
          },
          "hovermode": "closest",
          "mapbox": {
           "style": "light"
          },
          "paper_bgcolor": "white",
          "plot_bgcolor": "#E5ECF6",
          "polar": {
           "angularaxis": {
            "gridcolor": "white",
            "linecolor": "white",
            "ticks": ""
           },
           "bgcolor": "#E5ECF6",
           "radialaxis": {
            "gridcolor": "white",
            "linecolor": "white",
            "ticks": ""
           }
          },
          "scene": {
           "xaxis": {
            "backgroundcolor": "#E5ECF6",
            "gridcolor": "white",
            "gridwidth": 2,
            "linecolor": "white",
            "showbackground": true,
            "ticks": "",
            "zerolinecolor": "white"
           },
           "yaxis": {
            "backgroundcolor": "#E5ECF6",
            "gridcolor": "white",
            "gridwidth": 2,
            "linecolor": "white",
            "showbackground": true,
            "ticks": "",
            "zerolinecolor": "white"
           },
           "zaxis": {
            "backgroundcolor": "#E5ECF6",
            "gridcolor": "white",
            "gridwidth": 2,
            "linecolor": "white",
            "showbackground": true,
            "ticks": "",
            "zerolinecolor": "white"
           }
          },
          "shapedefaults": {
           "line": {
            "color": "#2a3f5f"
           }
          },
          "ternary": {
           "aaxis": {
            "gridcolor": "white",
            "linecolor": "white",
            "ticks": ""
           },
           "baxis": {
            "gridcolor": "white",
            "linecolor": "white",
            "ticks": ""
           },
           "bgcolor": "#E5ECF6",
           "caxis": {
            "gridcolor": "white",
            "linecolor": "white",
            "ticks": ""
           }
          },
          "title": {
           "x": 0.05
          },
          "xaxis": {
           "automargin": true,
           "gridcolor": "white",
           "linecolor": "white",
           "ticks": "",
           "title": {
            "standoff": 15
           },
           "zerolinecolor": "white",
           "zerolinewidth": 2
          },
          "yaxis": {
           "automargin": true,
           "gridcolor": "white",
           "linecolor": "white",
           "ticks": "",
           "title": {
            "standoff": 15
           },
           "zerolinecolor": "white",
           "zerolinewidth": 2
          }
         }
        },
        "title": {
         "text": "class: PVC"
        },
        "yaxis": {
         "title": {
          "text": "signal"
         }
        }
       }
      }
     },
     "metadata": {},
     "output_type": "display_data"
    },
    {
     "data": {
      "application/vnd.plotly.v1+json": {
       "config": {
        "plotlyServerURL": "https://plot.ly"
       },
       "data": [
        {
         "line": {
          "color": "rgb(31, 119, 180)"
         },
         "mode": "lines",
         "name": "Measurement",
         "type": "scatter",
         "y": [
          -0.3279483862203093,
          -1.2128272848809278,
          -1.8786628290206189,
          -2.4925333029020607,
          -2.7847722464536067,
          -2.8620890999484545,
          -2.645830606443298,
          -2.2621248227835062,
          -1.8155250768556699,
          -1.3986892954865984,
          -1.050025132664948,
          -0.7593484954278349,
          -0.5238952600984537,
          -0.32123618207835053,
          -0.15222614388608247,
          -0.041578090958762894,
          0.025085097640721615,
          0.05508445538969072,
          0.0617060812398454,
          0.06327368158402057,
          0.07323570397680411,
          0.07854921752010316,
          0.07762420498556706,
          0.06862628652731953,
          0.06085584571479384,
          0.06464263540309274,
          0.05108862208628871,
          0.04764886970927842,
          0.050081308659793745,
          0.02796244930051547,
          0.019458451466494834,
          0.018456223586597913,
          0.0063178463350515085,
          -0.006590740116933022,
          -0.01878775987994846,
          -0.025961883793814443,
          -0.03442129669587631,
          -0.03618511212371135,
          -0.04265155673711339,
          -0.0623850121386598,
          -0.07845884901262888,
          -0.08995540564396909,
          -0.10655242652268042,
          -0.12220696913865978,
          -0.12762349751907212,
          -0.13173597230927836,
          -0.1468639246804124,
          -0.1560215092912371,
          -0.1614183566149485,
          -0.1635765664365979,
          -0.15646390135051547,
          -0.15383994990046393,
          -0.1589386015886598,
          -0.15910706125747423,
          -0.15463424335412368,
          -0.15012857931087628,
          -0.13318952351701036,
          -0.12747790659484537,
          -0.11745718254675257,
          -0.10439915754010312,
          -0.10000187450000002,
          -0.08584212588505155,
          -0.06287006249742273,
          -0.04653915723969063,
          -0.03817609202751025,
          -0.024235286083505198,
          -0.014714067838144284,
          0.0033977892516494565,
          0.019581536334020593,
          0.04640400205670108,
          0.06866047205000003,
          0.09233791771134019,
          0.11566738682474223,
          0.13719459100721645,
          0.1685047729386596,
          0.18598975387886593,
          0.19888895474999993,
          0.22034911715360822,
          0.23843291535103078,
          0.2675213863994844,
          0.2901289447204123,
          0.3038724920955669,
          0.3192338937510307,
          0.3436612268853612,
          0.37065439386494875,
          0.39757125193402076,
          0.423802737113454,
          0.4419146663134022,
          0.44521023861855696,
          0.45132933789690766,
          0.46854621705979427,
          0.4780609121030929,
          0.4930855646752578,
          0.4986947488407217,
          0.5078634618247421,
          0.5141250616597938,
          0.5185342968546388,
          0.5319517799407216,
          0.5455066317886593,
          0.5596157061340205,
          0.5677162197113403,
          0.5702813999830414,
          0.5689210800515467,
          0.5713688158247425,
          0.5803051673195876,
          0.5937392186701033,
          0.6089980388041238,
          0.614429878742268,
          0.6113832505103091,
          0.6247776238092781,
          0.6317301065788659,
          0.6348479518814436,
          0.6334221582268041,
          0.6339485469226807,
          0.6300063764175253,
          0.6250251148809279,
          0.6222562364592786,
          0.6185444460721647,
          0.6159964091185565,
          0.6142852313525776,
          0.5961808205876289,
          0.581831942113402,
          0.583869524306701,
          0.6043652074587629,
          0.6590967696695876,
          0.7282058139381445,
          0.7970127087458765,
          0.7971658822477831,
          0.6924792987319586,
          0.5192364247695876,
          0.2864763725154639,
          0.028922036748711386,
          -0.211734688041237,
          -0.4253380265814431,
          -0.6335860390927835,
          -0.7860887268092779,
          -0.8845276338917523,
          -0.7165941495103084,
          -0.7091057821288664,
          -0.3671182931649483
         ]
        },
        {
         "line": {
          "width": 0
         },
         "marker": {
          "color": "#444"
         },
         "mode": "lines",
         "name": "Upper Bound",
         "showlegend": false,
         "type": "scatter",
         "y": [
          0.5124765247941899,
          -0.2962547766003494,
          -0.9902810975678809,
          -1.6486964372146626,
          -1.9764615728380057,
          -2.088247122197526,
          -1.8772598824100064,
          -1.4797946242975435,
          -1.0776113855574012,
          -0.7565619991518675,
          -0.4961601773515957,
          -0.23919344125041153,
          -0.0385825315122898,
          0.10288231279415777,
          0.21095183277342533,
          0.2753726826857578,
          0.33228284734284763,
          0.37043026228387343,
          0.37778021812063595,
          0.3789099846891233,
          0.3879364143765017,
          0.4018672511589303,
          0.41289579308424773,
          0.39989168669019526,
          0.3816013540716903,
          0.3826004214398795,
          0.36048665683936604,
          0.356249955005187,
          0.3525047922886075,
          0.3418139185099159,
          0.3332272888080963,
          0.33454443157823405,
          0.3320623594200524,
          0.34204318399967243,
          0.3509181328687556,
          0.36348310873682055,
          0.35371512970671426,
          0.3270651166487978,
          0.30300530000777676,
          0.29721360288596405,
          0.27795513562968843,
          0.2677352492228258,
          0.2575809668536264,
          0.23672465584128624,
          0.2342381280210364,
          0.24510373766069332,
          0.22386319934839707,
          0.23291770651767085,
          0.23713004101423021,
          0.22731298363157482,
          0.25279961950717106,
          0.2695958569762721,
          0.27779441566557883,
          0.2940446682318192,
          0.3121737382427229,
          0.32881373323409124,
          0.3765054818722597,
          0.3945616455593792,
          0.40460558924801177,
          0.4122932056612363,
          0.42639357942741624,
          0.4325899545229047,
          0.4498392719897452,
          0.4574979679526165,
          0.4580558786390243,
          0.45228377659347574,
          0.43001980387263444,
          0.431732027074007,
          0.43628513583027195,
          0.44448844076887783,
          0.44917556269153647,
          0.45860588368589716,
          0.4640014055398476,
          0.4681339502583176,
          0.48748434484250924,
          0.5106918449245881,
          0.524002206540731,
          0.5376776395410235,
          0.5621676813042796,
          0.5913667776789728,
          0.6101816585630153,
          0.6341807527395817,
          0.668980100282724,
          0.702733448206392,
          0.7606419478217832,
          0.8181001277723194,
          0.8648778740439391,
          0.8819099694820804,
          0.8785197501309647,
          0.8802342502743818,
          0.888154775911861,
          0.8915132702836983,
          0.9108987558737256,
          0.8980769376474587,
          0.8986813704955494,
          0.9016891031367937,
          0.9095234131218635,
          0.937276797386837,
          0.9565880687733262,
          0.9589225513159904,
          0.9542741646148551,
          0.9531536538310571,
          0.9436034104785411,
          0.9510018630258645,
          0.9559530641067749,
          0.9392605745202558,
          0.9615471379500079,
          0.9680109164307316,
          0.9675776666247684,
          0.986725940505377,
          0.9925953711654258,
          0.9965681468704954,
          1.006761549441757,
          1.0031976861320864,
          1.0020600358217222,
          0.9988299025344521,
          0.9906293242051765,
          0.9937066404231762,
          0.9968163433637954,
          1.0143797636461993,
          1.0126757798963204,
          1.0381210774009038,
          1.103668654485201,
          1.1899178767242051,
          1.325814115294231,
          1.5025714893424702,
          1.6903914976466172,
          1.815133019738293,
          1.8405170109538334,
          1.7965045244806412,
          1.7263701890257517,
          1.6723390153772055,
          1.6838307302463955,
          1.7950689716844173,
          1.8103829313182342,
          1.7275494828869866,
          1.503059129082104,
          1.3884718301099142,
          1.2441722127251877,
          1.26980551097964
         ]
        },
        {
         "fill": "tonexty",
         "fillcolor": "rgba(68, 68, 68, 0.3)",
         "line": {
          "width": 0
         },
         "marker": {
          "color": "#444"
         },
         "mode": "lines",
         "name": "Lower Bound",
         "showlegend": false,
         "type": "scatter",
         "y": [
          -1.1683732972348086,
          -2.1293997931615065,
          -2.767044560473357,
          -3.3363701685894585,
          -3.5930829200692074,
          -3.635931077699383,
          -3.4144013304765894,
          -3.044455021269469,
          -2.5534387681539386,
          -2.0408165918213292,
          -1.6038900879783,
          -1.2795035496052583,
          -1.0092079886846175,
          -0.7453546769508588,
          -0.5154041205455903,
          -0.35852886460328365,
          -0.28211265206140446,
          -0.26026135150449203,
          -0.25436805564094517,
          -0.25236262152108213,
          -0.24146500642289348,
          -0.244768816118724,
          -0.25764738311311364,
          -0.26263911363555625,
          -0.2598896626421026,
          -0.25331515063369403,
          -0.2583094126667886,
          -0.26095221558663023,
          -0.25234217496901995,
          -0.285889019908885,
          -0.29431038587510666,
          -0.2976319844050382,
          -0.3194266667499494,
          -0.35522466423353843,
          -0.38849365262865254,
          -0.4154068763244494,
          -0.42255772309846684,
          -0.39943534089622046,
          -0.38830841348200357,
          -0.4219836271632837,
          -0.4348728336549462,
          -0.447646060510764,
          -0.4706858198989873,
          -0.4811385941186058,
          -0.4894851230591807,
          -0.50857568227925,
          -0.5175910487092219,
          -0.544960725100145,
          -0.5599667542441272,
          -0.5544661165047706,
          -0.565727422208202,
          -0.5772757567772,
          -0.5956716188428984,
          -0.6122587907467676,
          -0.6214422249509702,
          -0.6290708918558438,
          -0.6428845289062803,
          -0.64951745874907,
          -0.6395199543415169,
          -0.6210915207414425,
          -0.6263973284274162,
          -0.6042742062930079,
          -0.5755793969845907,
          -0.5505762824319977,
          -0.5344080626940448,
          -0.5007543487604862,
          -0.459447939548923,
          -0.42493644857070806,
          -0.39712206316223075,
          -0.35168043665547566,
          -0.3118546185915364,
          -0.27393004826321676,
          -0.2326666318903631,
          -0.19374476824388467,
          -0.15047479896519003,
          -0.1387123371668562,
          -0.1262242970407312,
          -0.0969794052338071,
          -0.08530185060221807,
          -0.05632400488000394,
          -0.029923769122190746,
          -0.026435768548448035,
          -0.03051231278066263,
          -0.015410994435669623,
          -0.01933316009188568,
          -0.02295762390427797,
          -0.017272399817031048,
          0.0019193631447239068,
          0.011900727106149145,
          0.022424425519433522,
          0.04893765820772755,
          0.06460855392248749,
          0.07527237347679,
          0.09931256003398475,
          0.11704555315393467,
          0.12656102018279386,
          0.1275451805874141,
          0.1266267624946063,
          0.1344251948039924,
          0.16030886095205055,
          0.18115827480782548,
          0.18740914613502568,
          0.19423874962455234,
          0.19173576862362046,
          0.20465727053240024,
          0.24821786281995079,
          0.2564489396582398,
          0.2608488410538044,
          0.2551888343958497,
          0.26282930711317937,
          0.2708648419923059,
          0.2731277568923918,
          0.26008276701185135,
          0.26469940771327494,
          0.25795271701332856,
          0.25122032722740373,
          0.25388314871338086,
          0.24338225172115324,
          0.2351764748733175,
          0.21419069905895594,
          0.17968586127893738,
          0.12554280682590024,
          0.06407039412820104,
          0.018812538193320738,
          -0.0076205759550558305,
          -0.04615986146618112,
          -0.09636608015486414,
          -0.2208012552427271,
          -0.4555584134899162,
          -0.7580316749414661,
          -1.1534174439948237,
          -1.614494941879783,
          -2.1073001063288697,
          -2.6457450248473036,
          -3.077555009503801,
          -3.2997269365055426,
          -3.2721143968656086,
          -2.8216601291305308,
          -2.662383776982921,
          -2.0040420973095365
         ]
        }
       ],
       "layout": {
        "hovermode": "x",
        "template": {
         "data": {
          "bar": [
           {
            "error_x": {
             "color": "#2a3f5f"
            },
            "error_y": {
             "color": "#2a3f5f"
            },
            "marker": {
             "line": {
              "color": "#E5ECF6",
              "width": 0.5
             },
             "pattern": {
              "fillmode": "overlay",
              "size": 10,
              "solidity": 0.2
             }
            },
            "type": "bar"
           }
          ],
          "barpolar": [
           {
            "marker": {
             "line": {
              "color": "#E5ECF6",
              "width": 0.5
             },
             "pattern": {
              "fillmode": "overlay",
              "size": 10,
              "solidity": 0.2
             }
            },
            "type": "barpolar"
           }
          ],
          "carpet": [
           {
            "aaxis": {
             "endlinecolor": "#2a3f5f",
             "gridcolor": "white",
             "linecolor": "white",
             "minorgridcolor": "white",
             "startlinecolor": "#2a3f5f"
            },
            "baxis": {
             "endlinecolor": "#2a3f5f",
             "gridcolor": "white",
             "linecolor": "white",
             "minorgridcolor": "white",
             "startlinecolor": "#2a3f5f"
            },
            "type": "carpet"
           }
          ],
          "choropleth": [
           {
            "colorbar": {
             "outlinewidth": 0,
             "ticks": ""
            },
            "type": "choropleth"
           }
          ],
          "contour": [
           {
            "colorbar": {
             "outlinewidth": 0,
             "ticks": ""
            },
            "colorscale": [
             [
              0,
              "#0d0887"
             ],
             [
              0.1111111111111111,
              "#46039f"
             ],
             [
              0.2222222222222222,
              "#7201a8"
             ],
             [
              0.3333333333333333,
              "#9c179e"
             ],
             [
              0.4444444444444444,
              "#bd3786"
             ],
             [
              0.5555555555555556,
              "#d8576b"
             ],
             [
              0.6666666666666666,
              "#ed7953"
             ],
             [
              0.7777777777777778,
              "#fb9f3a"
             ],
             [
              0.8888888888888888,
              "#fdca26"
             ],
             [
              1,
              "#f0f921"
             ]
            ],
            "type": "contour"
           }
          ],
          "contourcarpet": [
           {
            "colorbar": {
             "outlinewidth": 0,
             "ticks": ""
            },
            "type": "contourcarpet"
           }
          ],
          "heatmap": [
           {
            "colorbar": {
             "outlinewidth": 0,
             "ticks": ""
            },
            "colorscale": [
             [
              0,
              "#0d0887"
             ],
             [
              0.1111111111111111,
              "#46039f"
             ],
             [
              0.2222222222222222,
              "#7201a8"
             ],
             [
              0.3333333333333333,
              "#9c179e"
             ],
             [
              0.4444444444444444,
              "#bd3786"
             ],
             [
              0.5555555555555556,
              "#d8576b"
             ],
             [
              0.6666666666666666,
              "#ed7953"
             ],
             [
              0.7777777777777778,
              "#fb9f3a"
             ],
             [
              0.8888888888888888,
              "#fdca26"
             ],
             [
              1,
              "#f0f921"
             ]
            ],
            "type": "heatmap"
           }
          ],
          "heatmapgl": [
           {
            "colorbar": {
             "outlinewidth": 0,
             "ticks": ""
            },
            "colorscale": [
             [
              0,
              "#0d0887"
             ],
             [
              0.1111111111111111,
              "#46039f"
             ],
             [
              0.2222222222222222,
              "#7201a8"
             ],
             [
              0.3333333333333333,
              "#9c179e"
             ],
             [
              0.4444444444444444,
              "#bd3786"
             ],
             [
              0.5555555555555556,
              "#d8576b"
             ],
             [
              0.6666666666666666,
              "#ed7953"
             ],
             [
              0.7777777777777778,
              "#fb9f3a"
             ],
             [
              0.8888888888888888,
              "#fdca26"
             ],
             [
              1,
              "#f0f921"
             ]
            ],
            "type": "heatmapgl"
           }
          ],
          "histogram": [
           {
            "marker": {
             "pattern": {
              "fillmode": "overlay",
              "size": 10,
              "solidity": 0.2
             }
            },
            "type": "histogram"
           }
          ],
          "histogram2d": [
           {
            "colorbar": {
             "outlinewidth": 0,
             "ticks": ""
            },
            "colorscale": [
             [
              0,
              "#0d0887"
             ],
             [
              0.1111111111111111,
              "#46039f"
             ],
             [
              0.2222222222222222,
              "#7201a8"
             ],
             [
              0.3333333333333333,
              "#9c179e"
             ],
             [
              0.4444444444444444,
              "#bd3786"
             ],
             [
              0.5555555555555556,
              "#d8576b"
             ],
             [
              0.6666666666666666,
              "#ed7953"
             ],
             [
              0.7777777777777778,
              "#fb9f3a"
             ],
             [
              0.8888888888888888,
              "#fdca26"
             ],
             [
              1,
              "#f0f921"
             ]
            ],
            "type": "histogram2d"
           }
          ],
          "histogram2dcontour": [
           {
            "colorbar": {
             "outlinewidth": 0,
             "ticks": ""
            },
            "colorscale": [
             [
              0,
              "#0d0887"
             ],
             [
              0.1111111111111111,
              "#46039f"
             ],
             [
              0.2222222222222222,
              "#7201a8"
             ],
             [
              0.3333333333333333,
              "#9c179e"
             ],
             [
              0.4444444444444444,
              "#bd3786"
             ],
             [
              0.5555555555555556,
              "#d8576b"
             ],
             [
              0.6666666666666666,
              "#ed7953"
             ],
             [
              0.7777777777777778,
              "#fb9f3a"
             ],
             [
              0.8888888888888888,
              "#fdca26"
             ],
             [
              1,
              "#f0f921"
             ]
            ],
            "type": "histogram2dcontour"
           }
          ],
          "mesh3d": [
           {
            "colorbar": {
             "outlinewidth": 0,
             "ticks": ""
            },
            "type": "mesh3d"
           }
          ],
          "parcoords": [
           {
            "line": {
             "colorbar": {
              "outlinewidth": 0,
              "ticks": ""
             }
            },
            "type": "parcoords"
           }
          ],
          "pie": [
           {
            "automargin": true,
            "type": "pie"
           }
          ],
          "scatter": [
           {
            "fillpattern": {
             "fillmode": "overlay",
             "size": 10,
             "solidity": 0.2
            },
            "type": "scatter"
           }
          ],
          "scatter3d": [
           {
            "line": {
             "colorbar": {
              "outlinewidth": 0,
              "ticks": ""
             }
            },
            "marker": {
             "colorbar": {
              "outlinewidth": 0,
              "ticks": ""
             }
            },
            "type": "scatter3d"
           }
          ],
          "scattercarpet": [
           {
            "marker": {
             "colorbar": {
              "outlinewidth": 0,
              "ticks": ""
             }
            },
            "type": "scattercarpet"
           }
          ],
          "scattergeo": [
           {
            "marker": {
             "colorbar": {
              "outlinewidth": 0,
              "ticks": ""
             }
            },
            "type": "scattergeo"
           }
          ],
          "scattergl": [
           {
            "marker": {
             "colorbar": {
              "outlinewidth": 0,
              "ticks": ""
             }
            },
            "type": "scattergl"
           }
          ],
          "scattermapbox": [
           {
            "marker": {
             "colorbar": {
              "outlinewidth": 0,
              "ticks": ""
             }
            },
            "type": "scattermapbox"
           }
          ],
          "scatterpolar": [
           {
            "marker": {
             "colorbar": {
              "outlinewidth": 0,
              "ticks": ""
             }
            },
            "type": "scatterpolar"
           }
          ],
          "scatterpolargl": [
           {
            "marker": {
             "colorbar": {
              "outlinewidth": 0,
              "ticks": ""
             }
            },
            "type": "scatterpolargl"
           }
          ],
          "scatterternary": [
           {
            "marker": {
             "colorbar": {
              "outlinewidth": 0,
              "ticks": ""
             }
            },
            "type": "scatterternary"
           }
          ],
          "surface": [
           {
            "colorbar": {
             "outlinewidth": 0,
             "ticks": ""
            },
            "colorscale": [
             [
              0,
              "#0d0887"
             ],
             [
              0.1111111111111111,
              "#46039f"
             ],
             [
              0.2222222222222222,
              "#7201a8"
             ],
             [
              0.3333333333333333,
              "#9c179e"
             ],
             [
              0.4444444444444444,
              "#bd3786"
             ],
             [
              0.5555555555555556,
              "#d8576b"
             ],
             [
              0.6666666666666666,
              "#ed7953"
             ],
             [
              0.7777777777777778,
              "#fb9f3a"
             ],
             [
              0.8888888888888888,
              "#fdca26"
             ],
             [
              1,
              "#f0f921"
             ]
            ],
            "type": "surface"
           }
          ],
          "table": [
           {
            "cells": {
             "fill": {
              "color": "#EBF0F8"
             },
             "line": {
              "color": "white"
             }
            },
            "header": {
             "fill": {
              "color": "#C8D4E3"
             },
             "line": {
              "color": "white"
             }
            },
            "type": "table"
           }
          ]
         },
         "layout": {
          "annotationdefaults": {
           "arrowcolor": "#2a3f5f",
           "arrowhead": 0,
           "arrowwidth": 1
          },
          "autotypenumbers": "strict",
          "coloraxis": {
           "colorbar": {
            "outlinewidth": 0,
            "ticks": ""
           }
          },
          "colorscale": {
           "diverging": [
            [
             0,
             "#8e0152"
            ],
            [
             0.1,
             "#c51b7d"
            ],
            [
             0.2,
             "#de77ae"
            ],
            [
             0.3,
             "#f1b6da"
            ],
            [
             0.4,
             "#fde0ef"
            ],
            [
             0.5,
             "#f7f7f7"
            ],
            [
             0.6,
             "#e6f5d0"
            ],
            [
             0.7,
             "#b8e186"
            ],
            [
             0.8,
             "#7fbc41"
            ],
            [
             0.9,
             "#4d9221"
            ],
            [
             1,
             "#276419"
            ]
           ],
           "sequential": [
            [
             0,
             "#0d0887"
            ],
            [
             0.1111111111111111,
             "#46039f"
            ],
            [
             0.2222222222222222,
             "#7201a8"
            ],
            [
             0.3333333333333333,
             "#9c179e"
            ],
            [
             0.4444444444444444,
             "#bd3786"
            ],
            [
             0.5555555555555556,
             "#d8576b"
            ],
            [
             0.6666666666666666,
             "#ed7953"
            ],
            [
             0.7777777777777778,
             "#fb9f3a"
            ],
            [
             0.8888888888888888,
             "#fdca26"
            ],
            [
             1,
             "#f0f921"
            ]
           ],
           "sequentialminus": [
            [
             0,
             "#0d0887"
            ],
            [
             0.1111111111111111,
             "#46039f"
            ],
            [
             0.2222222222222222,
             "#7201a8"
            ],
            [
             0.3333333333333333,
             "#9c179e"
            ],
            [
             0.4444444444444444,
             "#bd3786"
            ],
            [
             0.5555555555555556,
             "#d8576b"
            ],
            [
             0.6666666666666666,
             "#ed7953"
            ],
            [
             0.7777777777777778,
             "#fb9f3a"
            ],
            [
             0.8888888888888888,
             "#fdca26"
            ],
            [
             1,
             "#f0f921"
            ]
           ]
          },
          "colorway": [
           "#636efa",
           "#EF553B",
           "#00cc96",
           "#ab63fa",
           "#FFA15A",
           "#19d3f3",
           "#FF6692",
           "#B6E880",
           "#FF97FF",
           "#FECB52"
          ],
          "font": {
           "color": "#2a3f5f"
          },
          "geo": {
           "bgcolor": "white",
           "lakecolor": "white",
           "landcolor": "#E5ECF6",
           "showlakes": true,
           "showland": true,
           "subunitcolor": "white"
          },
          "hoverlabel": {
           "align": "left"
          },
          "hovermode": "closest",
          "mapbox": {
           "style": "light"
          },
          "paper_bgcolor": "white",
          "plot_bgcolor": "#E5ECF6",
          "polar": {
           "angularaxis": {
            "gridcolor": "white",
            "linecolor": "white",
            "ticks": ""
           },
           "bgcolor": "#E5ECF6",
           "radialaxis": {
            "gridcolor": "white",
            "linecolor": "white",
            "ticks": ""
           }
          },
          "scene": {
           "xaxis": {
            "backgroundcolor": "#E5ECF6",
            "gridcolor": "white",
            "gridwidth": 2,
            "linecolor": "white",
            "showbackground": true,
            "ticks": "",
            "zerolinecolor": "white"
           },
           "yaxis": {
            "backgroundcolor": "#E5ECF6",
            "gridcolor": "white",
            "gridwidth": 2,
            "linecolor": "white",
            "showbackground": true,
            "ticks": "",
            "zerolinecolor": "white"
           },
           "zaxis": {
            "backgroundcolor": "#E5ECF6",
            "gridcolor": "white",
            "gridwidth": 2,
            "linecolor": "white",
            "showbackground": true,
            "ticks": "",
            "zerolinecolor": "white"
           }
          },
          "shapedefaults": {
           "line": {
            "color": "#2a3f5f"
           }
          },
          "ternary": {
           "aaxis": {
            "gridcolor": "white",
            "linecolor": "white",
            "ticks": ""
           },
           "baxis": {
            "gridcolor": "white",
            "linecolor": "white",
            "ticks": ""
           },
           "bgcolor": "#E5ECF6",
           "caxis": {
            "gridcolor": "white",
            "linecolor": "white",
            "ticks": ""
           }
          },
          "title": {
           "x": 0.05
          },
          "xaxis": {
           "automargin": true,
           "gridcolor": "white",
           "linecolor": "white",
           "ticks": "",
           "title": {
            "standoff": 15
           },
           "zerolinecolor": "white",
           "zerolinewidth": 2
          },
          "yaxis": {
           "automargin": true,
           "gridcolor": "white",
           "linecolor": "white",
           "ticks": "",
           "title": {
            "standoff": 15
           },
           "zerolinecolor": "white",
           "zerolinewidth": 2
          }
         }
        },
        "title": {
         "text": "class: SP or EB"
        },
        "yaxis": {
         "title": {
          "text": "signal"
         }
        }
       }
      }
     },
     "metadata": {},
     "output_type": "display_data"
    },
    {
     "data": {
      "application/vnd.plotly.v1+json": {
       "config": {
        "plotlyServerURL": "https://plot.ly"
       },
       "data": [
        {
         "line": {
          "color": "rgb(31, 119, 180)"
         },
         "mode": "lines",
         "name": "Measurement",
         "type": "scatter",
         "y": [
          -0.1654248941666667,
          -1.1965869591374998,
          -1.651756121666667,
          -2.1591737243333338,
          -2.1878141385250003,
          -1.9898848019583337,
          -1.520515442125,
          -1.1723883804583333,
          -0.9997687813333331,
          -0.712925983875,
          -0.5003648613041666,
          -0.4139468922083334,
          -0.3286319255,
          -0.2809668538333334,
          -0.2739818650833333,
          -0.25013101800416665,
          -0.2356221331,
          -0.20047820583333334,
          -0.22281601620833333,
          -0.22242113254166665,
          -0.2185202360833333,
          -0.2342299207916667,
          -0.27632792458333333,
          -0.31538397399999996,
          -0.3750718600833333,
          -0.4273735288333334,
          -0.4432474001666668,
          -0.4377856018333334,
          -0.39617248879166667,
          -0.3547923177500001,
          -0.31690597029166667,
          -0.26572656025,
          -0.19658723577916667,
          -0.11548616366666668,
          -0.08584114337083336,
          -0.07195470881666666,
          -0.06586958525833332,
          -0.0653873086666667,
          -0.08627531508333335,
          -0.09614573883333334,
          -0.08833015787499994,
          -0.0851026176541667,
          -0.05576921816666668,
          -0.024307672124999985,
          0.002710315458333346,
          0.022289450104166674,
          0.050816340666666675,
          0.11451725195833334,
          0.14706211628750002,
          0.15998279212500002,
          0.1631562529583333,
          0.18779422745833332,
          0.22134509616666664,
          0.23839663181,
          0.23875637750416664,
          0.29100709,
          0.3115588272875,
          0.27912063703333334,
          0.29581959787500006,
          0.2955415342166667,
          0.3231776238333333,
          0.33366807233333323,
          0.3144647781666667,
          0.31997146349999994,
          0.31912910458333327,
          0.3307293018375,
          0.3418979224166667,
          0.3583757867249999,
          0.3775155743333334,
          0.40985227270833335,
          0.41690291291666665,
          0.4127833409583333,
          0.4081949618458333,
          0.4031289235833333,
          0.40800593020833326,
          0.4434170251875001,
          0.46149340325,
          0.4274620225416667,
          0.4169499558749999,
          0.4238771514791666,
          0.4226790375,
          0.422706022125,
          0.4533845153333334,
          0.4760675430833334,
          0.45043846474999993,
          0.44661069404166676,
          0.396274220325,
          0.4081429704166668,
          0.4431270980416668,
          0.47392787996249996,
          0.5146647859166668,
          0.5071994607083333,
          0.49807565493333333,
          0.5434233915833334,
          0.5638609510541667,
          0.5692362313333333,
          0.5858938054166667,
          0.6111648090291666,
          0.6459733825416666,
          0.6285000466666667,
          0.5791839175000001,
          0.5551222949583333,
          0.5349873257916667,
          0.46994607729166665,
          0.4340872841666666,
          0.4334866949708334,
          0.40802944187500007,
          0.33046800455416664,
          0.2128794227916666,
          0.10251871545833335,
          0.06069510094166667,
          0.04753033108333332,
          0.08538061666666664,
          0.07816832316666666,
          0.046148158000000015,
          0.06438516474999999,
          0.10326565695833334,
          0.1377070297,
          0.19598320995833332,
          0.21476708075000003,
          0.22341844426666665,
          0.26036125620833334,
          0.2540103507916667,
          0.20513981968333336,
          0.1415720495,
          0.02472409488749994,
          -0.09559332290000001,
          -0.2197144468333333,
          -0.29262978329166667,
          -0.2401564107083333,
          -0.2453122693333334,
          -0.3819106028333333,
          -0.5408306819583334,
          -0.6471286319583333,
          -0.6240070490416666,
          -0.5921897857500001,
          -0.5325828041250001,
          -0.4051183895000001,
          -0.2656613218208333,
          -0.06915860774999996
         ]
        },
        {
         "line": {
          "width": 0
         },
         "marker": {
          "color": "#444"
         },
         "mode": "lines",
         "name": "Upper Bound",
         "showlegend": false,
         "type": "scatter",
         "y": [
          0.47479381562730305,
          -0.19623633693002818,
          -0.198011851159412,
          -0.3673521257476291,
          -0.38531044211517873,
          -0.37821343689568176,
          -0.08304045442316199,
          0.13288098367733947,
          0.27803686667656713,
          0.5124941370168541,
          0.6288034243359316,
          0.622971428740331,
          0.7155167008912303,
          0.765712099319233,
          0.7196474241286752,
          0.6915057290087718,
          0.641043453982635,
          0.5774158480237057,
          0.4634914801203375,
          0.5001574116006561,
          0.6528032806902253,
          0.680425805477491,
          0.6189545043867106,
          0.5843549450528145,
          0.5685835840069231,
          0.555699496488212,
          0.5332203344322202,
          0.4677561070318687,
          0.4173198572884904,
          0.41727564493855607,
          0.41485611897466745,
          0.38062036231324753,
          0.34237862994840285,
          0.36464603799454853,
          0.38986248178407373,
          0.37321228662939143,
          0.3822700864870767,
          0.4359707775115001,
          0.5845717551241862,
          0.6870392534277998,
          0.7870504752808103,
          0.8287774020416646,
          0.811140870743462,
          0.8199270043285127,
          0.8013880456826518,
          0.7208180548340303,
          0.6004910245255007,
          0.533684678826033,
          0.5559772790287563,
          0.583442127005127,
          0.5588374459996239,
          0.5620655583475686,
          0.6131647062654189,
          0.6591922789270638,
          0.6690457558091225,
          0.7186225935476469,
          0.7289637384657437,
          0.6856531990945343,
          0.691478349739401,
          0.6671214488075081,
          0.7163691300493756,
          0.7395594349486235,
          0.6915226455593353,
          0.6950499982578294,
          0.6662239933690111,
          0.6584279105704398,
          0.6769180413260181,
          0.6679775681954583,
          0.6408547684360876,
          0.6995473889755452,
          0.7342913797757344,
          0.7062250294809125,
          0.6810237024079705,
          0.6830496723832122,
          0.728591492854346,
          0.7994213040342792,
          0.857863740043967,
          0.8827772894680551,
          0.9065882605100535,
          0.8897185627846558,
          0.9029388215158372,
          0.9208410422994724,
          0.989296367699821,
          1.0312091623368835,
          0.997368416911824,
          1.002553619090382,
          0.9412711622598375,
          0.9581194420668493,
          0.9452206335167179,
          0.9815961742111463,
          1.0329812272533632,
          1.0320868749116812,
          1.055719410480902,
          1.1452058617290377,
          1.18219323493037,
          1.2226631797857008,
          1.274388751248938,
          1.3203804141778481,
          1.3743334314616757,
          1.3466911666769281,
          1.3064594329465975,
          1.269902183937761,
          1.280115599203235,
          1.218569823295494,
          1.21301437113217,
          1.2474271742387573,
          1.2132916002543561,
          1.139222804611351,
          1.1125318450315205,
          1.1411242618916655,
          1.0782979857234796,
          0.9650002105639934,
          0.8590377152308907,
          0.8342823903456461,
          0.9245138904511967,
          0.9857875154719691,
          1.00527201666516,
          0.9473915399576939,
          0.8501206739533664,
          0.8446908287402576,
          0.8112518465856057,
          0.8102587219145296,
          0.7793594782517205,
          0.7728041135480362,
          0.9622154364002672,
          1.0326068230810803,
          1.1513772865544654,
          1.1189287078366896,
          1.0976139595202203,
          1.1206569158744817,
          1.118551791970587,
          1.057477939840468,
          1.0207349236074927,
          0.9628845064734127,
          1.0149974296534987,
          0.9762886683054027,
          0.8537148151124615,
          0.8454438783365714,
          0.8915314769278242,
          1.2755014778435834
         ]
        },
        {
         "fill": "tonexty",
         "fillcolor": "rgba(68, 68, 68, 0.3)",
         "line": {
          "width": 0
         },
         "marker": {
          "color": "#444"
         },
         "mode": "lines",
         "name": "Lower Bound",
         "showlegend": false,
         "type": "scatter",
         "y": [
          -0.8056436039606365,
          -2.1969375813449714,
          -3.105500392173922,
          -3.9509953229190384,
          -3.990317834934822,
          -3.601556167020986,
          -2.957990429826838,
          -2.477657744594006,
          -2.2775744293432334,
          -1.938346104766854,
          -1.6295331469442647,
          -1.4508652131569977,
          -1.3727805518912302,
          -1.3276458069858998,
          -1.2676111542953419,
          -1.191767765017105,
          -1.1122877201826349,
          -0.9783722596903723,
          -0.9091235125370042,
          -0.9449996766839893,
          -1.0898437528568918,
          -1.1488856470608244,
          -1.1716103535533773,
          -1.2151228930528144,
          -1.3187273041735899,
          -1.4104465541548787,
          -1.4197151347655539,
          -1.3433273106985355,
          -1.2096648348718237,
          -1.1268602804385561,
          -1.048668059558001,
          -0.9120734828132475,
          -0.7355531015067363,
          -0.5956183653278819,
          -0.5615447685257404,
          -0.5171217042627247,
          -0.5140092570037433,
          -0.5667453948448335,
          -0.7571223852908529,
          -0.8793307310944665,
          -0.9637107910308103,
          -0.998982637349998,
          -0.9226793070767954,
          -0.8685423485785126,
          -0.7959674147659851,
          -0.6762391546256968,
          -0.49885834319216743,
          -0.3046501749093663,
          -0.2618530464537562,
          -0.2634765427551269,
          -0.23252494008295738,
          -0.18647710343090193,
          -0.17047451393208551,
          -0.18239901530706373,
          -0.1915330008007892,
          -0.13660841354764686,
          -0.10584608389074368,
          -0.12741192502786752,
          -0.09983915398940091,
          -0.07603838037417476,
          -0.070013882382709,
          -0.07222329028195706,
          -0.06259308922600187,
          -0.05510707125782954,
          -0.027965784202344524,
          0.0030306931045602226,
          0.0068778035073154276,
          0.048774005254541564,
          0.11417638023057919,
          0.12015715644112152,
          0.0995144460575989,
          0.11934165243575412,
          0.13536622128369613,
          0.12320817478345436,
          0.08742036756232052,
          0.08741274634072094,
          0.065123066456033,
          -0.027853244384721698,
          -0.07268834876005376,
          -0.041964259826322514,
          -0.057580746515837056,
          -0.07542899804947228,
          -0.08252733703315424,
          -0.07907407617021683,
          -0.09649148741182412,
          -0.10933223100704859,
          -0.14872272160983752,
          -0.14183350123351568,
          -0.05896643743338431,
          -0.03374041428614638,
          -0.0036516554200297646,
          -0.017687953495014508,
          -0.0595681006142354,
          -0.05835907856237088,
          -0.054471332822036755,
          -0.08419071711903425,
          -0.10260114041560464,
          -0.09805079611951484,
          -0.08238666637834258,
          -0.08969107334359483,
          -0.14809159794659743,
          -0.15965759402109436,
          -0.21014094761990143,
          -0.27867766871216065,
          -0.3448398027988368,
          -0.3804537842970905,
          -0.39723271650435593,
          -0.47828679550301784,
          -0.6867729994481874,
          -0.9360868309749988,
          -0.9569077838401462,
          -0.8699395483973269,
          -0.6882764818975574,
          -0.6779457440123128,
          -0.8322175744511966,
          -0.8570171859719691,
          -0.7987407027484934,
          -0.6719774805576938,
          -0.45815425403669985,
          -0.41515666724025746,
          -0.3644149580522723,
          -0.289536209497863,
          -0.2713387766683871,
          -0.36252447418136946,
          -0.6790713374002671,
          -0.9831586333060803,
          -1.3425639323544656,
          -1.5583576015033564,
          -1.6828735261035537,
          -1.6009697372911484,
          -1.6091763306372537,
          -1.8212991455071343,
          -2.1023962875241593,
          -2.257141770390079,
          -2.2630115277368317,
          -2.160668239805403,
          -1.9188804233624617,
          -1.6556806573365717,
          -1.4228541205694907,
          -1.4138186933435832
         ]
        }
       ],
       "layout": {
        "hovermode": "x",
        "template": {
         "data": {
          "bar": [
           {
            "error_x": {
             "color": "#2a3f5f"
            },
            "error_y": {
             "color": "#2a3f5f"
            },
            "marker": {
             "line": {
              "color": "#E5ECF6",
              "width": 0.5
             },
             "pattern": {
              "fillmode": "overlay",
              "size": 10,
              "solidity": 0.2
             }
            },
            "type": "bar"
           }
          ],
          "barpolar": [
           {
            "marker": {
             "line": {
              "color": "#E5ECF6",
              "width": 0.5
             },
             "pattern": {
              "fillmode": "overlay",
              "size": 10,
              "solidity": 0.2
             }
            },
            "type": "barpolar"
           }
          ],
          "carpet": [
           {
            "aaxis": {
             "endlinecolor": "#2a3f5f",
             "gridcolor": "white",
             "linecolor": "white",
             "minorgridcolor": "white",
             "startlinecolor": "#2a3f5f"
            },
            "baxis": {
             "endlinecolor": "#2a3f5f",
             "gridcolor": "white",
             "linecolor": "white",
             "minorgridcolor": "white",
             "startlinecolor": "#2a3f5f"
            },
            "type": "carpet"
           }
          ],
          "choropleth": [
           {
            "colorbar": {
             "outlinewidth": 0,
             "ticks": ""
            },
            "type": "choropleth"
           }
          ],
          "contour": [
           {
            "colorbar": {
             "outlinewidth": 0,
             "ticks": ""
            },
            "colorscale": [
             [
              0,
              "#0d0887"
             ],
             [
              0.1111111111111111,
              "#46039f"
             ],
             [
              0.2222222222222222,
              "#7201a8"
             ],
             [
              0.3333333333333333,
              "#9c179e"
             ],
             [
              0.4444444444444444,
              "#bd3786"
             ],
             [
              0.5555555555555556,
              "#d8576b"
             ],
             [
              0.6666666666666666,
              "#ed7953"
             ],
             [
              0.7777777777777778,
              "#fb9f3a"
             ],
             [
              0.8888888888888888,
              "#fdca26"
             ],
             [
              1,
              "#f0f921"
             ]
            ],
            "type": "contour"
           }
          ],
          "contourcarpet": [
           {
            "colorbar": {
             "outlinewidth": 0,
             "ticks": ""
            },
            "type": "contourcarpet"
           }
          ],
          "heatmap": [
           {
            "colorbar": {
             "outlinewidth": 0,
             "ticks": ""
            },
            "colorscale": [
             [
              0,
              "#0d0887"
             ],
             [
              0.1111111111111111,
              "#46039f"
             ],
             [
              0.2222222222222222,
              "#7201a8"
             ],
             [
              0.3333333333333333,
              "#9c179e"
             ],
             [
              0.4444444444444444,
              "#bd3786"
             ],
             [
              0.5555555555555556,
              "#d8576b"
             ],
             [
              0.6666666666666666,
              "#ed7953"
             ],
             [
              0.7777777777777778,
              "#fb9f3a"
             ],
             [
              0.8888888888888888,
              "#fdca26"
             ],
             [
              1,
              "#f0f921"
             ]
            ],
            "type": "heatmap"
           }
          ],
          "heatmapgl": [
           {
            "colorbar": {
             "outlinewidth": 0,
             "ticks": ""
            },
            "colorscale": [
             [
              0,
              "#0d0887"
             ],
             [
              0.1111111111111111,
              "#46039f"
             ],
             [
              0.2222222222222222,
              "#7201a8"
             ],
             [
              0.3333333333333333,
              "#9c179e"
             ],
             [
              0.4444444444444444,
              "#bd3786"
             ],
             [
              0.5555555555555556,
              "#d8576b"
             ],
             [
              0.6666666666666666,
              "#ed7953"
             ],
             [
              0.7777777777777778,
              "#fb9f3a"
             ],
             [
              0.8888888888888888,
              "#fdca26"
             ],
             [
              1,
              "#f0f921"
             ]
            ],
            "type": "heatmapgl"
           }
          ],
          "histogram": [
           {
            "marker": {
             "pattern": {
              "fillmode": "overlay",
              "size": 10,
              "solidity": 0.2
             }
            },
            "type": "histogram"
           }
          ],
          "histogram2d": [
           {
            "colorbar": {
             "outlinewidth": 0,
             "ticks": ""
            },
            "colorscale": [
             [
              0,
              "#0d0887"
             ],
             [
              0.1111111111111111,
              "#46039f"
             ],
             [
              0.2222222222222222,
              "#7201a8"
             ],
             [
              0.3333333333333333,
              "#9c179e"
             ],
             [
              0.4444444444444444,
              "#bd3786"
             ],
             [
              0.5555555555555556,
              "#d8576b"
             ],
             [
              0.6666666666666666,
              "#ed7953"
             ],
             [
              0.7777777777777778,
              "#fb9f3a"
             ],
             [
              0.8888888888888888,
              "#fdca26"
             ],
             [
              1,
              "#f0f921"
             ]
            ],
            "type": "histogram2d"
           }
          ],
          "histogram2dcontour": [
           {
            "colorbar": {
             "outlinewidth": 0,
             "ticks": ""
            },
            "colorscale": [
             [
              0,
              "#0d0887"
             ],
             [
              0.1111111111111111,
              "#46039f"
             ],
             [
              0.2222222222222222,
              "#7201a8"
             ],
             [
              0.3333333333333333,
              "#9c179e"
             ],
             [
              0.4444444444444444,
              "#bd3786"
             ],
             [
              0.5555555555555556,
              "#d8576b"
             ],
             [
              0.6666666666666666,
              "#ed7953"
             ],
             [
              0.7777777777777778,
              "#fb9f3a"
             ],
             [
              0.8888888888888888,
              "#fdca26"
             ],
             [
              1,
              "#f0f921"
             ]
            ],
            "type": "histogram2dcontour"
           }
          ],
          "mesh3d": [
           {
            "colorbar": {
             "outlinewidth": 0,
             "ticks": ""
            },
            "type": "mesh3d"
           }
          ],
          "parcoords": [
           {
            "line": {
             "colorbar": {
              "outlinewidth": 0,
              "ticks": ""
             }
            },
            "type": "parcoords"
           }
          ],
          "pie": [
           {
            "automargin": true,
            "type": "pie"
           }
          ],
          "scatter": [
           {
            "fillpattern": {
             "fillmode": "overlay",
             "size": 10,
             "solidity": 0.2
            },
            "type": "scatter"
           }
          ],
          "scatter3d": [
           {
            "line": {
             "colorbar": {
              "outlinewidth": 0,
              "ticks": ""
             }
            },
            "marker": {
             "colorbar": {
              "outlinewidth": 0,
              "ticks": ""
             }
            },
            "type": "scatter3d"
           }
          ],
          "scattercarpet": [
           {
            "marker": {
             "colorbar": {
              "outlinewidth": 0,
              "ticks": ""
             }
            },
            "type": "scattercarpet"
           }
          ],
          "scattergeo": [
           {
            "marker": {
             "colorbar": {
              "outlinewidth": 0,
              "ticks": ""
             }
            },
            "type": "scattergeo"
           }
          ],
          "scattergl": [
           {
            "marker": {
             "colorbar": {
              "outlinewidth": 0,
              "ticks": ""
             }
            },
            "type": "scattergl"
           }
          ],
          "scattermapbox": [
           {
            "marker": {
             "colorbar": {
              "outlinewidth": 0,
              "ticks": ""
             }
            },
            "type": "scattermapbox"
           }
          ],
          "scatterpolar": [
           {
            "marker": {
             "colorbar": {
              "outlinewidth": 0,
              "ticks": ""
             }
            },
            "type": "scatterpolar"
           }
          ],
          "scatterpolargl": [
           {
            "marker": {
             "colorbar": {
              "outlinewidth": 0,
              "ticks": ""
             }
            },
            "type": "scatterpolargl"
           }
          ],
          "scatterternary": [
           {
            "marker": {
             "colorbar": {
              "outlinewidth": 0,
              "ticks": ""
             }
            },
            "type": "scatterternary"
           }
          ],
          "surface": [
           {
            "colorbar": {
             "outlinewidth": 0,
             "ticks": ""
            },
            "colorscale": [
             [
              0,
              "#0d0887"
             ],
             [
              0.1111111111111111,
              "#46039f"
             ],
             [
              0.2222222222222222,
              "#7201a8"
             ],
             [
              0.3333333333333333,
              "#9c179e"
             ],
             [
              0.4444444444444444,
              "#bd3786"
             ],
             [
              0.5555555555555556,
              "#d8576b"
             ],
             [
              0.6666666666666666,
              "#ed7953"
             ],
             [
              0.7777777777777778,
              "#fb9f3a"
             ],
             [
              0.8888888888888888,
              "#fdca26"
             ],
             [
              1,
              "#f0f921"
             ]
            ],
            "type": "surface"
           }
          ],
          "table": [
           {
            "cells": {
             "fill": {
              "color": "#EBF0F8"
             },
             "line": {
              "color": "white"
             }
            },
            "header": {
             "fill": {
              "color": "#C8D4E3"
             },
             "line": {
              "color": "white"
             }
            },
            "type": "table"
           }
          ]
         },
         "layout": {
          "annotationdefaults": {
           "arrowcolor": "#2a3f5f",
           "arrowhead": 0,
           "arrowwidth": 1
          },
          "autotypenumbers": "strict",
          "coloraxis": {
           "colorbar": {
            "outlinewidth": 0,
            "ticks": ""
           }
          },
          "colorscale": {
           "diverging": [
            [
             0,
             "#8e0152"
            ],
            [
             0.1,
             "#c51b7d"
            ],
            [
             0.2,
             "#de77ae"
            ],
            [
             0.3,
             "#f1b6da"
            ],
            [
             0.4,
             "#fde0ef"
            ],
            [
             0.5,
             "#f7f7f7"
            ],
            [
             0.6,
             "#e6f5d0"
            ],
            [
             0.7,
             "#b8e186"
            ],
            [
             0.8,
             "#7fbc41"
            ],
            [
             0.9,
             "#4d9221"
            ],
            [
             1,
             "#276419"
            ]
           ],
           "sequential": [
            [
             0,
             "#0d0887"
            ],
            [
             0.1111111111111111,
             "#46039f"
            ],
            [
             0.2222222222222222,
             "#7201a8"
            ],
            [
             0.3333333333333333,
             "#9c179e"
            ],
            [
             0.4444444444444444,
             "#bd3786"
            ],
            [
             0.5555555555555556,
             "#d8576b"
            ],
            [
             0.6666666666666666,
             "#ed7953"
            ],
            [
             0.7777777777777778,
             "#fb9f3a"
            ],
            [
             0.8888888888888888,
             "#fdca26"
            ],
            [
             1,
             "#f0f921"
            ]
           ],
           "sequentialminus": [
            [
             0,
             "#0d0887"
            ],
            [
             0.1111111111111111,
             "#46039f"
            ],
            [
             0.2222222222222222,
             "#7201a8"
            ],
            [
             0.3333333333333333,
             "#9c179e"
            ],
            [
             0.4444444444444444,
             "#bd3786"
            ],
            [
             0.5555555555555556,
             "#d8576b"
            ],
            [
             0.6666666666666666,
             "#ed7953"
            ],
            [
             0.7777777777777778,
             "#fb9f3a"
            ],
            [
             0.8888888888888888,
             "#fdca26"
            ],
            [
             1,
             "#f0f921"
            ]
           ]
          },
          "colorway": [
           "#636efa",
           "#EF553B",
           "#00cc96",
           "#ab63fa",
           "#FFA15A",
           "#19d3f3",
           "#FF6692",
           "#B6E880",
           "#FF97FF",
           "#FECB52"
          ],
          "font": {
           "color": "#2a3f5f"
          },
          "geo": {
           "bgcolor": "white",
           "lakecolor": "white",
           "landcolor": "#E5ECF6",
           "showlakes": true,
           "showland": true,
           "subunitcolor": "white"
          },
          "hoverlabel": {
           "align": "left"
          },
          "hovermode": "closest",
          "mapbox": {
           "style": "light"
          },
          "paper_bgcolor": "white",
          "plot_bgcolor": "#E5ECF6",
          "polar": {
           "angularaxis": {
            "gridcolor": "white",
            "linecolor": "white",
            "ticks": ""
           },
           "bgcolor": "#E5ECF6",
           "radialaxis": {
            "gridcolor": "white",
            "linecolor": "white",
            "ticks": ""
           }
          },
          "scene": {
           "xaxis": {
            "backgroundcolor": "#E5ECF6",
            "gridcolor": "white",
            "gridwidth": 2,
            "linecolor": "white",
            "showbackground": true,
            "ticks": "",
            "zerolinecolor": "white"
           },
           "yaxis": {
            "backgroundcolor": "#E5ECF6",
            "gridcolor": "white",
            "gridwidth": 2,
            "linecolor": "white",
            "showbackground": true,
            "ticks": "",
            "zerolinecolor": "white"
           },
           "zaxis": {
            "backgroundcolor": "#E5ECF6",
            "gridcolor": "white",
            "gridwidth": 2,
            "linecolor": "white",
            "showbackground": true,
            "ticks": "",
            "zerolinecolor": "white"
           }
          },
          "shapedefaults": {
           "line": {
            "color": "#2a3f5f"
           }
          },
          "ternary": {
           "aaxis": {
            "gridcolor": "white",
            "linecolor": "white",
            "ticks": ""
           },
           "baxis": {
            "gridcolor": "white",
            "linecolor": "white",
            "ticks": ""
           },
           "bgcolor": "#E5ECF6",
           "caxis": {
            "gridcolor": "white",
            "linecolor": "white",
            "ticks": ""
           }
          },
          "title": {
           "x": 0.05
          },
          "xaxis": {
           "automargin": true,
           "gridcolor": "white",
           "linecolor": "white",
           "ticks": "",
           "title": {
            "standoff": 15
           },
           "zerolinecolor": "white",
           "zerolinewidth": 2
          },
          "yaxis": {
           "automargin": true,
           "gridcolor": "white",
           "linecolor": "white",
           "ticks": "",
           "title": {
            "standoff": 15
           },
           "zerolinecolor": "white",
           "zerolinewidth": 2
          }
         }
        },
        "title": {
         "text": "class: UB"
        },
        "yaxis": {
         "title": {
          "text": "signal"
         }
        }
       }
      }
     },
     "metadata": {},
     "output_type": "display_data"
    }
   ],
   "source": [
    "for i in range(5):\n",
    "    plot_label(i)"
   ]
  },
  {
   "cell_type": "code",
   "execution_count": null,
   "metadata": {},
   "outputs": [],
   "source": []
  }
 ],
 "metadata": {
  "kernelspec": {
   "display_name": "venv",
   "language": "python",
   "name": "python3"
  },
  "language_info": {
   "codemirror_mode": {
    "name": "ipython",
    "version": 3
   },
   "file_extension": ".py",
   "mimetype": "text/x-python",
   "name": "python",
   "nbconvert_exporter": "python",
   "pygments_lexer": "ipython3",
   "version": "3.11.5"
  }
 },
 "nbformat": 4,
 "nbformat_minor": 2
}
